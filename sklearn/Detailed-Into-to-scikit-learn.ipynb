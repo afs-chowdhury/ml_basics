{
 "cells": [
  {
   "cell_type": "code",
   "execution_count": 1,
   "id": "engaging-shower",
   "metadata": {},
   "outputs": [],
   "source": [
    "# standard imports \n",
    "\n",
    "import numpy as np\n",
    "import pandas as pd\n",
    "import matplotlib.pyplot as plt\n",
    "%matplotlib inline\n"
   ]
  },
  {
   "cell_type": "markdown",
   "id": "authorized-craft",
   "metadata": {},
   "source": [
    "### 1. Getting data ready to be used in the machine learning model \n",
    "\n",
    "   \n",
    "Generallly we need to perform three main things :\n",
    "\n",
    "  1. Split the data into features and labels ( usually **'X'** and **'y'** )\n",
    "  2. Filling ( also called imputing ) or disregarding missing values\n",
    "  3. Converting non- numerical values to numerical values ( also called feature encoding )"
   ]
  },
  {
   "cell_type": "code",
   "execution_count": 2,
   "id": "derived-possession",
   "metadata": {},
   "outputs": [
    {
     "data": {
      "text/html": [
       "<div>\n",
       "<style scoped>\n",
       "    .dataframe tbody tr th:only-of-type {\n",
       "        vertical-align: middle;\n",
       "    }\n",
       "\n",
       "    .dataframe tbody tr th {\n",
       "        vertical-align: top;\n",
       "    }\n",
       "\n",
       "    .dataframe thead th {\n",
       "        text-align: right;\n",
       "    }\n",
       "</style>\n",
       "<table border=\"1\" class=\"dataframe\">\n",
       "  <thead>\n",
       "    <tr style=\"text-align: right;\">\n",
       "      <th></th>\n",
       "      <th>age</th>\n",
       "      <th>sex</th>\n",
       "      <th>cp</th>\n",
       "      <th>trestbps</th>\n",
       "      <th>chol</th>\n",
       "      <th>fbs</th>\n",
       "      <th>restecg</th>\n",
       "      <th>thalach</th>\n",
       "      <th>exang</th>\n",
       "      <th>oldpeak</th>\n",
       "      <th>slope</th>\n",
       "      <th>ca</th>\n",
       "      <th>thal</th>\n",
       "      <th>target</th>\n",
       "    </tr>\n",
       "  </thead>\n",
       "  <tbody>\n",
       "    <tr>\n",
       "      <th>0</th>\n",
       "      <td>63</td>\n",
       "      <td>1</td>\n",
       "      <td>3</td>\n",
       "      <td>145</td>\n",
       "      <td>233</td>\n",
       "      <td>1</td>\n",
       "      <td>0</td>\n",
       "      <td>150</td>\n",
       "      <td>0</td>\n",
       "      <td>2.3</td>\n",
       "      <td>0</td>\n",
       "      <td>0</td>\n",
       "      <td>1</td>\n",
       "      <td>1</td>\n",
       "    </tr>\n",
       "    <tr>\n",
       "      <th>1</th>\n",
       "      <td>37</td>\n",
       "      <td>1</td>\n",
       "      <td>2</td>\n",
       "      <td>130</td>\n",
       "      <td>250</td>\n",
       "      <td>0</td>\n",
       "      <td>1</td>\n",
       "      <td>187</td>\n",
       "      <td>0</td>\n",
       "      <td>3.5</td>\n",
       "      <td>0</td>\n",
       "      <td>0</td>\n",
       "      <td>2</td>\n",
       "      <td>1</td>\n",
       "    </tr>\n",
       "    <tr>\n",
       "      <th>2</th>\n",
       "      <td>41</td>\n",
       "      <td>0</td>\n",
       "      <td>1</td>\n",
       "      <td>130</td>\n",
       "      <td>204</td>\n",
       "      <td>0</td>\n",
       "      <td>0</td>\n",
       "      <td>172</td>\n",
       "      <td>0</td>\n",
       "      <td>1.4</td>\n",
       "      <td>2</td>\n",
       "      <td>0</td>\n",
       "      <td>2</td>\n",
       "      <td>1</td>\n",
       "    </tr>\n",
       "    <tr>\n",
       "      <th>3</th>\n",
       "      <td>56</td>\n",
       "      <td>1</td>\n",
       "      <td>1</td>\n",
       "      <td>120</td>\n",
       "      <td>236</td>\n",
       "      <td>0</td>\n",
       "      <td>1</td>\n",
       "      <td>178</td>\n",
       "      <td>0</td>\n",
       "      <td>0.8</td>\n",
       "      <td>2</td>\n",
       "      <td>0</td>\n",
       "      <td>2</td>\n",
       "      <td>1</td>\n",
       "    </tr>\n",
       "    <tr>\n",
       "      <th>4</th>\n",
       "      <td>57</td>\n",
       "      <td>0</td>\n",
       "      <td>0</td>\n",
       "      <td>120</td>\n",
       "      <td>354</td>\n",
       "      <td>0</td>\n",
       "      <td>1</td>\n",
       "      <td>163</td>\n",
       "      <td>1</td>\n",
       "      <td>0.6</td>\n",
       "      <td>2</td>\n",
       "      <td>0</td>\n",
       "      <td>2</td>\n",
       "      <td>1</td>\n",
       "    </tr>\n",
       "  </tbody>\n",
       "</table>\n",
       "</div>"
      ],
      "text/plain": [
       "   age  sex  cp  trestbps  chol  fbs  restecg  thalach  exang  oldpeak  slope  \\\n",
       "0   63    1   3       145   233    1        0      150      0      2.3      0   \n",
       "1   37    1   2       130   250    0        1      187      0      3.5      0   \n",
       "2   41    0   1       130   204    0        0      172      0      1.4      2   \n",
       "3   56    1   1       120   236    0        1      178      0      0.8      2   \n",
       "4   57    0   0       120   354    0        1      163      1      0.6      2   \n",
       "\n",
       "   ca  thal  target  \n",
       "0   0     1       1  \n",
       "1   0     2       1  \n",
       "2   0     2       1  \n",
       "3   0     2       1  \n",
       "4   0     2       1  "
      ]
     },
     "execution_count": 2,
     "metadata": {},
     "output_type": "execute_result"
    }
   ],
   "source": [
    "heat_diesease = pd.read_csv(\"heart-disease.csv\")\n",
    "heat_diesease.head()"
   ]
  },
  {
   "cell_type": "code",
   "execution_count": 3,
   "id": "tamil-player",
   "metadata": {},
   "outputs": [
    {
     "data": {
      "text/html": [
       "<div>\n",
       "<style scoped>\n",
       "    .dataframe tbody tr th:only-of-type {\n",
       "        vertical-align: middle;\n",
       "    }\n",
       "\n",
       "    .dataframe tbody tr th {\n",
       "        vertical-align: top;\n",
       "    }\n",
       "\n",
       "    .dataframe thead th {\n",
       "        text-align: right;\n",
       "    }\n",
       "</style>\n",
       "<table border=\"1\" class=\"dataframe\">\n",
       "  <thead>\n",
       "    <tr style=\"text-align: right;\">\n",
       "      <th></th>\n",
       "      <th>age</th>\n",
       "      <th>sex</th>\n",
       "      <th>cp</th>\n",
       "      <th>trestbps</th>\n",
       "      <th>chol</th>\n",
       "      <th>fbs</th>\n",
       "      <th>restecg</th>\n",
       "      <th>thalach</th>\n",
       "      <th>exang</th>\n",
       "      <th>oldpeak</th>\n",
       "      <th>slope</th>\n",
       "      <th>ca</th>\n",
       "      <th>thal</th>\n",
       "    </tr>\n",
       "  </thead>\n",
       "  <tbody>\n",
       "    <tr>\n",
       "      <th>0</th>\n",
       "      <td>63</td>\n",
       "      <td>1</td>\n",
       "      <td>3</td>\n",
       "      <td>145</td>\n",
       "      <td>233</td>\n",
       "      <td>1</td>\n",
       "      <td>0</td>\n",
       "      <td>150</td>\n",
       "      <td>0</td>\n",
       "      <td>2.3</td>\n",
       "      <td>0</td>\n",
       "      <td>0</td>\n",
       "      <td>1</td>\n",
       "    </tr>\n",
       "    <tr>\n",
       "      <th>1</th>\n",
       "      <td>37</td>\n",
       "      <td>1</td>\n",
       "      <td>2</td>\n",
       "      <td>130</td>\n",
       "      <td>250</td>\n",
       "      <td>0</td>\n",
       "      <td>1</td>\n",
       "      <td>187</td>\n",
       "      <td>0</td>\n",
       "      <td>3.5</td>\n",
       "      <td>0</td>\n",
       "      <td>0</td>\n",
       "      <td>2</td>\n",
       "    </tr>\n",
       "    <tr>\n",
       "      <th>2</th>\n",
       "      <td>41</td>\n",
       "      <td>0</td>\n",
       "      <td>1</td>\n",
       "      <td>130</td>\n",
       "      <td>204</td>\n",
       "      <td>0</td>\n",
       "      <td>0</td>\n",
       "      <td>172</td>\n",
       "      <td>0</td>\n",
       "      <td>1.4</td>\n",
       "      <td>2</td>\n",
       "      <td>0</td>\n",
       "      <td>2</td>\n",
       "    </tr>\n",
       "    <tr>\n",
       "      <th>3</th>\n",
       "      <td>56</td>\n",
       "      <td>1</td>\n",
       "      <td>1</td>\n",
       "      <td>120</td>\n",
       "      <td>236</td>\n",
       "      <td>0</td>\n",
       "      <td>1</td>\n",
       "      <td>178</td>\n",
       "      <td>0</td>\n",
       "      <td>0.8</td>\n",
       "      <td>2</td>\n",
       "      <td>0</td>\n",
       "      <td>2</td>\n",
       "    </tr>\n",
       "    <tr>\n",
       "      <th>4</th>\n",
       "      <td>57</td>\n",
       "      <td>0</td>\n",
       "      <td>0</td>\n",
       "      <td>120</td>\n",
       "      <td>354</td>\n",
       "      <td>0</td>\n",
       "      <td>1</td>\n",
       "      <td>163</td>\n",
       "      <td>1</td>\n",
       "      <td>0.6</td>\n",
       "      <td>2</td>\n",
       "      <td>0</td>\n",
       "      <td>2</td>\n",
       "    </tr>\n",
       "  </tbody>\n",
       "</table>\n",
       "</div>"
      ],
      "text/plain": [
       "   age  sex  cp  trestbps  chol  fbs  restecg  thalach  exang  oldpeak  slope  \\\n",
       "0   63    1   3       145   233    1        0      150      0      2.3      0   \n",
       "1   37    1   2       130   250    0        1      187      0      3.5      0   \n",
       "2   41    0   1       130   204    0        0      172      0      1.4      2   \n",
       "3   56    1   1       120   236    0        1      178      0      0.8      2   \n",
       "4   57    0   0       120   354    0        1      163      1      0.6      2   \n",
       "\n",
       "   ca  thal  \n",
       "0   0     1  \n",
       "1   0     2  \n",
       "2   0     2  \n",
       "3   0     2  \n",
       "4   0     2  "
      ]
     },
     "execution_count": 3,
     "metadata": {},
     "output_type": "execute_result"
    }
   ],
   "source": [
    "# Feature selection \n",
    "\n",
    "X = heat_diesease.drop(\"target\",axis=1)\n",
    "X.head()"
   ]
  },
  {
   "cell_type": "code",
   "execution_count": 4,
   "id": "reported-quest",
   "metadata": {},
   "outputs": [
    {
     "data": {
      "text/plain": [
       "0    1\n",
       "1    1\n",
       "2    1\n",
       "3    1\n",
       "4    1\n",
       "Name: target, dtype: int64"
      ]
     },
     "execution_count": 4,
     "metadata": {},
     "output_type": "execute_result"
    }
   ],
   "source": [
    "# label selection \n",
    "\n",
    "y = heat_diesease[\"target\"]\n",
    "y.head()"
   ]
  },
  {
   "cell_type": "code",
   "execution_count": 5,
   "id": "political-reminder",
   "metadata": {},
   "outputs": [],
   "source": [
    "# split the data into training  and test sets\n",
    "\n",
    "from sklearn.model_selection import train_test_split\n",
    "\n",
    "X_train, X_test , y_train , y_test   = train_test_split(X,y,test_size=0.2)\n",
    "\n",
    "\n",
    "\n"
   ]
  },
  {
   "cell_type": "code",
   "execution_count": 6,
   "id": "veterinary-times",
   "metadata": {},
   "outputs": [
    {
     "data": {
      "text/plain": [
       "((242, 13), (61, 13), (242,), (61,))"
      ]
     },
     "execution_count": 6,
     "metadata": {},
     "output_type": "execute_result"
    }
   ],
   "source": [
    "X_train.shape , X_test.shape , y_train.shape, y_test.shape"
   ]
  },
  {
   "cell_type": "code",
   "execution_count": 7,
   "id": "major-inspector",
   "metadata": {},
   "outputs": [
    {
     "data": {
      "text/plain": [
       "(303, 303)"
      ]
     },
     "execution_count": 7,
     "metadata": {},
     "output_type": "execute_result"
    }
   ],
   "source": [
    "X_train.shape[0]+ X_test.shape[0] , X.shape[0]"
   ]
  },
  {
   "cell_type": "markdown",
   "id": "warming-control",
   "metadata": {},
   "source": [
    "## 1.1 Make sure it's all numerical "
   ]
  },
  {
   "cell_type": "code",
   "execution_count": 8,
   "id": "caroline-naples",
   "metadata": {},
   "outputs": [
    {
     "data": {
      "text/html": [
       "<div>\n",
       "<style scoped>\n",
       "    .dataframe tbody tr th:only-of-type {\n",
       "        vertical-align: middle;\n",
       "    }\n",
       "\n",
       "    .dataframe tbody tr th {\n",
       "        vertical-align: top;\n",
       "    }\n",
       "\n",
       "    .dataframe thead th {\n",
       "        text-align: right;\n",
       "    }\n",
       "</style>\n",
       "<table border=\"1\" class=\"dataframe\">\n",
       "  <thead>\n",
       "    <tr style=\"text-align: right;\">\n",
       "      <th></th>\n",
       "      <th>Make</th>\n",
       "      <th>Colour</th>\n",
       "      <th>Odometer (KM)</th>\n",
       "      <th>Doors</th>\n",
       "      <th>Price</th>\n",
       "    </tr>\n",
       "  </thead>\n",
       "  <tbody>\n",
       "    <tr>\n",
       "      <th>0</th>\n",
       "      <td>Honda</td>\n",
       "      <td>White</td>\n",
       "      <td>35431</td>\n",
       "      <td>4</td>\n",
       "      <td>15323</td>\n",
       "    </tr>\n",
       "    <tr>\n",
       "      <th>1</th>\n",
       "      <td>BMW</td>\n",
       "      <td>Blue</td>\n",
       "      <td>192714</td>\n",
       "      <td>5</td>\n",
       "      <td>19943</td>\n",
       "    </tr>\n",
       "    <tr>\n",
       "      <th>2</th>\n",
       "      <td>Honda</td>\n",
       "      <td>White</td>\n",
       "      <td>84714</td>\n",
       "      <td>4</td>\n",
       "      <td>28343</td>\n",
       "    </tr>\n",
       "    <tr>\n",
       "      <th>3</th>\n",
       "      <td>Toyota</td>\n",
       "      <td>White</td>\n",
       "      <td>154365</td>\n",
       "      <td>4</td>\n",
       "      <td>13434</td>\n",
       "    </tr>\n",
       "    <tr>\n",
       "      <th>4</th>\n",
       "      <td>Nissan</td>\n",
       "      <td>Blue</td>\n",
       "      <td>181577</td>\n",
       "      <td>3</td>\n",
       "      <td>14043</td>\n",
       "    </tr>\n",
       "  </tbody>\n",
       "</table>\n",
       "</div>"
      ],
      "text/plain": [
       "     Make Colour  Odometer (KM)  Doors  Price\n",
       "0   Honda  White          35431      4  15323\n",
       "1     BMW   Blue         192714      5  19943\n",
       "2   Honda  White          84714      4  28343\n",
       "3  Toyota  White         154365      4  13434\n",
       "4  Nissan   Blue         181577      3  14043"
      ]
     },
     "execution_count": 8,
     "metadata": {},
     "output_type": "execute_result"
    }
   ],
   "source": [
    "car_sales = pd.read_csv(\"car-sales-extended.csv\")\n",
    "car_sales.head()"
   ]
  },
  {
   "cell_type": "code",
   "execution_count": 9,
   "id": "mobile-parameter",
   "metadata": {},
   "outputs": [
    {
     "data": {
      "text/plain": [
       "1000"
      ]
     },
     "execution_count": 9,
     "metadata": {},
     "output_type": "execute_result"
    }
   ],
   "source": [
    "len(car_sales)"
   ]
  },
  {
   "cell_type": "code",
   "execution_count": 10,
   "id": "simple-temple",
   "metadata": {},
   "outputs": [
    {
     "data": {
      "text/plain": [
       "Make             object\n",
       "Colour           object\n",
       "Odometer (KM)     int64\n",
       "Doors             int64\n",
       "Price             int64\n",
       "dtype: object"
      ]
     },
     "execution_count": 10,
     "metadata": {},
     "output_type": "execute_result"
    }
   ],
   "source": [
    "car_sales.dtypes"
   ]
  },
  {
   "cell_type": "code",
   "execution_count": 11,
   "id": "neither-beginning",
   "metadata": {},
   "outputs": [
    {
     "data": {
      "text/plain": [
       "str"
      ]
     },
     "execution_count": 11,
     "metadata": {},
     "output_type": "execute_result"
    }
   ],
   "source": [
    "type(car_sales[\"Make\"][0])"
   ]
  },
  {
   "cell_type": "code",
   "execution_count": 12,
   "id": "developmental-killer",
   "metadata": {},
   "outputs": [
    {
     "data": {
      "text/plain": [
       "(     Make Colour  Odometer (KM)  Doors\n",
       " 0   Honda  White          35431      4\n",
       " 1     BMW   Blue         192714      5\n",
       " 2   Honda  White          84714      4\n",
       " 3  Toyota  White         154365      4\n",
       " 4  Nissan   Blue         181577      3,\n",
       " 0    15323\n",
       " 1    19943\n",
       " 2    28343\n",
       " 3    13434\n",
       " 4    14043\n",
       " Name: Price, dtype: int64)"
      ]
     },
     "execution_count": 12,
     "metadata": {},
     "output_type": "execute_result"
    }
   ],
   "source": [
    "# split the data into X and y features and labels selection \n",
    "\n",
    "X = car_sales.drop(\"Price\",axis=1)\n",
    "\n",
    "y = car_sales[\"Price\"]\n",
    "\n",
    "X.head(),y.head()\n",
    "\n"
   ]
  },
  {
   "cell_type": "code",
   "execution_count": 13,
   "id": "solved-black",
   "metadata": {},
   "outputs": [
    {
     "data": {
      "text/plain": [
       "(array([4, 5, 3], dtype=int64),\n",
       " 4    856\n",
       " 5     79\n",
       " 3     65\n",
       " Name: Doors, dtype: int64,\n",
       " 0    4\n",
       " dtype: int64)"
      ]
     },
     "execution_count": 13,
     "metadata": {},
     "output_type": "execute_result"
    }
   ],
   "source": [
    "car_sales[\"Doors\"].unique(), car_sales[\"Doors\"].value_counts(),car_sales[\"Doors\"].mode()"
   ]
  },
  {
   "cell_type": "code",
   "execution_count": 14,
   "id": "structured-yemen",
   "metadata": {},
   "outputs": [],
   "source": [
    "# split the data into training and test \n",
    "\n",
    "X_train , X_test ,y_train , y_test = train_test_split(X,y,test_size=0.2)"
   ]
  },
  {
   "cell_type": "code",
   "execution_count": 15,
   "id": "electrical-journalist",
   "metadata": {},
   "outputs": [
    {
     "ename": "ValueError",
     "evalue": "could not convert string to float: 'Honda'",
     "output_type": "error",
     "traceback": [
      "\u001b[1;31m---------------------------------------------------------------------------\u001b[0m",
      "\u001b[1;31mValueError\u001b[0m                                Traceback (most recent call last)",
      "\u001b[1;32m<ipython-input-15-f1888bc299da>\u001b[0m in \u001b[0;36m<module>\u001b[1;34m\u001b[0m\n\u001b[0;32m      6\u001b[0m \u001b[0mmodel\u001b[0m \u001b[1;33m=\u001b[0m \u001b[0mRandomForestRegressor\u001b[0m\u001b[1;33m(\u001b[0m\u001b[1;33m)\u001b[0m\u001b[1;33m\u001b[0m\u001b[1;33m\u001b[0m\u001b[0m\n\u001b[0;32m      7\u001b[0m \u001b[1;33m\u001b[0m\u001b[0m\n\u001b[1;32m----> 8\u001b[1;33m \u001b[0mmodel\u001b[0m\u001b[1;33m.\u001b[0m\u001b[0mfit\u001b[0m\u001b[1;33m(\u001b[0m\u001b[0mX_train\u001b[0m\u001b[1;33m,\u001b[0m\u001b[0my_train\u001b[0m\u001b[1;33m)\u001b[0m\u001b[1;33m\u001b[0m\u001b[1;33m\u001b[0m\u001b[0m\n\u001b[0m\u001b[0;32m      9\u001b[0m \u001b[1;33m\u001b[0m\u001b[0m\n\u001b[0;32m     10\u001b[0m \u001b[0mmodel\u001b[0m\u001b[1;33m.\u001b[0m\u001b[0mscore\u001b[0m\u001b[1;33m(\u001b[0m\u001b[0mX_test\u001b[0m\u001b[1;33m,\u001b[0m\u001b[0my_test\u001b[0m\u001b[1;33m)\u001b[0m\u001b[1;33m\u001b[0m\u001b[1;33m\u001b[0m\u001b[0m\n",
      "\u001b[1;32mE:\\codes\\Machine_learning\\mlcourse_codes\\numpy\\env\\lib\\site-packages\\sklearn\\ensemble\\_forest.py\u001b[0m in \u001b[0;36mfit\u001b[1;34m(self, X, y, sample_weight)\u001b[0m\n\u001b[0;32m    302\u001b[0m                 \u001b[1;34m\"sparse multilabel-indicator for y is not supported.\"\u001b[0m\u001b[1;33m\u001b[0m\u001b[1;33m\u001b[0m\u001b[0m\n\u001b[0;32m    303\u001b[0m             )\n\u001b[1;32m--> 304\u001b[1;33m         X, y = self._validate_data(X, y, multi_output=True,\n\u001b[0m\u001b[0;32m    305\u001b[0m                                    accept_sparse=\"csc\", dtype=DTYPE)\n\u001b[0;32m    306\u001b[0m         \u001b[1;32mif\u001b[0m \u001b[0msample_weight\u001b[0m \u001b[1;32mis\u001b[0m \u001b[1;32mnot\u001b[0m \u001b[1;32mNone\u001b[0m\u001b[1;33m:\u001b[0m\u001b[1;33m\u001b[0m\u001b[1;33m\u001b[0m\u001b[0m\n",
      "\u001b[1;32mE:\\codes\\Machine_learning\\mlcourse_codes\\numpy\\env\\lib\\site-packages\\sklearn\\base.py\u001b[0m in \u001b[0;36m_validate_data\u001b[1;34m(self, X, y, reset, validate_separately, **check_params)\u001b[0m\n\u001b[0;32m    431\u001b[0m                 \u001b[0my\u001b[0m \u001b[1;33m=\u001b[0m \u001b[0mcheck_array\u001b[0m\u001b[1;33m(\u001b[0m\u001b[0my\u001b[0m\u001b[1;33m,\u001b[0m \u001b[1;33m**\u001b[0m\u001b[0mcheck_y_params\u001b[0m\u001b[1;33m)\u001b[0m\u001b[1;33m\u001b[0m\u001b[1;33m\u001b[0m\u001b[0m\n\u001b[0;32m    432\u001b[0m             \u001b[1;32melse\u001b[0m\u001b[1;33m:\u001b[0m\u001b[1;33m\u001b[0m\u001b[1;33m\u001b[0m\u001b[0m\n\u001b[1;32m--> 433\u001b[1;33m                 \u001b[0mX\u001b[0m\u001b[1;33m,\u001b[0m \u001b[0my\u001b[0m \u001b[1;33m=\u001b[0m \u001b[0mcheck_X_y\u001b[0m\u001b[1;33m(\u001b[0m\u001b[0mX\u001b[0m\u001b[1;33m,\u001b[0m \u001b[0my\u001b[0m\u001b[1;33m,\u001b[0m \u001b[1;33m**\u001b[0m\u001b[0mcheck_params\u001b[0m\u001b[1;33m)\u001b[0m\u001b[1;33m\u001b[0m\u001b[1;33m\u001b[0m\u001b[0m\n\u001b[0m\u001b[0;32m    434\u001b[0m             \u001b[0mout\u001b[0m \u001b[1;33m=\u001b[0m \u001b[0mX\u001b[0m\u001b[1;33m,\u001b[0m \u001b[0my\u001b[0m\u001b[1;33m\u001b[0m\u001b[1;33m\u001b[0m\u001b[0m\n\u001b[0;32m    435\u001b[0m \u001b[1;33m\u001b[0m\u001b[0m\n",
      "\u001b[1;32mE:\\codes\\Machine_learning\\mlcourse_codes\\numpy\\env\\lib\\site-packages\\sklearn\\utils\\validation.py\u001b[0m in \u001b[0;36minner_f\u001b[1;34m(*args, **kwargs)\u001b[0m\n\u001b[0;32m     61\u001b[0m             \u001b[0mextra_args\u001b[0m \u001b[1;33m=\u001b[0m \u001b[0mlen\u001b[0m\u001b[1;33m(\u001b[0m\u001b[0margs\u001b[0m\u001b[1;33m)\u001b[0m \u001b[1;33m-\u001b[0m \u001b[0mlen\u001b[0m\u001b[1;33m(\u001b[0m\u001b[0mall_args\u001b[0m\u001b[1;33m)\u001b[0m\u001b[1;33m\u001b[0m\u001b[1;33m\u001b[0m\u001b[0m\n\u001b[0;32m     62\u001b[0m             \u001b[1;32mif\u001b[0m \u001b[0mextra_args\u001b[0m \u001b[1;33m<=\u001b[0m \u001b[1;36m0\u001b[0m\u001b[1;33m:\u001b[0m\u001b[1;33m\u001b[0m\u001b[1;33m\u001b[0m\u001b[0m\n\u001b[1;32m---> 63\u001b[1;33m                 \u001b[1;32mreturn\u001b[0m \u001b[0mf\u001b[0m\u001b[1;33m(\u001b[0m\u001b[1;33m*\u001b[0m\u001b[0margs\u001b[0m\u001b[1;33m,\u001b[0m \u001b[1;33m**\u001b[0m\u001b[0mkwargs\u001b[0m\u001b[1;33m)\u001b[0m\u001b[1;33m\u001b[0m\u001b[1;33m\u001b[0m\u001b[0m\n\u001b[0m\u001b[0;32m     64\u001b[0m \u001b[1;33m\u001b[0m\u001b[0m\n\u001b[0;32m     65\u001b[0m             \u001b[1;31m# extra_args > 0\u001b[0m\u001b[1;33m\u001b[0m\u001b[1;33m\u001b[0m\u001b[1;33m\u001b[0m\u001b[0m\n",
      "\u001b[1;32mE:\\codes\\Machine_learning\\mlcourse_codes\\numpy\\env\\lib\\site-packages\\sklearn\\utils\\validation.py\u001b[0m in \u001b[0;36mcheck_X_y\u001b[1;34m(X, y, accept_sparse, accept_large_sparse, dtype, order, copy, force_all_finite, ensure_2d, allow_nd, multi_output, ensure_min_samples, ensure_min_features, y_numeric, estimator)\u001b[0m\n\u001b[0;32m    812\u001b[0m         \u001b[1;32mraise\u001b[0m \u001b[0mValueError\u001b[0m\u001b[1;33m(\u001b[0m\u001b[1;34m\"y cannot be None\"\u001b[0m\u001b[1;33m)\u001b[0m\u001b[1;33m\u001b[0m\u001b[1;33m\u001b[0m\u001b[0m\n\u001b[0;32m    813\u001b[0m \u001b[1;33m\u001b[0m\u001b[0m\n\u001b[1;32m--> 814\u001b[1;33m     X = check_array(X, accept_sparse=accept_sparse,\n\u001b[0m\u001b[0;32m    815\u001b[0m                     \u001b[0maccept_large_sparse\u001b[0m\u001b[1;33m=\u001b[0m\u001b[0maccept_large_sparse\u001b[0m\u001b[1;33m,\u001b[0m\u001b[1;33m\u001b[0m\u001b[1;33m\u001b[0m\u001b[0m\n\u001b[0;32m    816\u001b[0m                     \u001b[0mdtype\u001b[0m\u001b[1;33m=\u001b[0m\u001b[0mdtype\u001b[0m\u001b[1;33m,\u001b[0m \u001b[0morder\u001b[0m\u001b[1;33m=\u001b[0m\u001b[0morder\u001b[0m\u001b[1;33m,\u001b[0m \u001b[0mcopy\u001b[0m\u001b[1;33m=\u001b[0m\u001b[0mcopy\u001b[0m\u001b[1;33m,\u001b[0m\u001b[1;33m\u001b[0m\u001b[1;33m\u001b[0m\u001b[0m\n",
      "\u001b[1;32mE:\\codes\\Machine_learning\\mlcourse_codes\\numpy\\env\\lib\\site-packages\\sklearn\\utils\\validation.py\u001b[0m in \u001b[0;36minner_f\u001b[1;34m(*args, **kwargs)\u001b[0m\n\u001b[0;32m     61\u001b[0m             \u001b[0mextra_args\u001b[0m \u001b[1;33m=\u001b[0m \u001b[0mlen\u001b[0m\u001b[1;33m(\u001b[0m\u001b[0margs\u001b[0m\u001b[1;33m)\u001b[0m \u001b[1;33m-\u001b[0m \u001b[0mlen\u001b[0m\u001b[1;33m(\u001b[0m\u001b[0mall_args\u001b[0m\u001b[1;33m)\u001b[0m\u001b[1;33m\u001b[0m\u001b[1;33m\u001b[0m\u001b[0m\n\u001b[0;32m     62\u001b[0m             \u001b[1;32mif\u001b[0m \u001b[0mextra_args\u001b[0m \u001b[1;33m<=\u001b[0m \u001b[1;36m0\u001b[0m\u001b[1;33m:\u001b[0m\u001b[1;33m\u001b[0m\u001b[1;33m\u001b[0m\u001b[0m\n\u001b[1;32m---> 63\u001b[1;33m                 \u001b[1;32mreturn\u001b[0m \u001b[0mf\u001b[0m\u001b[1;33m(\u001b[0m\u001b[1;33m*\u001b[0m\u001b[0margs\u001b[0m\u001b[1;33m,\u001b[0m \u001b[1;33m**\u001b[0m\u001b[0mkwargs\u001b[0m\u001b[1;33m)\u001b[0m\u001b[1;33m\u001b[0m\u001b[1;33m\u001b[0m\u001b[0m\n\u001b[0m\u001b[0;32m     64\u001b[0m \u001b[1;33m\u001b[0m\u001b[0m\n\u001b[0;32m     65\u001b[0m             \u001b[1;31m# extra_args > 0\u001b[0m\u001b[1;33m\u001b[0m\u001b[1;33m\u001b[0m\u001b[1;33m\u001b[0m\u001b[0m\n",
      "\u001b[1;32mE:\\codes\\Machine_learning\\mlcourse_codes\\numpy\\env\\lib\\site-packages\\sklearn\\utils\\validation.py\u001b[0m in \u001b[0;36mcheck_array\u001b[1;34m(array, accept_sparse, accept_large_sparse, dtype, order, copy, force_all_finite, ensure_2d, allow_nd, ensure_min_samples, ensure_min_features, estimator)\u001b[0m\n\u001b[0;32m    614\u001b[0m                     \u001b[0marray\u001b[0m \u001b[1;33m=\u001b[0m \u001b[0marray\u001b[0m\u001b[1;33m.\u001b[0m\u001b[0mastype\u001b[0m\u001b[1;33m(\u001b[0m\u001b[0mdtype\u001b[0m\u001b[1;33m,\u001b[0m \u001b[0mcasting\u001b[0m\u001b[1;33m=\u001b[0m\u001b[1;34m\"unsafe\"\u001b[0m\u001b[1;33m,\u001b[0m \u001b[0mcopy\u001b[0m\u001b[1;33m=\u001b[0m\u001b[1;32mFalse\u001b[0m\u001b[1;33m)\u001b[0m\u001b[1;33m\u001b[0m\u001b[1;33m\u001b[0m\u001b[0m\n\u001b[0;32m    615\u001b[0m                 \u001b[1;32melse\u001b[0m\u001b[1;33m:\u001b[0m\u001b[1;33m\u001b[0m\u001b[1;33m\u001b[0m\u001b[0m\n\u001b[1;32m--> 616\u001b[1;33m                     \u001b[0marray\u001b[0m \u001b[1;33m=\u001b[0m \u001b[0mnp\u001b[0m\u001b[1;33m.\u001b[0m\u001b[0masarray\u001b[0m\u001b[1;33m(\u001b[0m\u001b[0marray\u001b[0m\u001b[1;33m,\u001b[0m \u001b[0morder\u001b[0m\u001b[1;33m=\u001b[0m\u001b[0morder\u001b[0m\u001b[1;33m,\u001b[0m \u001b[0mdtype\u001b[0m\u001b[1;33m=\u001b[0m\u001b[0mdtype\u001b[0m\u001b[1;33m)\u001b[0m\u001b[1;33m\u001b[0m\u001b[1;33m\u001b[0m\u001b[0m\n\u001b[0m\u001b[0;32m    617\u001b[0m             \u001b[1;32mexcept\u001b[0m \u001b[0mComplexWarning\u001b[0m \u001b[1;32mas\u001b[0m \u001b[0mcomplex_warning\u001b[0m\u001b[1;33m:\u001b[0m\u001b[1;33m\u001b[0m\u001b[1;33m\u001b[0m\u001b[0m\n\u001b[0;32m    618\u001b[0m                 raise ValueError(\"Complex data not supported\\n\"\n",
      "\u001b[1;32mE:\\codes\\Machine_learning\\mlcourse_codes\\numpy\\env\\lib\\site-packages\\numpy\\core\\_asarray.py\u001b[0m in \u001b[0;36masarray\u001b[1;34m(a, dtype, order)\u001b[0m\n\u001b[0;32m     81\u001b[0m \u001b[1;33m\u001b[0m\u001b[0m\n\u001b[0;32m     82\u001b[0m     \"\"\"\n\u001b[1;32m---> 83\u001b[1;33m     \u001b[1;32mreturn\u001b[0m \u001b[0marray\u001b[0m\u001b[1;33m(\u001b[0m\u001b[0ma\u001b[0m\u001b[1;33m,\u001b[0m \u001b[0mdtype\u001b[0m\u001b[1;33m,\u001b[0m \u001b[0mcopy\u001b[0m\u001b[1;33m=\u001b[0m\u001b[1;32mFalse\u001b[0m\u001b[1;33m,\u001b[0m \u001b[0morder\u001b[0m\u001b[1;33m=\u001b[0m\u001b[0morder\u001b[0m\u001b[1;33m)\u001b[0m\u001b[1;33m\u001b[0m\u001b[1;33m\u001b[0m\u001b[0m\n\u001b[0m\u001b[0;32m     84\u001b[0m \u001b[1;33m\u001b[0m\u001b[0m\n\u001b[0;32m     85\u001b[0m \u001b[1;33m\u001b[0m\u001b[0m\n",
      "\u001b[1;32mE:\\codes\\Machine_learning\\mlcourse_codes\\numpy\\env\\lib\\site-packages\\pandas\\core\\generic.py\u001b[0m in \u001b[0;36m__array__\u001b[1;34m(self, dtype)\u001b[0m\n\u001b[0;32m   1897\u001b[0m \u001b[1;33m\u001b[0m\u001b[0m\n\u001b[0;32m   1898\u001b[0m     \u001b[1;32mdef\u001b[0m \u001b[0m__array__\u001b[0m\u001b[1;33m(\u001b[0m\u001b[0mself\u001b[0m\u001b[1;33m,\u001b[0m \u001b[0mdtype\u001b[0m\u001b[1;33m=\u001b[0m\u001b[1;32mNone\u001b[0m\u001b[1;33m)\u001b[0m \u001b[1;33m->\u001b[0m \u001b[0mnp\u001b[0m\u001b[1;33m.\u001b[0m\u001b[0mndarray\u001b[0m\u001b[1;33m:\u001b[0m\u001b[1;33m\u001b[0m\u001b[1;33m\u001b[0m\u001b[0m\n\u001b[1;32m-> 1899\u001b[1;33m         \u001b[1;32mreturn\u001b[0m \u001b[0mnp\u001b[0m\u001b[1;33m.\u001b[0m\u001b[0masarray\u001b[0m\u001b[1;33m(\u001b[0m\u001b[0mself\u001b[0m\u001b[1;33m.\u001b[0m\u001b[0m_values\u001b[0m\u001b[1;33m,\u001b[0m \u001b[0mdtype\u001b[0m\u001b[1;33m=\u001b[0m\u001b[0mdtype\u001b[0m\u001b[1;33m)\u001b[0m\u001b[1;33m\u001b[0m\u001b[1;33m\u001b[0m\u001b[0m\n\u001b[0m\u001b[0;32m   1900\u001b[0m \u001b[1;33m\u001b[0m\u001b[0m\n\u001b[0;32m   1901\u001b[0m     def __array_wrap__(\n",
      "\u001b[1;32mE:\\codes\\Machine_learning\\mlcourse_codes\\numpy\\env\\lib\\site-packages\\numpy\\core\\_asarray.py\u001b[0m in \u001b[0;36masarray\u001b[1;34m(a, dtype, order)\u001b[0m\n\u001b[0;32m     81\u001b[0m \u001b[1;33m\u001b[0m\u001b[0m\n\u001b[0;32m     82\u001b[0m     \"\"\"\n\u001b[1;32m---> 83\u001b[1;33m     \u001b[1;32mreturn\u001b[0m \u001b[0marray\u001b[0m\u001b[1;33m(\u001b[0m\u001b[0ma\u001b[0m\u001b[1;33m,\u001b[0m \u001b[0mdtype\u001b[0m\u001b[1;33m,\u001b[0m \u001b[0mcopy\u001b[0m\u001b[1;33m=\u001b[0m\u001b[1;32mFalse\u001b[0m\u001b[1;33m,\u001b[0m \u001b[0morder\u001b[0m\u001b[1;33m=\u001b[0m\u001b[0morder\u001b[0m\u001b[1;33m)\u001b[0m\u001b[1;33m\u001b[0m\u001b[1;33m\u001b[0m\u001b[0m\n\u001b[0m\u001b[0;32m     84\u001b[0m \u001b[1;33m\u001b[0m\u001b[0m\n\u001b[0;32m     85\u001b[0m \u001b[1;33m\u001b[0m\u001b[0m\n",
      "\u001b[1;31mValueError\u001b[0m: could not convert string to float: 'Honda'"
     ]
    }
   ],
   "source": [
    "# Build a machine learning model\n",
    "\n",
    "\n",
    "from sklearn.ensemble import RandomForestRegressor\n",
    "\n",
    "model = RandomForestRegressor()\n",
    "\n",
    "model.fit(X_train,y_train)\n",
    "\n",
    "model.score(X_test,y_test)"
   ]
  },
  {
   "cell_type": "markdown",
   "id": "loose-detective",
   "metadata": {},
   "source": [
    "this error occurs because the dataframe contains objects or string or non numerical values  . Let's transform  them into **numerical** values"
   ]
  },
  {
   "cell_type": "code",
   "execution_count": 16,
   "id": "olive-peter",
   "metadata": {
    "scrolled": true
   },
   "outputs": [
    {
     "data": {
      "text/html": [
       "<div>\n",
       "<style scoped>\n",
       "    .dataframe tbody tr th:only-of-type {\n",
       "        vertical-align: middle;\n",
       "    }\n",
       "\n",
       "    .dataframe tbody tr th {\n",
       "        vertical-align: top;\n",
       "    }\n",
       "\n",
       "    .dataframe thead th {\n",
       "        text-align: right;\n",
       "    }\n",
       "</style>\n",
       "<table border=\"1\" class=\"dataframe\">\n",
       "  <thead>\n",
       "    <tr style=\"text-align: right;\">\n",
       "      <th></th>\n",
       "      <th>0</th>\n",
       "      <th>1</th>\n",
       "      <th>2</th>\n",
       "      <th>3</th>\n",
       "      <th>4</th>\n",
       "      <th>5</th>\n",
       "      <th>6</th>\n",
       "      <th>7</th>\n",
       "      <th>8</th>\n",
       "      <th>9</th>\n",
       "      <th>10</th>\n",
       "      <th>11</th>\n",
       "      <th>12</th>\n",
       "    </tr>\n",
       "  </thead>\n",
       "  <tbody>\n",
       "    <tr>\n",
       "      <th>0</th>\n",
       "      <td>0.0</td>\n",
       "      <td>1.0</td>\n",
       "      <td>0.0</td>\n",
       "      <td>0.0</td>\n",
       "      <td>0.0</td>\n",
       "      <td>0.0</td>\n",
       "      <td>0.0</td>\n",
       "      <td>0.0</td>\n",
       "      <td>1.0</td>\n",
       "      <td>0.0</td>\n",
       "      <td>1.0</td>\n",
       "      <td>0.0</td>\n",
       "      <td>35431.0</td>\n",
       "    </tr>\n",
       "    <tr>\n",
       "      <th>1</th>\n",
       "      <td>1.0</td>\n",
       "      <td>0.0</td>\n",
       "      <td>0.0</td>\n",
       "      <td>0.0</td>\n",
       "      <td>0.0</td>\n",
       "      <td>1.0</td>\n",
       "      <td>0.0</td>\n",
       "      <td>0.0</td>\n",
       "      <td>0.0</td>\n",
       "      <td>0.0</td>\n",
       "      <td>0.0</td>\n",
       "      <td>1.0</td>\n",
       "      <td>192714.0</td>\n",
       "    </tr>\n",
       "    <tr>\n",
       "      <th>2</th>\n",
       "      <td>0.0</td>\n",
       "      <td>1.0</td>\n",
       "      <td>0.0</td>\n",
       "      <td>0.0</td>\n",
       "      <td>0.0</td>\n",
       "      <td>0.0</td>\n",
       "      <td>0.0</td>\n",
       "      <td>0.0</td>\n",
       "      <td>1.0</td>\n",
       "      <td>0.0</td>\n",
       "      <td>1.0</td>\n",
       "      <td>0.0</td>\n",
       "      <td>84714.0</td>\n",
       "    </tr>\n",
       "    <tr>\n",
       "      <th>3</th>\n",
       "      <td>0.0</td>\n",
       "      <td>0.0</td>\n",
       "      <td>0.0</td>\n",
       "      <td>1.0</td>\n",
       "      <td>0.0</td>\n",
       "      <td>0.0</td>\n",
       "      <td>0.0</td>\n",
       "      <td>0.0</td>\n",
       "      <td>1.0</td>\n",
       "      <td>0.0</td>\n",
       "      <td>1.0</td>\n",
       "      <td>0.0</td>\n",
       "      <td>154365.0</td>\n",
       "    </tr>\n",
       "    <tr>\n",
       "      <th>4</th>\n",
       "      <td>0.0</td>\n",
       "      <td>0.0</td>\n",
       "      <td>1.0</td>\n",
       "      <td>0.0</td>\n",
       "      <td>0.0</td>\n",
       "      <td>1.0</td>\n",
       "      <td>0.0</td>\n",
       "      <td>0.0</td>\n",
       "      <td>0.0</td>\n",
       "      <td>1.0</td>\n",
       "      <td>0.0</td>\n",
       "      <td>0.0</td>\n",
       "      <td>181577.0</td>\n",
       "    </tr>\n",
       "  </tbody>\n",
       "</table>\n",
       "</div>"
      ],
      "text/plain": [
       "    0    1    2    3    4    5    6    7    8    9    10   11        12\n",
       "0  0.0  1.0  0.0  0.0  0.0  0.0  0.0  0.0  1.0  0.0  1.0  0.0   35431.0\n",
       "1  1.0  0.0  0.0  0.0  0.0  1.0  0.0  0.0  0.0  0.0  0.0  1.0  192714.0\n",
       "2  0.0  1.0  0.0  0.0  0.0  0.0  0.0  0.0  1.0  0.0  1.0  0.0   84714.0\n",
       "3  0.0  0.0  0.0  1.0  0.0  0.0  0.0  0.0  1.0  0.0  1.0  0.0  154365.0\n",
       "4  0.0  0.0  1.0  0.0  0.0  1.0  0.0  0.0  0.0  1.0  0.0  0.0  181577.0"
      ]
     },
     "execution_count": 16,
     "metadata": {},
     "output_type": "execute_result"
    }
   ],
   "source": [
    "# Turn categories into numerical values\n",
    "\n",
    "from sklearn.preprocessing import OneHotEncoder \n",
    "\n",
    "from sklearn.compose import ColumnTransformer\n",
    "\n",
    "\n",
    "categorical_features = [\"Make\",\"Colour\",\"Doors\"]\n",
    "\n",
    "one_hot = OneHotEncoder()\n",
    "\n",
    "transformer = ColumnTransformer([(\"one_hot\",\n",
    "                                one_hot,\n",
    "                                categorical_features)],\n",
    "                               remainder=\"passthrough\")\n",
    "\n",
    "\n",
    "tranformed_X = transformer.fit_transform(X)\n",
    "\n",
    "pd.DataFrame(tranformed_X).head()"
   ]
  },
  {
   "cell_type": "code",
   "execution_count": null,
   "id": "lucky-nutrition",
   "metadata": {},
   "outputs": [],
   "source": [
    "dummies = pd.get_dummies(car_sales[[\"Make\",\"Colour\",\"Doors\"]])\n",
    "dummies"
   ]
  },
  {
   "cell_type": "code",
   "execution_count": null,
   "id": "fresh-transfer",
   "metadata": {},
   "outputs": [],
   "source": [
    "# lets refit the model\n",
    "\n",
    "np.random.seed(42)\n",
    "\n",
    "X_train ,X_test,y_train,y_test  = train_test_split(tranformed_X,y,test_size=0.2)\n",
    "\n",
    "from sklearn.ensemble import RandomForestRegressor\n",
    "\n",
    "model = RandomForestRegressor()\n",
    "\n",
    "model.fit(X_train,y_train)\n",
    "model.score(X_test,y_test)"
   ]
  },
  {
   "cell_type": "code",
   "execution_count": null,
   "id": "sharp-polymer",
   "metadata": {},
   "outputs": [],
   "source": [
    "from sklearn.linear_model import LinearRegression\n",
    "\n",
    "lin_model = LinearRegression()\n",
    "\n",
    "lin_model.fit(X_train,y_train)\n",
    "\n",
    "lin_model.score(X_test,y_test)"
   ]
  },
  {
   "cell_type": "markdown",
   "id": "applicable-syndrome",
   "metadata": {},
   "source": [
    "## 1.1 What if there is missing values in data :\n",
    " 1. Fill them with some values (also known as imputation ) . \n",
    "\n",
    " 2. Remove the samples with missing values altogether\n",
    "    "
   ]
  },
  {
   "cell_type": "markdown",
   "id": "increasing-species",
   "metadata": {},
   "source": [
    "# dealing with missing values with Pandas"
   ]
  },
  {
   "cell_type": "code",
   "execution_count": null,
   "id": "suffering-uzbekistan",
   "metadata": {},
   "outputs": [],
   "source": [
    "# import dataset with missing values \n",
    "\n",
    "car_sales_missing = pd.read_csv(\"car-sales-extended-missing-data.csv\")\n",
    "\n",
    "car_sales_missing.head()"
   ]
  },
  {
   "cell_type": "code",
   "execution_count": null,
   "id": "auburn-april",
   "metadata": {},
   "outputs": [],
   "source": [
    "# let's see how many missing values are there \n",
    "\n",
    "\n",
    "car_sales_missing.isna().sum()"
   ]
  },
  {
   "cell_type": "code",
   "execution_count": null,
   "id": "white-heather",
   "metadata": {},
   "outputs": [],
   "source": [
    "# drop the data without labels (y)\n",
    "car_sales_missing.dropna(subset=[\"Price\"],inplace=True)"
   ]
  },
  {
   "cell_type": "code",
   "execution_count": null,
   "id": "understood-mainstream",
   "metadata": {},
   "outputs": [],
   "source": [
    "len(car_sales_missing)"
   ]
  },
  {
   "cell_type": "code",
   "execution_count": null,
   "id": "casual-termination",
   "metadata": {},
   "outputs": [],
   "source": [
    "car_sales_missing.isna().sum()"
   ]
  },
  {
   "cell_type": "code",
   "execution_count": null,
   "id": "valid-financing",
   "metadata": {},
   "outputs": [],
   "source": [
    "# splitting dataset into X and y\n",
    "\n",
    "X = car_sales_missing.drop(\"Price\",axis=1)\n",
    "\n",
    "y = car_sales_missing[\"Price\"]\n",
    "\n",
    "# splitting data into training and test set \n",
    "\n",
    "np.random.seed(1)\n",
    "\n",
    "from sklearn.model_selection import train_test_split\n",
    "\n",
    "X_train , X_test ,y_train , y_test  = train_test_split(X,y,test_size=0.2)\n"
   ]
  },
  {
   "cell_type": "code",
   "execution_count": null,
   "id": "combined-mentor",
   "metadata": {},
   "outputs": [],
   "source": [
    "X.isna().sum(), y.isna().sum()  , X_train.isna().sum() , X_test.isna().sum()"
   ]
  },
  {
   "cell_type": "code",
   "execution_count": null,
   "id": "naughty-messaging",
   "metadata": {},
   "outputs": [],
   "source": [
    "X_train[\"Doors\"].value_counts(), X_train[\"Doors\"].mode()"
   ]
  },
  {
   "cell_type": "code",
   "execution_count": null,
   "id": "honest-internet",
   "metadata": {},
   "outputs": [],
   "source": [
    "# Filling the missing values using pandas\n",
    "\n",
    "\n",
    "# fill the Categorical featrures with missing and numerical features with mean \n",
    "\n",
    "# color\n",
    "\n",
    "X_train[\"Colour\"].fillna(\"Missing\",inplace=True)\n",
    "X_test[\"Colour\"].fillna(\"Missing\",inplace=True)\n",
    "\n",
    "# make\n",
    "\n",
    "X_train[\"Make\"].fillna(\"Missing\",inplace=True)\n",
    "X_test[\"Make\"].fillna(\"Missing\",inplace=True)\n",
    "\n",
    "# Odometer\n",
    "\n",
    "X_train[\"Odometer (KM)\"].fillna(X_train[\"Odometer (KM)\"].mean(),inplace=True)\n",
    "X_test[\"Odometer (KM)\"].fillna(X_test[\"Odometer (KM)\"].mean(),inplace=True)\n",
    "\n",
    "# doors\n",
    "\n",
    "X_train[\"Doors\"].fillna(4,inplace=True)\n",
    "X_test[\"Doors\"].fillna(4,inplace=True)\n",
    "\n",
    "\n",
    "\n"
   ]
  },
  {
   "cell_type": "code",
   "execution_count": null,
   "id": "starting-russell",
   "metadata": {},
   "outputs": [],
   "source": [
    "# transform the categorical features into numerical features\n",
    "\n",
    "from sklearn.preprocessing import OneHotEncoder\n",
    "from sklearn.compose import ColumnTransformer\n",
    "\n",
    "categorical_features =[\"Make\",\"Colour\",\"Doors\"]\n",
    "\n",
    "one_hot = OneHotEncoder()\n",
    "\n",
    "transfomer = ColumnTransformer([\n",
    "    (\"one_hot\", one_hot,categorical_features)\n",
    "],\n",
    "remainder=\"passthrough\")\n",
    "\n",
    "\n",
    "transformed_X_train = transformer.fit_transform(X_train)\n",
    "transfromed_X_test = transformer.transform(X_test)\n",
    "\n",
    "transformed_X_train.toarray()\n"
   ]
  },
  {
   "cell_type": "code",
   "execution_count": null,
   "id": "affecting-browser",
   "metadata": {},
   "outputs": [],
   "source": [
    "# fit the model and check the accuracy \n",
    "\n",
    "from sklearn.ensemble import RandomForestRegressor\n",
    "\n",
    "model = RandomForestRegressor()\n",
    "\n",
    "model.fit(transformed_X_train,y_train)\n",
    "\n",
    "model.score(transfromed_X_test,y_test)"
   ]
  },
  {
   "cell_type": "code",
   "execution_count": null,
   "id": "global-retail",
   "metadata": {},
   "outputs": [],
   "source": [
    "from sklearn.linear_model import LinearRegression\n",
    "\n",
    "lin_model = LinearRegression()\n",
    "\n",
    "lin_model.fit(transformed_X_train,y_train)\n",
    "lin_model.score(transfromed_X_test,y_test)"
   ]
  },
  {
   "cell_type": "markdown",
   "id": "serial-argument",
   "metadata": {},
   "source": [
    "## Option 2 :Fill missing values with Scikit-Learn"
   ]
  },
  {
   "cell_type": "code",
   "execution_count": null,
   "id": "contrary-worry",
   "metadata": {},
   "outputs": [],
   "source": [
    "car_sales_missing = pd.read_csv(\"car-sales-extended-missing-data.csv\")\n",
    "car_sales_missing.head()"
   ]
  },
  {
   "cell_type": "code",
   "execution_count": null,
   "id": "demanding-playlist",
   "metadata": {},
   "outputs": [],
   "source": [
    "# see how many missing values it contains \n",
    "\n",
    "car_sales_missing.isna().sum() , len(car_sales_missing)"
   ]
  },
  {
   "cell_type": "code",
   "execution_count": null,
   "id": "automotive-quarterly",
   "metadata": {},
   "outputs": [],
   "source": [
    "# drop rows without labels ( y or Price value)\n",
    "\n",
    "car_sales_missing.dropna(subset=[\"Price\"],inplace=True)\n",
    "\n",
    "car_sales_missing.isna().sum(), len(car_sales_missing)"
   ]
  },
  {
   "cell_type": "code",
   "execution_count": null,
   "id": "straight-terminal",
   "metadata": {},
   "outputs": [],
   "source": [
    "car_sales_missing.head()"
   ]
  },
  {
   "cell_type": "code",
   "execution_count": null,
   "id": "rubber-valley",
   "metadata": {},
   "outputs": [],
   "source": [
    "# split the dataset \n",
    "\n",
    "# split into X and y\n",
    "\n",
    "X = car_sales_missing.drop(\"Price\",axis=1)\n",
    "\n",
    "y= car_sales_missing[\"Price\"]\n",
    "\n",
    "\n",
    "\n",
    "# splitting into the train and test sets\n",
    "\n",
    "np.random.seed(77)\n",
    "\n",
    "from sklearn.model_selection import train_test_split\n",
    "\n",
    "\n",
    "X_train, X_test , y_train, y_test = train_test_split(X,y,test_size=0.2)"
   ]
  },
  {
   "cell_type": "code",
   "execution_count": null,
   "id": "voluntary-november",
   "metadata": {},
   "outputs": [],
   "source": [
    "X.isna().sum()"
   ]
  },
  {
   "cell_type": "code",
   "execution_count": null,
   "id": "polish-compatibility",
   "metadata": {},
   "outputs": [],
   "source": [
    "X_test"
   ]
  },
  {
   "cell_type": "code",
   "execution_count": null,
   "id": "geographic-boulder",
   "metadata": {},
   "outputs": [],
   "source": [
    "# Filling missing values with Scikit-Learn\n",
    "\n",
    "from sklearn.impute import SimpleImputer\n",
    "\n",
    "from sklearn.compose import ColumnTransformer\n",
    "\n",
    "\n",
    "# fill categorical features with missing and numerical values with mean \n",
    "\n",
    "cat_imputer = SimpleImputer(strategy=\"constant\", fill_value=\"missing\")\n",
    "doors_imputer = SimpleImputer(strategy=\"constant\", fill_value=4)\n",
    "num_imputer = SimpleImputer(strategy=\"mean\")\n",
    "\n",
    "# define colmns\n",
    "\n",
    "cat_features = [\"Make\",\"Colour\"]\n",
    "door_feature = [\"Doors\"]\n",
    "num_features = [\"Odometer (KM)\"]\n",
    "\n",
    "\n",
    "imputer = ColumnTransformer([\n",
    "    (\"cat_imputer\",cat_imputer,cat_features),\n",
    "    (\"doors_imputer\",doors_imputer,door_feature),\n",
    "    (\"num_imputer\",num_imputer,num_features)\n",
    "])\n",
    "\n",
    "filled_X_train = imputer.fit_transform(X_train)\n",
    "filled_X_test = imputer.transform(X_test)\n",
    "\n",
    "\n",
    "\n",
    "pd.DataFrame(filled_X_train).info"
   ]
  },
  {
   "cell_type": "code",
   "execution_count": null,
   "id": "legitimate-tragedy",
   "metadata": {},
   "outputs": [],
   "source": [
    "type(transformer) , transformer , imputer , type(filled_X_test)"
   ]
  },
  {
   "cell_type": "code",
   "execution_count": null,
   "id": "similar-adrian",
   "metadata": {},
   "outputs": [],
   "source": [
    "filled_X_train.shape,filled_X_test.shape"
   ]
  },
  {
   "cell_type": "code",
   "execution_count": null,
   "id": "cathedral-christmas",
   "metadata": {},
   "outputs": [],
   "source": [
    "# creating dataframe with filled values \n",
    "\n",
    "car_sales_filled_X_train = pd.DataFrame(filled_X_train,columns=[\"Make\",\"Colour\",\"Doors\",\"Odometer (KM)\"])\n",
    "car_sales_filled_X_test = pd.DataFrame(filled_X_test,columns=[\"Make\",\"Colour\",\"Doors\",\"Odometer (KM)\"])\n",
    "\n"
   ]
  },
  {
   "cell_type": "code",
   "execution_count": null,
   "id": "entire-scanner",
   "metadata": {},
   "outputs": [],
   "source": [
    "car_sales_filled_X_train.isna().sum()"
   ]
  },
  {
   "cell_type": "code",
   "execution_count": null,
   "id": "cooked-cameroon",
   "metadata": {},
   "outputs": [],
   "source": [
    "car_sales_filled_X_test.isna().sum()"
   ]
  },
  {
   "cell_type": "code",
   "execution_count": null,
   "id": "agreed-constant",
   "metadata": {},
   "outputs": [],
   "source": [
    "car_sales_missing.isna().sum()"
   ]
  },
  {
   "cell_type": "code",
   "execution_count": null,
   "id": "experimental-retail",
   "metadata": {},
   "outputs": [],
   "source": [
    "car_sales_filled_X_train.head()"
   ]
  },
  {
   "cell_type": "code",
   "execution_count": null,
   "id": "decent-uniform",
   "metadata": {},
   "outputs": [],
   "source": [
    "# now transform the categorical features into numerical features \n",
    "\n",
    "from sklearn.preprocessing import OneHotEncoder\n",
    "from sklearn.compose import ColumnTransformer\n",
    "\n",
    "\n",
    "categorical_features = [\"Make\",\"Colour\",\"Doors\"]\n",
    "\n",
    "one_hot = OneHotEncoder()\n",
    "\n",
    "transformer = ColumnTransformer([\n",
    "    (\"one_hot\",one_hot,categorical_features)\n",
    "],\n",
    "remainder=\"passthrough\")\n",
    "\n",
    "transformed_X_train= transformer.fit_transform(car_sales_filled_X_train)\n",
    "transformed_X_test= transformer.transform(car_sales_filled_X_test)\n",
    "\n",
    "transformed_X_train.toarray()"
   ]
  },
  {
   "cell_type": "code",
   "execution_count": null,
   "id": "secondary-surveillance",
   "metadata": {},
   "outputs": [],
   "source": [
    "# fit the model\n",
    "\n",
    "from sklearn.ensemble import RandomForestRegressor\n",
    "\n",
    "\n",
    "model = RandomForestRegressor()\n",
    "\n",
    "model.fit(transformed_X_train,y_train)\n",
    "model.score(transformed_X_test,y_test)"
   ]
  },
  {
   "cell_type": "markdown",
   "id": "illegal-discussion",
   "metadata": {},
   "source": [
    "\n",
    "## 2. Choosing the right estimatoor / algorithm for our problem \n",
    "\n",
    "Scikit-Learn uses estimator as another term for machine learning model or algorithm . \n",
    "\n",
    "\n",
    "   * Classification => predicting whether a sample is one thing or another \n",
    "   * Reression => predicting a number \n",
    "   * Clustering => identifying simillar group of data\n",
    "   * Dimensionality reduction \n",
    "  \n",
    "  \n",
    " \n",
    "we can take the help of  [this](https://scikit-learn.org/stable/tutorial/machine_learning_map/index.html) scikit-learn map to chosse what model to use "
   ]
  },
  {
   "cell_type": "markdown",
   "id": "final-statement",
   "metadata": {},
   "source": [
    "### 2.1 Picking a machine laerning model for a regression problem "
   ]
  },
  {
   "cell_type": "code",
   "execution_count": 43,
   "id": "eligible-devon",
   "metadata": {},
   "outputs": [
    {
     "data": {
      "text/plain": [
       "(array(['CRIM', 'ZN', 'INDUS', 'CHAS', 'NOX', 'RM', 'AGE', 'DIS', 'RAD',\n",
       "        'TAX', 'PTRATIO', 'B', 'LSTAT'], dtype='<U7'),\n",
       " dict_keys(['data', 'target', 'feature_names', 'DESCR', 'filename']))"
      ]
     },
     "execution_count": 43,
     "metadata": {},
     "output_type": "execute_result"
    }
   ],
   "source": [
    "# Import boston housing dataset . \n",
    "\n",
    "from sklearn.datasets import load_boston\n",
    "boston = load_boston()\n",
    "\n",
    "boston[\"feature_names\"] , boston.keys()"
   ]
  },
  {
   "cell_type": "code",
   "execution_count": null,
   "id": "bacterial-reply",
   "metadata": {},
   "outputs": [],
   "source": [
    "boston"
   ]
  },
  {
   "cell_type": "code",
   "execution_count": 44,
   "id": "voluntary-continent",
   "metadata": {},
   "outputs": [],
   "source": [
    "boston_df = pd.DataFrame(boston[\"data\"], columns = boston[\"feature_names\"])"
   ]
  },
  {
   "cell_type": "code",
   "execution_count": null,
   "id": "finite-validation",
   "metadata": {},
   "outputs": [],
   "source": [
    "len(boston_df.columns) , len (boston_df)"
   ]
  },
  {
   "cell_type": "code",
   "execution_count": 45,
   "id": "aboriginal-criterion",
   "metadata": {},
   "outputs": [],
   "source": [
    "boston_df[\"target\"] = pd.Series(boston[\"target\"])"
   ]
  },
  {
   "cell_type": "code",
   "execution_count": 46,
   "id": "occasional-plain",
   "metadata": {},
   "outputs": [
    {
     "data": {
      "text/plain": [
       "(14, 506)"
      ]
     },
     "execution_count": 46,
     "metadata": {},
     "output_type": "execute_result"
    }
   ],
   "source": [
    "len(boston_df.columns) , len (boston_df)"
   ]
  },
  {
   "cell_type": "code",
   "execution_count": 47,
   "id": "violent-moment",
   "metadata": {},
   "outputs": [
    {
     "data": {
      "text/html": [
       "<div>\n",
       "<style scoped>\n",
       "    .dataframe tbody tr th:only-of-type {\n",
       "        vertical-align: middle;\n",
       "    }\n",
       "\n",
       "    .dataframe tbody tr th {\n",
       "        vertical-align: top;\n",
       "    }\n",
       "\n",
       "    .dataframe thead th {\n",
       "        text-align: right;\n",
       "    }\n",
       "</style>\n",
       "<table border=\"1\" class=\"dataframe\">\n",
       "  <thead>\n",
       "    <tr style=\"text-align: right;\">\n",
       "      <th></th>\n",
       "      <th>CRIM</th>\n",
       "      <th>ZN</th>\n",
       "      <th>INDUS</th>\n",
       "      <th>CHAS</th>\n",
       "      <th>NOX</th>\n",
       "      <th>RM</th>\n",
       "      <th>AGE</th>\n",
       "      <th>DIS</th>\n",
       "      <th>RAD</th>\n",
       "      <th>TAX</th>\n",
       "      <th>PTRATIO</th>\n",
       "      <th>B</th>\n",
       "      <th>LSTAT</th>\n",
       "      <th>target</th>\n",
       "    </tr>\n",
       "  </thead>\n",
       "  <tbody>\n",
       "    <tr>\n",
       "      <th>0</th>\n",
       "      <td>0.00632</td>\n",
       "      <td>18.0</td>\n",
       "      <td>2.31</td>\n",
       "      <td>0.0</td>\n",
       "      <td>0.538</td>\n",
       "      <td>6.575</td>\n",
       "      <td>65.2</td>\n",
       "      <td>4.0900</td>\n",
       "      <td>1.0</td>\n",
       "      <td>296.0</td>\n",
       "      <td>15.3</td>\n",
       "      <td>396.90</td>\n",
       "      <td>4.98</td>\n",
       "      <td>24.0</td>\n",
       "    </tr>\n",
       "    <tr>\n",
       "      <th>1</th>\n",
       "      <td>0.02731</td>\n",
       "      <td>0.0</td>\n",
       "      <td>7.07</td>\n",
       "      <td>0.0</td>\n",
       "      <td>0.469</td>\n",
       "      <td>6.421</td>\n",
       "      <td>78.9</td>\n",
       "      <td>4.9671</td>\n",
       "      <td>2.0</td>\n",
       "      <td>242.0</td>\n",
       "      <td>17.8</td>\n",
       "      <td>396.90</td>\n",
       "      <td>9.14</td>\n",
       "      <td>21.6</td>\n",
       "    </tr>\n",
       "    <tr>\n",
       "      <th>2</th>\n",
       "      <td>0.02729</td>\n",
       "      <td>0.0</td>\n",
       "      <td>7.07</td>\n",
       "      <td>0.0</td>\n",
       "      <td>0.469</td>\n",
       "      <td>7.185</td>\n",
       "      <td>61.1</td>\n",
       "      <td>4.9671</td>\n",
       "      <td>2.0</td>\n",
       "      <td>242.0</td>\n",
       "      <td>17.8</td>\n",
       "      <td>392.83</td>\n",
       "      <td>4.03</td>\n",
       "      <td>34.7</td>\n",
       "    </tr>\n",
       "    <tr>\n",
       "      <th>3</th>\n",
       "      <td>0.03237</td>\n",
       "      <td>0.0</td>\n",
       "      <td>2.18</td>\n",
       "      <td>0.0</td>\n",
       "      <td>0.458</td>\n",
       "      <td>6.998</td>\n",
       "      <td>45.8</td>\n",
       "      <td>6.0622</td>\n",
       "      <td>3.0</td>\n",
       "      <td>222.0</td>\n",
       "      <td>18.7</td>\n",
       "      <td>394.63</td>\n",
       "      <td>2.94</td>\n",
       "      <td>33.4</td>\n",
       "    </tr>\n",
       "    <tr>\n",
       "      <th>4</th>\n",
       "      <td>0.06905</td>\n",
       "      <td>0.0</td>\n",
       "      <td>2.18</td>\n",
       "      <td>0.0</td>\n",
       "      <td>0.458</td>\n",
       "      <td>7.147</td>\n",
       "      <td>54.2</td>\n",
       "      <td>6.0622</td>\n",
       "      <td>3.0</td>\n",
       "      <td>222.0</td>\n",
       "      <td>18.7</td>\n",
       "      <td>396.90</td>\n",
       "      <td>5.33</td>\n",
       "      <td>36.2</td>\n",
       "    </tr>\n",
       "  </tbody>\n",
       "</table>\n",
       "</div>"
      ],
      "text/plain": [
       "      CRIM    ZN  INDUS  CHAS    NOX     RM   AGE     DIS  RAD    TAX  \\\n",
       "0  0.00632  18.0   2.31   0.0  0.538  6.575  65.2  4.0900  1.0  296.0   \n",
       "1  0.02731   0.0   7.07   0.0  0.469  6.421  78.9  4.9671  2.0  242.0   \n",
       "2  0.02729   0.0   7.07   0.0  0.469  7.185  61.1  4.9671  2.0  242.0   \n",
       "3  0.03237   0.0   2.18   0.0  0.458  6.998  45.8  6.0622  3.0  222.0   \n",
       "4  0.06905   0.0   2.18   0.0  0.458  7.147  54.2  6.0622  3.0  222.0   \n",
       "\n",
       "   PTRATIO       B  LSTAT  target  \n",
       "0     15.3  396.90   4.98    24.0  \n",
       "1     17.8  396.90   9.14    21.6  \n",
       "2     17.8  392.83   4.03    34.7  \n",
       "3     18.7  394.63   2.94    33.4  \n",
       "4     18.7  396.90   5.33    36.2  "
      ]
     },
     "execution_count": 47,
     "metadata": {},
     "output_type": "execute_result"
    }
   ],
   "source": [
    "boston_df.head()"
   ]
  },
  {
   "cell_type": "code",
   "execution_count": null,
   "id": "heavy-credits",
   "metadata": {},
   "outputs": [],
   "source": [
    "len(boston_df.columns)"
   ]
  },
  {
   "cell_type": "code",
   "execution_count": 48,
   "id": "specific-terry",
   "metadata": {},
   "outputs": [
    {
     "data": {
      "text/plain": [
       "0.7306005477249629"
      ]
     },
     "execution_count": 48,
     "metadata": {},
     "output_type": "execute_result"
    }
   ],
   "source": [
    "# split the data into X and y \n",
    "\n",
    "np.random.seed(77)\n",
    "X = boston_df.drop(\"target\",axis = 1)\n",
    "\n",
    "y = boston_df[\"target\"]\n",
    "\n",
    "# split the data into tarining and test sets \n",
    "\n",
    "from sklearn.model_selection import train_test_split\n",
    "\n",
    "X_train , X_test , y_train , y_test = train_test_split(X,y,test_size=0.2)\n",
    "\n",
    "# now let's try Ridge Reression\n",
    "\n",
    "from sklearn.linear_model import Ridge\n",
    "\n",
    "ridge_model = Ridge()\n",
    "\n",
    "ridge_model.fit(X_train,y_train)\n",
    "\n",
    "ridge_model.score(X_test,y_test)\n"
   ]
  },
  {
   "cell_type": "markdown",
   "id": "intellectual-prayer",
   "metadata": {},
   "source": [
    "How do we improve this score ? \n",
    "What if Ridge wasn't working ?%%!\n",
    "Let's refer back to the  [map](https://scikit-learn.org/stable/tutorial/machine_learning_map/index.html)"
   ]
  },
  {
   "cell_type": "code",
   "execution_count": 49,
   "id": "noted-welding",
   "metadata": {},
   "outputs": [
    {
     "data": {
      "text/plain": [
       "0.9009453327079903"
      ]
     },
     "execution_count": 49,
     "metadata": {},
     "output_type": "execute_result"
    }
   ],
   "source": [
    "# lets try random forest regressor \n",
    "\n",
    "from sklearn.ensemble import RandomForestRegressor\n",
    "\n",
    "np.random.seed(77)\n",
    "\n",
    "X = boston_df.drop(\"target\", axis= 1)\n",
    "\n",
    "y = boston_df[\"target\"]\n",
    "\n",
    "\n",
    "from sklearn.model_selection import train_test_split\n",
    "\n",
    "\n",
    "X_train , X_test , y_train , y_test = train_test_split(X,y,test_size=0.2)\n",
    "\n",
    "rf_model = RandomForestRegressor()\n",
    "\n",
    "\n",
    "rf_model.fit(X_train,y_train)\n",
    "\n",
    "rf_model.score(X_test,y_test)"
   ]
  },
  {
   "cell_type": "code",
   "execution_count": 61,
   "id": "developing-chain",
   "metadata": {},
   "outputs": [
    {
     "data": {
      "text/plain": [
       "array([22.577, 15.579, 23.73 , 30.598, 21.972, 17.977, 34.839, 21.753,\n",
       "        8.628, 18.519, 14.708, 22.975, 21.505, 18.432, 22.055, 25.067,\n",
       "       20.86 , 26.633, 21.54 , 28.575, 31.494, 21.104, 18.656, 13.747,\n",
       "       10.164, 32.396, 33.833, 14.92 , 16.33 , 26.223, 20.515, 30.507,\n",
       "       28.508, 14.803, 25.947, 20.893, 20.739, 10.717, 20.495, 23.448,\n",
       "       19.766, 26.26 , 26.815, 42.951, 22.874, 33.422, 18.83 , 14.577,\n",
       "       19.287, 21.763, 24.032, 20.645, 20.045, 20.09 , 23.318, 13.915,\n",
       "       19.87 ,  7.982, 24.027, 18.886, 26.264, 14.545, 30.866, 45.951,\n",
       "       25.824, 19.451, 19.278, 17.197, 14.634, 10.174, 45.984, 20.662,\n",
       "       21.718, 24.892, 31.387, 19.65 , 26.945, 20.634, 26.513, 25.314,\n",
       "       34.763, 28.192, 22.764, 16.008, 11.974, 19.397, 10.149, 13.807,\n",
       "       14.07 , 20.291,  8.919, 18.963, 48.622, 14.082, 16.913, 23.434,\n",
       "       48.047, 16.424, 18.222, 23.601, 12.394, 13.53 ])"
      ]
     },
     "execution_count": 61,
     "metadata": {},
     "output_type": "execute_result"
    }
   ],
   "source": [
    "y_pred_price = rf_model.predict(X_test)\n",
    "y_pred_price\n"
   ]
  },
  {
   "cell_type": "code",
   "execution_count": 55,
   "id": "italian-murray",
   "metadata": {},
   "outputs": [
    {
     "data": {
      "text/plain": [
       "313    21.6\n",
       "139    17.8\n",
       "314    23.8\n",
       "89     28.7\n",
       "87     22.2\n",
       "Name: target, dtype: float64"
      ]
     },
     "execution_count": 55,
     "metadata": {},
     "output_type": "execute_result"
    }
   ],
   "source": [
    "y_test[:5]"
   ]
  },
  {
   "cell_type": "code",
   "execution_count": 62,
   "id": "beautiful-language",
   "metadata": {},
   "outputs": [
    {
     "data": {
      "text/plain": [
       "<matplotlib.collections.PathCollection at 0x165d0f878b0>"
      ]
     },
     "execution_count": 62,
     "metadata": {},
     "output_type": "execute_result"
    },
    {
     "data": {
      "image/png": "[encoded data removed]",
      "text/plain": [
       "<Figure size 432x288 with 1 Axes>"
      ]
     },
     "metadata": {
      "needs_background": "light"
     },
     "output_type": "display_data"
    }
   ],
   "source": [
    "np.random.seed(77)\n",
    "\n",
    "x = np.random.randn(len(y_test))\n",
    "\n",
    "fig , ax = plt.subplots()\n",
    "#len(y_pred_price),len(x)\n",
    "ax.scatter(x,y_pred_price)\n",
    "ax.scatter(x,y_test)"
   ]
  },
  {
   "cell_type": "markdown",
   "id": "helpful-motel",
   "metadata": {},
   "source": [
    "## what to do when we might deal with Classification problem .\n",
    "\n",
    "follow the [map](https://scikit-learn.org/stable/tutorial/machine_learning_map/index.html)"
   ]
  },
  {
   "cell_type": "markdown",
   "id": "interior-tokyo",
   "metadata": {},
   "source": [
    "### Choosing right model for classification problem"
   ]
  },
  {
   "cell_type": "code",
   "execution_count": 18,
   "id": "capital-thanksgiving",
   "metadata": {},
   "outputs": [
    {
     "data": {
      "text/html": [
       "<div>\n",
       "<style scoped>\n",
       "    .dataframe tbody tr th:only-of-type {\n",
       "        vertical-align: middle;\n",
       "    }\n",
       "\n",
       "    .dataframe tbody tr th {\n",
       "        vertical-align: top;\n",
       "    }\n",
       "\n",
       "    .dataframe thead th {\n",
       "        text-align: right;\n",
       "    }\n",
       "</style>\n",
       "<table border=\"1\" class=\"dataframe\">\n",
       "  <thead>\n",
       "    <tr style=\"text-align: right;\">\n",
       "      <th></th>\n",
       "      <th>age</th>\n",
       "      <th>sex</th>\n",
       "      <th>cp</th>\n",
       "      <th>trestbps</th>\n",
       "      <th>chol</th>\n",
       "      <th>fbs</th>\n",
       "      <th>restecg</th>\n",
       "      <th>thalach</th>\n",
       "      <th>exang</th>\n",
       "      <th>oldpeak</th>\n",
       "      <th>slope</th>\n",
       "      <th>ca</th>\n",
       "      <th>thal</th>\n",
       "      <th>target</th>\n",
       "    </tr>\n",
       "  </thead>\n",
       "  <tbody>\n",
       "    <tr>\n",
       "      <th>0</th>\n",
       "      <td>63</td>\n",
       "      <td>1</td>\n",
       "      <td>3</td>\n",
       "      <td>145</td>\n",
       "      <td>233</td>\n",
       "      <td>1</td>\n",
       "      <td>0</td>\n",
       "      <td>150</td>\n",
       "      <td>0</td>\n",
       "      <td>2.3</td>\n",
       "      <td>0</td>\n",
       "      <td>0</td>\n",
       "      <td>1</td>\n",
       "      <td>1</td>\n",
       "    </tr>\n",
       "    <tr>\n",
       "      <th>1</th>\n",
       "      <td>37</td>\n",
       "      <td>1</td>\n",
       "      <td>2</td>\n",
       "      <td>130</td>\n",
       "      <td>250</td>\n",
       "      <td>0</td>\n",
       "      <td>1</td>\n",
       "      <td>187</td>\n",
       "      <td>0</td>\n",
       "      <td>3.5</td>\n",
       "      <td>0</td>\n",
       "      <td>0</td>\n",
       "      <td>2</td>\n",
       "      <td>1</td>\n",
       "    </tr>\n",
       "    <tr>\n",
       "      <th>2</th>\n",
       "      <td>41</td>\n",
       "      <td>0</td>\n",
       "      <td>1</td>\n",
       "      <td>130</td>\n",
       "      <td>204</td>\n",
       "      <td>0</td>\n",
       "      <td>0</td>\n",
       "      <td>172</td>\n",
       "      <td>0</td>\n",
       "      <td>1.4</td>\n",
       "      <td>2</td>\n",
       "      <td>0</td>\n",
       "      <td>2</td>\n",
       "      <td>1</td>\n",
       "    </tr>\n",
       "    <tr>\n",
       "      <th>3</th>\n",
       "      <td>56</td>\n",
       "      <td>1</td>\n",
       "      <td>1</td>\n",
       "      <td>120</td>\n",
       "      <td>236</td>\n",
       "      <td>0</td>\n",
       "      <td>1</td>\n",
       "      <td>178</td>\n",
       "      <td>0</td>\n",
       "      <td>0.8</td>\n",
       "      <td>2</td>\n",
       "      <td>0</td>\n",
       "      <td>2</td>\n",
       "      <td>1</td>\n",
       "    </tr>\n",
       "    <tr>\n",
       "      <th>4</th>\n",
       "      <td>57</td>\n",
       "      <td>0</td>\n",
       "      <td>0</td>\n",
       "      <td>120</td>\n",
       "      <td>354</td>\n",
       "      <td>0</td>\n",
       "      <td>1</td>\n",
       "      <td>163</td>\n",
       "      <td>1</td>\n",
       "      <td>0.6</td>\n",
       "      <td>2</td>\n",
       "      <td>0</td>\n",
       "      <td>2</td>\n",
       "      <td>1</td>\n",
       "    </tr>\n",
       "  </tbody>\n",
       "</table>\n",
       "</div>"
      ],
      "text/plain": [
       "   age  sex  cp  trestbps  chol  fbs  restecg  thalach  exang  oldpeak  slope  \\\n",
       "0   63    1   3       145   233    1        0      150      0      2.3      0   \n",
       "1   37    1   2       130   250    0        1      187      0      3.5      0   \n",
       "2   41    0   1       130   204    0        0      172      0      1.4      2   \n",
       "3   56    1   1       120   236    0        1      178      0      0.8      2   \n",
       "4   57    0   0       120   354    0        1      163      1      0.6      2   \n",
       "\n",
       "   ca  thal  target  \n",
       "0   0     1       1  \n",
       "1   0     2       1  \n",
       "2   0     2       1  \n",
       "3   0     2       1  \n",
       "4   0     2       1  "
      ]
     },
     "execution_count": 18,
     "metadata": {},
     "output_type": "execute_result"
    }
   ],
   "source": [
    "# impotring dataset \n",
    "\n",
    "heart_disease = pd.read_csv(\"heart-disease.csv\")\n",
    "heart_disease.head()"
   ]
  },
  {
   "cell_type": "markdown",
   "id": "assured-producer",
   "metadata": {},
   "source": [
    "now lets follow the [map](https://scikit-learn.org/stable/tutorial/machine_learning_map/index.html)"
   ]
  },
  {
   "cell_type": "code",
   "execution_count": null,
   "id": "careful-dubai",
   "metadata": {},
   "outputs": [],
   "source": [
    "len(heart_disease)"
   ]
  },
  {
   "cell_type": "markdown",
   "id": "worse-group",
   "metadata": {},
   "source": [
    "the map is suggesting to use LinearSVC . Let's try that out ! "
   ]
  },
  {
   "cell_type": "code",
   "execution_count": null,
   "id": "increased-liquid",
   "metadata": {},
   "outputs": [],
   "source": [
    "# split the dataframe into X (features) and y (target) \n",
    "\n",
    "X = heart_disease.drop(\"target\",axis=1)\n",
    "y = heart_disease[\"target\"]\n",
    "\n",
    "\n",
    "# import random seed \n",
    "\n",
    "np.random.seed(77)\n",
    "\n",
    "# split the X and y into train and test set \n",
    "\n",
    "from sklearn.model_selection import train_test_split\n",
    "\n",
    "X_train , X_test , y_train , y_test = train_test_split(X,y, test_size =0.2)\n",
    "\n",
    "\n",
    "# import LinearSVC\n",
    "\n",
    "from sklearn.svm import LinearSVC\n",
    "\n",
    "# instanciate the LinearSVC\n",
    "svc_model = LinearSVC(max_iter=10000)\n",
    "\n",
    "# fit the model \n",
    "svc_model.fit(X_train,y_train)\n",
    "\n",
    "# evaluate the model \n",
    "\n",
    "svc_model.score(X_test,y_test)"
   ]
  },
  {
   "cell_type": "markdown",
   "id": "aging-weapon",
   "metadata": {},
   "source": [
    "Suppose it is not working , then , following the [map](https://scikit-learn.org/stable/tutorial/machine_learning_map/index.html) we came across to use the ensemble classifiers, And , one of it is well known to us . RandomForestClassifier . Let's use that "
   ]
  },
  {
   "cell_type": "code",
   "execution_count": null,
   "id": "graduate-favorite",
   "metadata": {},
   "outputs": [],
   "source": [
    "# split the dataframe into X (features) and y (target) \n",
    "\n",
    "X = heart_disease.drop(\"target\",axis=1)\n",
    "y = heart_disease[\"target\"]\n",
    "\n",
    "\n",
    "# import random seed \n",
    "\n",
    "np.random.seed(77)\n",
    "\n",
    "# split the X and y into train and test set \n",
    "\n",
    "from sklearn.model_selection import train_test_split\n",
    "\n",
    "X_train , X_test , y_train , y_test = train_test_split(X,y, test_size =0.2)\n",
    "\n",
    "\n",
    "# import RandomForestClassifier\n",
    "\n",
    "from sklearn.ensemble import RandomForestClassifier\n",
    "\n",
    "# instanciate the RandomForestClassifier\n",
    "\n",
    "rfc_model = RandomForestClassifier()\n",
    "\n",
    "# fit the model \n",
    "rfc_model.fit(X_train,y_train)\n",
    "\n",
    "# evaluate the model \n",
    "\n",
    "rfc_model.score(X_test,y_test)\n",
    "\n"
   ]
  },
  {
   "cell_type": "markdown",
   "id": "decimal-budget",
   "metadata": {},
   "source": [
    "## 3 . Fit the model/algorithm / estimator on out data and use it to make prediction "
   ]
  },
  {
   "cell_type": "markdown",
   "id": "baking-hacker",
   "metadata": {},
   "source": [
    "### 3.1 Fitthing the model to the data \n"
   ]
  },
  {
   "cell_type": "code",
   "execution_count": 19,
   "id": "employed-wheel",
   "metadata": {},
   "outputs": [
    {
     "data": {
      "text/plain": [
       "0.8524590163934426"
      ]
     },
     "execution_count": 19,
     "metadata": {},
     "output_type": "execute_result"
    }
   ],
   "source": [
    "# split the dataframe into X (features) and y (target) \n",
    "\n",
    "X = heart_disease.drop(\"target\",axis=1)\n",
    "y = heart_disease[\"target\"]\n",
    "\n",
    "\n",
    "# setup  random seed \n",
    "\n",
    "np.random.seed(77)\n",
    "\n",
    "# split the X and y into train and test set \n",
    "\n",
    "from sklearn.model_selection import train_test_split\n",
    "\n",
    "X_train , X_test , y_train , y_test = train_test_split(X,y, test_size =0.2)\n",
    "\n",
    "\n",
    "# import RandomForestClassifier\n",
    "\n",
    "from sklearn.ensemble import RandomForestClassifier\n",
    "\n",
    "# instanciate the RandomForestClassifier\n",
    "\n",
    "rfc_model = RandomForestClassifier()\n",
    "\n",
    "# fit the model ( or training the machine learning model )\n",
    "rfc_model.fit(X_train,y_train)\n",
    "\n",
    "# evaluate the model \n",
    "\n",
    "rfc_model.score(X_test,y_test)"
   ]
  },
  {
   "cell_type": "markdown",
   "id": "helpful-parent",
   "metadata": {},
   "source": [
    "### 3.2 Make predictions using a machine learning model \n",
    "\n"
   ]
  },
  {
   "cell_type": "code",
   "execution_count": 20,
   "id": "dominant-scoop",
   "metadata": {},
   "outputs": [],
   "source": [
    "# pridicting y values \n",
    "\n",
    "y_pred = rfc_model.predict(X_test)"
   ]
  },
  {
   "cell_type": "code",
   "execution_count": 21,
   "id": "attached-category",
   "metadata": {},
   "outputs": [
    {
     "data": {
      "text/plain": [
       "array([1, 1, 1, 1, 0, 0, 0, 0, 1, 1, 1, 0, 1, 1, 0, 0, 1, 1, 1, 1, 0, 0,\n",
       "       0, 1, 0, 1, 1, 1, 1, 0, 1, 1, 1, 1, 0, 0, 0, 1, 0, 0, 0, 1, 1, 0,\n",
       "       0, 1, 1, 1, 0, 1, 0, 1, 0, 1, 1, 0, 1, 1, 1, 1, 1], dtype=int64)"
      ]
     },
     "execution_count": 21,
     "metadata": {},
     "output_type": "execute_result"
    }
   ],
   "source": [
    "y_pred"
   ]
  },
  {
   "cell_type": "code",
   "execution_count": 22,
   "id": "outstanding-parameter",
   "metadata": {},
   "outputs": [
    {
     "data": {
      "text/plain": [
       "array([1, 1, 1, 1, 0, 0, 0, 1, 1, 1, 0, 0, 1, 1, 0, 1, 0, 1, 1, 1, 0, 0,\n",
       "       0, 1, 0, 0, 1, 1, 1, 0, 1, 1, 1, 1, 0, 0, 0, 1, 0, 0, 1, 1, 1, 0,\n",
       "       0, 1, 1, 1, 0, 0, 0, 1, 0, 1, 1, 0, 0, 1, 1, 0, 1], dtype=int64)"
      ]
     },
     "execution_count": 22,
     "metadata": {},
     "output_type": "execute_result"
    }
   ],
   "source": [
    "np.array(y_test)\n"
   ]
  },
  {
   "cell_type": "code",
   "execution_count": 23,
   "id": "adjacent-southwest",
   "metadata": {},
   "outputs": [
    {
     "data": {
      "text/plain": [
       "0.8524590163934426"
      ]
     },
     "execution_count": 23,
     "metadata": {},
     "output_type": "execute_result"
    }
   ],
   "source": [
    "# compare predictions to truth level to evalute the model \n",
    "\n",
    "y_preds = rfc_model.predict(X_test)\n",
    "\n",
    "\n",
    "np.mean(y_preds == y_test)"
   ]
  },
  {
   "cell_type": "code",
   "execution_count": 36,
   "id": "compressed-austin",
   "metadata": {},
   "outputs": [
    {
     "data": {
      "text/plain": [
       "True     52\n",
       "False     9\n",
       "Name: target, dtype: int64"
      ]
     },
     "execution_count": 36,
     "metadata": {},
     "output_type": "execute_result"
    }
   ],
   "source": [
    "(y_preds == y_test).value_counts()"
   ]
  },
  {
   "cell_type": "code",
   "execution_count": 31,
   "id": "classified-output",
   "metadata": {},
   "outputs": [],
   "source": [
    "right_prediction = (y_preds == y_test).value_counts()[1]"
   ]
  },
  {
   "cell_type": "code",
   "execution_count": 32,
   "id": "happy-pixel",
   "metadata": {},
   "outputs": [
    {
     "data": {
      "text/plain": [
       "52"
      ]
     },
     "execution_count": 32,
     "metadata": {},
     "output_type": "execute_result"
    }
   ],
   "source": [
    "right_prediction"
   ]
  },
  {
   "cell_type": "code",
   "execution_count": 34,
   "id": "antique-avenue",
   "metadata": {},
   "outputs": [
    {
     "data": {
      "text/plain": [
       "0.8524590163934426"
      ]
     },
     "execution_count": 34,
     "metadata": {},
     "output_type": "execute_result"
    }
   ],
   "source": [
    "total_predictions = len(y_preds)\n",
    "\n",
    "score = right_prediction/total_predictions \n",
    "score"
   ]
  },
  {
   "cell_type": "code",
   "execution_count": 24,
   "id": "german-round",
   "metadata": {},
   "outputs": [
    {
     "data": {
      "text/plain": [
       "0.8524590163934426"
      ]
     },
     "execution_count": 24,
     "metadata": {},
     "output_type": "execute_result"
    }
   ],
   "source": [
    "rfc_model.score(X_test,y_test)"
   ]
  },
  {
   "cell_type": "code",
   "execution_count": 37,
   "id": "peripheral-timer",
   "metadata": {},
   "outputs": [
    {
     "data": {
      "text/plain": [
       "0.8524590163934426"
      ]
     },
     "execution_count": 37,
     "metadata": {},
     "output_type": "execute_result"
    }
   ],
   "source": [
    "from sklearn.metrics import accuracy_score\n",
    "\n",
    "accuracy_score(y_test,y_preds)"
   ]
  },
  {
   "cell_type": "markdown",
   "id": "dirty-parliament",
   "metadata": {},
   "source": [
    "### predicting with _predict_proba()_"
   ]
  },
  {
   "cell_type": "code",
   "execution_count": 39,
   "id": "rough-utilization",
   "metadata": {},
   "outputs": [
    {
     "data": {
      "text/plain": [
       "array([[0.18, 0.82],\n",
       "       [0.3 , 0.7 ],\n",
       "       [0.01, 0.99],\n",
       "       [0.2 , 0.8 ],\n",
       "       [0.99, 0.01]])"
      ]
     },
     "execution_count": 39,
     "metadata": {},
     "output_type": "execute_result"
    }
   ],
   "source": [
    "rfc_model.predict_proba(X_test[:5])"
   ]
  },
  {
   "cell_type": "code",
   "execution_count": 40,
   "id": "earlier-dispute",
   "metadata": {},
   "outputs": [
    {
     "data": {
      "text/plain": [
       "array([1, 1, 1, 1, 0], dtype=int64)"
      ]
     },
     "execution_count": 40,
     "metadata": {},
     "output_type": "execute_result"
    }
   ],
   "source": [
    "rfc_model.predict(X_test[:5])"
   ]
  },
  {
   "cell_type": "code",
   "execution_count": 41,
   "id": "entire-addiction",
   "metadata": {},
   "outputs": [
    {
     "data": {
      "text/html": [
       "<div>\n",
       "<style scoped>\n",
       "    .dataframe tbody tr th:only-of-type {\n",
       "        vertical-align: middle;\n",
       "    }\n",
       "\n",
       "    .dataframe tbody tr th {\n",
       "        vertical-align: top;\n",
       "    }\n",
       "\n",
       "    .dataframe thead th {\n",
       "        text-align: right;\n",
       "    }\n",
       "</style>\n",
       "<table border=\"1\" class=\"dataframe\">\n",
       "  <thead>\n",
       "    <tr style=\"text-align: right;\">\n",
       "      <th></th>\n",
       "      <th>age</th>\n",
       "      <th>sex</th>\n",
       "      <th>cp</th>\n",
       "      <th>trestbps</th>\n",
       "      <th>chol</th>\n",
       "      <th>fbs</th>\n",
       "      <th>restecg</th>\n",
       "      <th>thalach</th>\n",
       "      <th>exang</th>\n",
       "      <th>oldpeak</th>\n",
       "      <th>slope</th>\n",
       "      <th>ca</th>\n",
       "      <th>thal</th>\n",
       "    </tr>\n",
       "  </thead>\n",
       "  <tbody>\n",
       "    <tr>\n",
       "      <th>8</th>\n",
       "      <td>52</td>\n",
       "      <td>1</td>\n",
       "      <td>2</td>\n",
       "      <td>172</td>\n",
       "      <td>199</td>\n",
       "      <td>1</td>\n",
       "      <td>1</td>\n",
       "      <td>162</td>\n",
       "      <td>0</td>\n",
       "      <td>0.5</td>\n",
       "      <td>2</td>\n",
       "      <td>0</td>\n",
       "      <td>3</td>\n",
       "    </tr>\n",
       "    <tr>\n",
       "      <th>37</th>\n",
       "      <td>54</td>\n",
       "      <td>1</td>\n",
       "      <td>2</td>\n",
       "      <td>150</td>\n",
       "      <td>232</td>\n",
       "      <td>0</td>\n",
       "      <td>0</td>\n",
       "      <td>165</td>\n",
       "      <td>0</td>\n",
       "      <td>1.6</td>\n",
       "      <td>2</td>\n",
       "      <td>0</td>\n",
       "      <td>3</td>\n",
       "    </tr>\n",
       "    <tr>\n",
       "      <th>142</th>\n",
       "      <td>42</td>\n",
       "      <td>0</td>\n",
       "      <td>2</td>\n",
       "      <td>120</td>\n",
       "      <td>209</td>\n",
       "      <td>0</td>\n",
       "      <td>1</td>\n",
       "      <td>173</td>\n",
       "      <td>0</td>\n",
       "      <td>0.0</td>\n",
       "      <td>1</td>\n",
       "      <td>0</td>\n",
       "      <td>2</td>\n",
       "    </tr>\n",
       "    <tr>\n",
       "      <th>65</th>\n",
       "      <td>35</td>\n",
       "      <td>0</td>\n",
       "      <td>0</td>\n",
       "      <td>138</td>\n",
       "      <td>183</td>\n",
       "      <td>0</td>\n",
       "      <td>1</td>\n",
       "      <td>182</td>\n",
       "      <td>0</td>\n",
       "      <td>1.4</td>\n",
       "      <td>2</td>\n",
       "      <td>0</td>\n",
       "      <td>2</td>\n",
       "    </tr>\n",
       "    <tr>\n",
       "      <th>256</th>\n",
       "      <td>58</td>\n",
       "      <td>1</td>\n",
       "      <td>0</td>\n",
       "      <td>128</td>\n",
       "      <td>259</td>\n",
       "      <td>0</td>\n",
       "      <td>0</td>\n",
       "      <td>130</td>\n",
       "      <td>1</td>\n",
       "      <td>3.0</td>\n",
       "      <td>1</td>\n",
       "      <td>2</td>\n",
       "      <td>3</td>\n",
       "    </tr>\n",
       "  </tbody>\n",
       "</table>\n",
       "</div>"
      ],
      "text/plain": [
       "     age  sex  cp  trestbps  chol  fbs  restecg  thalach  exang  oldpeak  \\\n",
       "8     52    1   2       172   199    1        1      162      0      0.5   \n",
       "37    54    1   2       150   232    0        0      165      0      1.6   \n",
       "142   42    0   2       120   209    0        1      173      0      0.0   \n",
       "65    35    0   0       138   183    0        1      182      0      1.4   \n",
       "256   58    1   0       128   259    0        0      130      1      3.0   \n",
       "\n",
       "     slope  ca  thal  \n",
       "8        2   0     3  \n",
       "37       2   0     3  \n",
       "142      1   0     2  \n",
       "65       2   0     2  \n",
       "256      1   2     3  "
      ]
     },
     "execution_count": 41,
     "metadata": {},
     "output_type": "execute_result"
    }
   ],
   "source": [
    "X_test.head()"
   ]
  },
  {
   "cell_type": "markdown",
   "id": "desirable-campbell",
   "metadata": {},
   "source": [
    "## predicting for the regression problem "
   ]
  },
  {
   "cell_type": "code",
   "execution_count": 4,
   "id": "downtown-posting",
   "metadata": {},
   "outputs": [],
   "source": [
    "from sklearn.datasets import load_boston\n",
    "import pandas as pd \n",
    "import numpy as np\n",
    "import matplotlib.pyplot as plt\n",
    "\n",
    "plt.style.use(\"seaborn-whitegrid\")\n",
    "\n",
    "boston = load_boston()"
   ]
  },
  {
   "cell_type": "code",
   "execution_count": 4,
   "id": "artistic-information",
   "metadata": {},
   "outputs": [
    {
     "data": {
      "text/plain": [
       "dict_keys(['data', 'target', 'feature_names', 'DESCR', 'filename'])"
      ]
     },
     "execution_count": 4,
     "metadata": {},
     "output_type": "execute_result"
    }
   ],
   "source": [
    "boston.keys()"
   ]
  },
  {
   "cell_type": "code",
   "execution_count": 5,
   "id": "portable-probability",
   "metadata": {},
   "outputs": [],
   "source": [
    "boston_df = pd.DataFrame(boston[\"data\"] , columns = boston[\"feature_names\"])"
   ]
  },
  {
   "cell_type": "code",
   "execution_count": 10,
   "id": "accredited-illustration",
   "metadata": {},
   "outputs": [
    {
     "data": {
      "text/html": [
       "<div>\n",
       "<style scoped>\n",
       "    .dataframe tbody tr th:only-of-type {\n",
       "        vertical-align: middle;\n",
       "    }\n",
       "\n",
       "    .dataframe tbody tr th {\n",
       "        vertical-align: top;\n",
       "    }\n",
       "\n",
       "    .dataframe thead th {\n",
       "        text-align: right;\n",
       "    }\n",
       "</style>\n",
       "<table border=\"1\" class=\"dataframe\">\n",
       "  <thead>\n",
       "    <tr style=\"text-align: right;\">\n",
       "      <th></th>\n",
       "      <th>CRIM</th>\n",
       "      <th>ZN</th>\n",
       "      <th>INDUS</th>\n",
       "      <th>CHAS</th>\n",
       "      <th>NOX</th>\n",
       "      <th>RM</th>\n",
       "      <th>AGE</th>\n",
       "      <th>DIS</th>\n",
       "      <th>RAD</th>\n",
       "      <th>TAX</th>\n",
       "      <th>PTRATIO</th>\n",
       "      <th>B</th>\n",
       "      <th>LSTAT</th>\n",
       "    </tr>\n",
       "  </thead>\n",
       "  <tbody>\n",
       "    <tr>\n",
       "      <th>0</th>\n",
       "      <td>0.00632</td>\n",
       "      <td>18.0</td>\n",
       "      <td>2.31</td>\n",
       "      <td>0.0</td>\n",
       "      <td>0.538</td>\n",
       "      <td>6.575</td>\n",
       "      <td>65.2</td>\n",
       "      <td>4.0900</td>\n",
       "      <td>1.0</td>\n",
       "      <td>296.0</td>\n",
       "      <td>15.3</td>\n",
       "      <td>396.90</td>\n",
       "      <td>4.98</td>\n",
       "    </tr>\n",
       "    <tr>\n",
       "      <th>1</th>\n",
       "      <td>0.02731</td>\n",
       "      <td>0.0</td>\n",
       "      <td>7.07</td>\n",
       "      <td>0.0</td>\n",
       "      <td>0.469</td>\n",
       "      <td>6.421</td>\n",
       "      <td>78.9</td>\n",
       "      <td>4.9671</td>\n",
       "      <td>2.0</td>\n",
       "      <td>242.0</td>\n",
       "      <td>17.8</td>\n",
       "      <td>396.90</td>\n",
       "      <td>9.14</td>\n",
       "    </tr>\n",
       "    <tr>\n",
       "      <th>2</th>\n",
       "      <td>0.02729</td>\n",
       "      <td>0.0</td>\n",
       "      <td>7.07</td>\n",
       "      <td>0.0</td>\n",
       "      <td>0.469</td>\n",
       "      <td>7.185</td>\n",
       "      <td>61.1</td>\n",
       "      <td>4.9671</td>\n",
       "      <td>2.0</td>\n",
       "      <td>242.0</td>\n",
       "      <td>17.8</td>\n",
       "      <td>392.83</td>\n",
       "      <td>4.03</td>\n",
       "    </tr>\n",
       "    <tr>\n",
       "      <th>3</th>\n",
       "      <td>0.03237</td>\n",
       "      <td>0.0</td>\n",
       "      <td>2.18</td>\n",
       "      <td>0.0</td>\n",
       "      <td>0.458</td>\n",
       "      <td>6.998</td>\n",
       "      <td>45.8</td>\n",
       "      <td>6.0622</td>\n",
       "      <td>3.0</td>\n",
       "      <td>222.0</td>\n",
       "      <td>18.7</td>\n",
       "      <td>394.63</td>\n",
       "      <td>2.94</td>\n",
       "    </tr>\n",
       "    <tr>\n",
       "      <th>4</th>\n",
       "      <td>0.06905</td>\n",
       "      <td>0.0</td>\n",
       "      <td>2.18</td>\n",
       "      <td>0.0</td>\n",
       "      <td>0.458</td>\n",
       "      <td>7.147</td>\n",
       "      <td>54.2</td>\n",
       "      <td>6.0622</td>\n",
       "      <td>3.0</td>\n",
       "      <td>222.0</td>\n",
       "      <td>18.7</td>\n",
       "      <td>396.90</td>\n",
       "      <td>5.33</td>\n",
       "    </tr>\n",
       "  </tbody>\n",
       "</table>\n",
       "</div>"
      ],
      "text/plain": [
       "      CRIM    ZN  INDUS  CHAS    NOX     RM   AGE     DIS  RAD    TAX  \\\n",
       "0  0.00632  18.0   2.31   0.0  0.538  6.575  65.2  4.0900  1.0  296.0   \n",
       "1  0.02731   0.0   7.07   0.0  0.469  6.421  78.9  4.9671  2.0  242.0   \n",
       "2  0.02729   0.0   7.07   0.0  0.469  7.185  61.1  4.9671  2.0  242.0   \n",
       "3  0.03237   0.0   2.18   0.0  0.458  6.998  45.8  6.0622  3.0  222.0   \n",
       "4  0.06905   0.0   2.18   0.0  0.458  7.147  54.2  6.0622  3.0  222.0   \n",
       "\n",
       "   PTRATIO       B  LSTAT  \n",
       "0     15.3  396.90   4.98  \n",
       "1     17.8  396.90   9.14  \n",
       "2     17.8  392.83   4.03  \n",
       "3     18.7  394.63   2.94  \n",
       "4     18.7  396.90   5.33  "
      ]
     },
     "execution_count": 10,
     "metadata": {},
     "output_type": "execute_result"
    }
   ],
   "source": [
    "boston_df.head()"
   ]
  },
  {
   "cell_type": "code",
   "execution_count": 6,
   "id": "engaged-bleeding",
   "metadata": {},
   "outputs": [
    {
     "data": {
      "text/html": [
       "<div>\n",
       "<style scoped>\n",
       "    .dataframe tbody tr th:only-of-type {\n",
       "        vertical-align: middle;\n",
       "    }\n",
       "\n",
       "    .dataframe tbody tr th {\n",
       "        vertical-align: top;\n",
       "    }\n",
       "\n",
       "    .dataframe thead th {\n",
       "        text-align: right;\n",
       "    }\n",
       "</style>\n",
       "<table border=\"1\" class=\"dataframe\">\n",
       "  <thead>\n",
       "    <tr style=\"text-align: right;\">\n",
       "      <th></th>\n",
       "      <th>CRIM</th>\n",
       "      <th>ZN</th>\n",
       "      <th>INDUS</th>\n",
       "      <th>CHAS</th>\n",
       "      <th>NOX</th>\n",
       "      <th>RM</th>\n",
       "      <th>AGE</th>\n",
       "      <th>DIS</th>\n",
       "      <th>RAD</th>\n",
       "      <th>TAX</th>\n",
       "      <th>PTRATIO</th>\n",
       "      <th>B</th>\n",
       "      <th>LSTAT</th>\n",
       "      <th>target</th>\n",
       "    </tr>\n",
       "  </thead>\n",
       "  <tbody>\n",
       "    <tr>\n",
       "      <th>0</th>\n",
       "      <td>0.00632</td>\n",
       "      <td>18.0</td>\n",
       "      <td>2.31</td>\n",
       "      <td>0.0</td>\n",
       "      <td>0.538</td>\n",
       "      <td>6.575</td>\n",
       "      <td>65.2</td>\n",
       "      <td>4.0900</td>\n",
       "      <td>1.0</td>\n",
       "      <td>296.0</td>\n",
       "      <td>15.3</td>\n",
       "      <td>396.90</td>\n",
       "      <td>4.98</td>\n",
       "      <td>24.0</td>\n",
       "    </tr>\n",
       "    <tr>\n",
       "      <th>1</th>\n",
       "      <td>0.02731</td>\n",
       "      <td>0.0</td>\n",
       "      <td>7.07</td>\n",
       "      <td>0.0</td>\n",
       "      <td>0.469</td>\n",
       "      <td>6.421</td>\n",
       "      <td>78.9</td>\n",
       "      <td>4.9671</td>\n",
       "      <td>2.0</td>\n",
       "      <td>242.0</td>\n",
       "      <td>17.8</td>\n",
       "      <td>396.90</td>\n",
       "      <td>9.14</td>\n",
       "      <td>21.6</td>\n",
       "    </tr>\n",
       "    <tr>\n",
       "      <th>2</th>\n",
       "      <td>0.02729</td>\n",
       "      <td>0.0</td>\n",
       "      <td>7.07</td>\n",
       "      <td>0.0</td>\n",
       "      <td>0.469</td>\n",
       "      <td>7.185</td>\n",
       "      <td>61.1</td>\n",
       "      <td>4.9671</td>\n",
       "      <td>2.0</td>\n",
       "      <td>242.0</td>\n",
       "      <td>17.8</td>\n",
       "      <td>392.83</td>\n",
       "      <td>4.03</td>\n",
       "      <td>34.7</td>\n",
       "    </tr>\n",
       "    <tr>\n",
       "      <th>3</th>\n",
       "      <td>0.03237</td>\n",
       "      <td>0.0</td>\n",
       "      <td>2.18</td>\n",
       "      <td>0.0</td>\n",
       "      <td>0.458</td>\n",
       "      <td>6.998</td>\n",
       "      <td>45.8</td>\n",
       "      <td>6.0622</td>\n",
       "      <td>3.0</td>\n",
       "      <td>222.0</td>\n",
       "      <td>18.7</td>\n",
       "      <td>394.63</td>\n",
       "      <td>2.94</td>\n",
       "      <td>33.4</td>\n",
       "    </tr>\n",
       "    <tr>\n",
       "      <th>4</th>\n",
       "      <td>0.06905</td>\n",
       "      <td>0.0</td>\n",
       "      <td>2.18</td>\n",
       "      <td>0.0</td>\n",
       "      <td>0.458</td>\n",
       "      <td>7.147</td>\n",
       "      <td>54.2</td>\n",
       "      <td>6.0622</td>\n",
       "      <td>3.0</td>\n",
       "      <td>222.0</td>\n",
       "      <td>18.7</td>\n",
       "      <td>396.90</td>\n",
       "      <td>5.33</td>\n",
       "      <td>36.2</td>\n",
       "    </tr>\n",
       "  </tbody>\n",
       "</table>\n",
       "</div>"
      ],
      "text/plain": [
       "      CRIM    ZN  INDUS  CHAS    NOX     RM   AGE     DIS  RAD    TAX  \\\n",
       "0  0.00632  18.0   2.31   0.0  0.538  6.575  65.2  4.0900  1.0  296.0   \n",
       "1  0.02731   0.0   7.07   0.0  0.469  6.421  78.9  4.9671  2.0  242.0   \n",
       "2  0.02729   0.0   7.07   0.0  0.469  7.185  61.1  4.9671  2.0  242.0   \n",
       "3  0.03237   0.0   2.18   0.0  0.458  6.998  45.8  6.0622  3.0  222.0   \n",
       "4  0.06905   0.0   2.18   0.0  0.458  7.147  54.2  6.0622  3.0  222.0   \n",
       "\n",
       "   PTRATIO       B  LSTAT  target  \n",
       "0     15.3  396.90   4.98    24.0  \n",
       "1     17.8  396.90   9.14    21.6  \n",
       "2     17.8  392.83   4.03    34.7  \n",
       "3     18.7  394.63   2.94    33.4  \n",
       "4     18.7  396.90   5.33    36.2  "
      ]
     },
     "execution_count": 6,
     "metadata": {},
     "output_type": "execute_result"
    }
   ],
   "source": [
    "boston_df[\"target\"] = boston[\"target\"]\n",
    "boston_df.head()"
   ]
  },
  {
   "cell_type": "code",
   "execution_count": 18,
   "id": "stock-barbados",
   "metadata": {},
   "outputs": [],
   "source": [
    "from sklearn.ensemble import RandomForestRegressor\n",
    "\n",
    "from sklearn.model_selection import train_test_split\n",
    "\n",
    "\n",
    "# splitting the data into X and y \n",
    "\n",
    "\n",
    "np.random.seed(44)\n",
    "\n",
    "X = boston_df.drop(\"target\", axis=1)\n",
    "\n",
    "y = boston_df[\"target\"]\n",
    "\n",
    "\n",
    "\n",
    "X_train , X_test , y_train , y_test = train_test_split(X, y, test_size = 0.2)\n",
    "\n",
    "rfr_model = RandomForestRegressor()\n",
    "\n",
    "rfr_model.fit(X_train, y_train)\n",
    "\n",
    "y_preds = rfr_model.predict(X_test)"
   ]
  },
  {
   "cell_type": "code",
   "execution_count": 19,
   "id": "promising-destruction",
   "metadata": {},
   "outputs": [
    {
     "data": {
      "text/plain": [
       "array([18.19 , 18.773, 21.812, 30.921, 15.731, 32.763, 20.648, 21.462,\n",
       "       24.157, 22.644])"
      ]
     },
     "execution_count": 19,
     "metadata": {},
     "output_type": "execute_result"
    }
   ],
   "source": [
    "y_preds[:10]"
   ]
  },
  {
   "cell_type": "code",
   "execution_count": 21,
   "id": "final-reason",
   "metadata": {},
   "outputs": [
    {
     "data": {
      "text/plain": [
       "array([17.8, 21.5, 21.2, 32.4, 10.9, 31.7, 21.4, 24.3, 29.1, 25. ])"
      ]
     },
     "execution_count": 21,
     "metadata": {},
     "output_type": "execute_result"
    }
   ],
   "source": [
    "np.array(y_test[:10])"
   ]
  },
  {
   "cell_type": "code",
   "execution_count": 22,
   "id": "difficult-grant",
   "metadata": {},
   "outputs": [
    {
     "data": {
      "text/plain": [
       "2.274029411764706"
      ]
     },
     "execution_count": 22,
     "metadata": {},
     "output_type": "execute_result"
    }
   ],
   "source": [
    "# compare predictions to the truth value\n",
    "\n",
    "from sklearn.metrics import mean_absolute_error\n",
    "\n",
    "mean_absolute_error(y_test, y_preds)"
   ]
  },
  {
   "cell_type": "code",
   "execution_count": 32,
   "id": "infrared-timber",
   "metadata": {},
   "outputs": [
    {
     "data": {
      "image/png": "[encoded data removed]",
      "text/plain": [
       "<Figure size 432x288 with 1 Axes>"
      ]
     },
     "metadata": {
      "needs_background": "light"
     },
     "output_type": "display_data"
    }
   ],
   "source": [
    "x = np.random.randn(len(y_test))\n",
    "\n",
    "fig , ax = plt.subplots()\n",
    "\n",
    "ax.scatter(x,y_preds , c=\"r\", label=\"y_preds\")\n",
    "ax.scatter(x,y_test , c=\"g\" , label = \"y_test\");\n",
    "ax.legend()\n",
    "ax.grid(True);"
   ]
  },
  {
   "cell_type": "markdown",
   "id": "orange-advantage",
   "metadata": {},
   "source": [
    "## 4. Evaluating a machine learning model \n",
    "Three ways to evaluagte Scikit-learn models/estimators \n",
    "\n",
    " 1. Eastimator `score` method\n",
    " 2. The `scoring` parameter\n",
    " 3. Problem-specific metric functions.\n",
    " \n",
    " \n",
    "\n",
    "### 4.1 Eastimator `score` method: \n"
   ]
  },
  {
   "cell_type": "code",
   "execution_count": 2,
   "id": "hourly-input",
   "metadata": {},
   "outputs": [],
   "source": [
    "heart_disease = pd.read_csv(\"heart-disease.csv\")"
   ]
  },
  {
   "cell_type": "code",
   "execution_count": 35,
   "id": "light-metropolitan",
   "metadata": {},
   "outputs": [
    {
     "data": {
      "text/html": [
       "<div>\n",
       "<style scoped>\n",
       "    .dataframe tbody tr th:only-of-type {\n",
       "        vertical-align: middle;\n",
       "    }\n",
       "\n",
       "    .dataframe tbody tr th {\n",
       "        vertical-align: top;\n",
       "    }\n",
       "\n",
       "    .dataframe thead th {\n",
       "        text-align: right;\n",
       "    }\n",
       "</style>\n",
       "<table border=\"1\" class=\"dataframe\">\n",
       "  <thead>\n",
       "    <tr style=\"text-align: right;\">\n",
       "      <th></th>\n",
       "      <th>age</th>\n",
       "      <th>sex</th>\n",
       "      <th>cp</th>\n",
       "      <th>trestbps</th>\n",
       "      <th>chol</th>\n",
       "      <th>fbs</th>\n",
       "      <th>restecg</th>\n",
       "      <th>thalach</th>\n",
       "      <th>exang</th>\n",
       "      <th>oldpeak</th>\n",
       "      <th>slope</th>\n",
       "      <th>ca</th>\n",
       "      <th>thal</th>\n",
       "      <th>target</th>\n",
       "    </tr>\n",
       "  </thead>\n",
       "  <tbody>\n",
       "    <tr>\n",
       "      <th>0</th>\n",
       "      <td>63</td>\n",
       "      <td>1</td>\n",
       "      <td>3</td>\n",
       "      <td>145</td>\n",
       "      <td>233</td>\n",
       "      <td>1</td>\n",
       "      <td>0</td>\n",
       "      <td>150</td>\n",
       "      <td>0</td>\n",
       "      <td>2.3</td>\n",
       "      <td>0</td>\n",
       "      <td>0</td>\n",
       "      <td>1</td>\n",
       "      <td>1</td>\n",
       "    </tr>\n",
       "    <tr>\n",
       "      <th>1</th>\n",
       "      <td>37</td>\n",
       "      <td>1</td>\n",
       "      <td>2</td>\n",
       "      <td>130</td>\n",
       "      <td>250</td>\n",
       "      <td>0</td>\n",
       "      <td>1</td>\n",
       "      <td>187</td>\n",
       "      <td>0</td>\n",
       "      <td>3.5</td>\n",
       "      <td>0</td>\n",
       "      <td>0</td>\n",
       "      <td>2</td>\n",
       "      <td>1</td>\n",
       "    </tr>\n",
       "    <tr>\n",
       "      <th>2</th>\n",
       "      <td>41</td>\n",
       "      <td>0</td>\n",
       "      <td>1</td>\n",
       "      <td>130</td>\n",
       "      <td>204</td>\n",
       "      <td>0</td>\n",
       "      <td>0</td>\n",
       "      <td>172</td>\n",
       "      <td>0</td>\n",
       "      <td>1.4</td>\n",
       "      <td>2</td>\n",
       "      <td>0</td>\n",
       "      <td>2</td>\n",
       "      <td>1</td>\n",
       "    </tr>\n",
       "    <tr>\n",
       "      <th>3</th>\n",
       "      <td>56</td>\n",
       "      <td>1</td>\n",
       "      <td>1</td>\n",
       "      <td>120</td>\n",
       "      <td>236</td>\n",
       "      <td>0</td>\n",
       "      <td>1</td>\n",
       "      <td>178</td>\n",
       "      <td>0</td>\n",
       "      <td>0.8</td>\n",
       "      <td>2</td>\n",
       "      <td>0</td>\n",
       "      <td>2</td>\n",
       "      <td>1</td>\n",
       "    </tr>\n",
       "    <tr>\n",
       "      <th>4</th>\n",
       "      <td>57</td>\n",
       "      <td>0</td>\n",
       "      <td>0</td>\n",
       "      <td>120</td>\n",
       "      <td>354</td>\n",
       "      <td>0</td>\n",
       "      <td>1</td>\n",
       "      <td>163</td>\n",
       "      <td>1</td>\n",
       "      <td>0.6</td>\n",
       "      <td>2</td>\n",
       "      <td>0</td>\n",
       "      <td>2</td>\n",
       "      <td>1</td>\n",
       "    </tr>\n",
       "  </tbody>\n",
       "</table>\n",
       "</div>"
      ],
      "text/plain": [
       "   age  sex  cp  trestbps  chol  fbs  restecg  thalach  exang  oldpeak  slope  \\\n",
       "0   63    1   3       145   233    1        0      150      0      2.3      0   \n",
       "1   37    1   2       130   250    0        1      187      0      3.5      0   \n",
       "2   41    0   1       130   204    0        0      172      0      1.4      2   \n",
       "3   56    1   1       120   236    0        1      178      0      0.8      2   \n",
       "4   57    0   0       120   354    0        1      163      1      0.6      2   \n",
       "\n",
       "   ca  thal  target  \n",
       "0   0     1       1  \n",
       "1   0     2       1  \n",
       "2   0     2       1  \n",
       "3   0     2       1  \n",
       "4   0     2       1  "
      ]
     },
     "execution_count": 35,
     "metadata": {},
     "output_type": "execute_result"
    }
   ],
   "source": [
    "heart_disease.head()"
   ]
  },
  {
   "cell_type": "code",
   "execution_count": 42,
   "id": "adopted-rider",
   "metadata": {},
   "outputs": [
    {
     "data": {
      "text/plain": [
       "RandomForestClassifier()"
      ]
     },
     "execution_count": 42,
     "metadata": {},
     "output_type": "execute_result"
    }
   ],
   "source": [
    "from sklearn.ensemble import RandomForestClassifier\n",
    "\n",
    "X = heart_disease.drop(\"target\", axis= 1)\n",
    "\n",
    "y= heart_disease[\"target\"]\n",
    "\n",
    "\n",
    "X_train , X_test , y_train , y_test = train_test_split(X, y, test_size = 0.2)\n",
    "\n",
    "\n",
    "rfc_model = RandomForestClassifier()\n",
    "\n",
    "rfc_model.fit(X_train , y_train)"
   ]
  },
  {
   "cell_type": "code",
   "execution_count": 43,
   "id": "computational-effects",
   "metadata": {},
   "outputs": [
    {
     "data": {
      "text/plain": [
       "(0.8032786885245902, 1.0)"
      ]
     },
     "execution_count": 43,
     "metadata": {},
     "output_type": "execute_result"
    }
   ],
   "source": [
    "rfc_model.score(X_test,y_test) , rfc_model.score(X_train,y_train)"
   ]
  },
  {
   "cell_type": "markdown",
   "id": "disturbed-bacteria",
   "metadata": {},
   "source": [
    "now let's do this for the regression preoblem "
   ]
  },
  {
   "cell_type": "code",
   "execution_count": 7,
   "id": "increasing-flush",
   "metadata": {},
   "outputs": [
    {
     "data": {
      "text/plain": [
       "RandomForestRegressor()"
      ]
     },
     "execution_count": 7,
     "metadata": {},
     "output_type": "execute_result"
    }
   ],
   "source": [
    "from sklearn.ensemble import RandomForestRegressor\n",
    "\n",
    "from sklearn.model_selection import train_test_split\n",
    "\n",
    "\n",
    "# splitting the data into X and y \n",
    "\n",
    "\n",
    "np.random.seed(44)\n",
    "\n",
    "X = boston_df.drop(\"target\", axis=1)\n",
    "\n",
    "y = boston_df[\"target\"]\n",
    "\n",
    "\n",
    "\n",
    "X_train , X_test , y_train , y_test = train_test_split(X, y, test_size = 0.2)\n",
    "\n",
    "rfr_model = RandomForestRegressor()\n",
    "\n",
    "rfr_model.fit(X_train, y_train)\n",
    "\n"
   ]
  },
  {
   "cell_type": "code",
   "execution_count": 50,
   "id": "balanced-classroom",
   "metadata": {},
   "outputs": [
    {
     "data": {
      "text/plain": [
       "(0.891728854028301, 0.9810142970624807)"
      ]
     },
     "execution_count": 50,
     "metadata": {},
     "output_type": "execute_result"
    }
   ],
   "source": [
    "rfr_model.score(X_test, y_test) , rfr_model.score(X_train, y_train)"
   ]
  },
  {
   "cell_type": "markdown",
   "id": "initial-crisis",
   "metadata": {},
   "source": [
    "### 4.2 Evaluating a model using the `scoring` parameter"
   ]
  },
  {
   "cell_type": "code",
   "execution_count": 9,
   "id": "automotive-appearance",
   "metadata": {},
   "outputs": [
    {
     "data": {
      "text/plain": [
       "array([0.83606557, 0.86885246, 0.75409836, 0.83333333, 0.75      ])"
      ]
     },
     "execution_count": 9,
     "metadata": {},
     "output_type": "execute_result"
    }
   ],
   "source": [
    "from sklearn.model_selection import cross_val_score\n",
    "from sklearn.ensemble import RandomForestClassifier\n",
    "\n",
    "X = heart_disease.drop(\"target\", axis= 1)\n",
    "\n",
    "y= heart_disease[\"target\"]\n",
    "\n",
    "\n",
    "X_train , X_test , y_train , y_test = train_test_split(X, y, test_size = 0.2)\n",
    "\n",
    "\n",
    "rfc_model = RandomForestClassifier()\n",
    "\n",
    "rfc_model.fit(X_train , y_train)\n",
    "\n",
    "cross_val_score = cross_val_score(rfc_model,X,y, cv=5)\n",
    "\n",
    "cross_val_score"
   ]
  },
  {
   "cell_type": "code",
   "execution_count": 53,
   "id": "extra-contents",
   "metadata": {},
   "outputs": [],
   "source": [
    "single_score = rfc_model.score(X_test, y_test)"
   ]
  },
  {
   "cell_type": "code",
   "execution_count": 19,
   "id": "tough-canada",
   "metadata": {},
   "outputs": [
    {
     "data": {
      "text/plain": [
       "0.51"
      ]
     },
     "execution_count": 19,
     "metadata": {},
     "output_type": "execute_result"
    }
   ],
   "source": []
  },
  {
   "cell_type": "code",
   "execution_count": 13,
   "id": "structured-employer",
   "metadata": {},
   "outputs": [
    {
     "name": "stdout",
     "output_type": "stream",
     "text": [
      "              precision    recall  f1-score   support\n",
      "\n",
      "           0       0.50      0.33      0.40         3\n",
      "           1       0.50      0.67      0.57         3\n",
      "\n",
      "    accuracy                           0.50         6\n",
      "   macro avg       0.50      0.50      0.49         6\n",
      "weighted avg       0.50      0.50      0.49         6\n",
      "\n"
     ]
    }
   ],
   "source": [
    "from sklearn.metrics import classification_report\n",
    "\n",
    "print(classification_report(np.array([0,1,0,1,1,0]),np.array([1,0,1,1,1,0])))"
   ]
  },
  {
   "cell_type": "code",
   "execution_count": 56,
   "id": "authorized-complement",
   "metadata": {},
   "outputs": [
    {
     "name": "stdout",
     "output_type": "stream",
     "text": [
      "The single score of the estimator : 0.8360655737704918 and mean of 5 fold cross validation score : 0.8282513661202187\n"
     ]
    }
   ],
   "source": [
    "print(f\"The single score of the estimator : {single_score} and mean of 5 fold cross validation score : {np.mean(cross_val_score)}\")"
   ]
  },
  {
   "cell_type": "markdown",
   "id": "compact-cleveland",
   "metadata": {},
   "source": [
    "### 4.2.1 .Classification model evaluation metrics \n",
    "    1. Accuracy\n",
    "    2. Area under ROC curve \n",
    "    3. Confusion matrix \n",
    "    4. Classification report \n",
    "\n",
    "**Accuracy**"
   ]
  },
  {
   "cell_type": "code",
   "execution_count": 6,
   "id": "broad-mouth",
   "metadata": {},
   "outputs": [
    {
     "data": {
      "text/html": [
       "<div>\n",
       "<style scoped>\n",
       "    .dataframe tbody tr th:only-of-type {\n",
       "        vertical-align: middle;\n",
       "    }\n",
       "\n",
       "    .dataframe tbody tr th {\n",
       "        vertical-align: top;\n",
       "    }\n",
       "\n",
       "    .dataframe thead th {\n",
       "        text-align: right;\n",
       "    }\n",
       "</style>\n",
       "<table border=\"1\" class=\"dataframe\">\n",
       "  <thead>\n",
       "    <tr style=\"text-align: right;\">\n",
       "      <th></th>\n",
       "      <th>age</th>\n",
       "      <th>sex</th>\n",
       "      <th>cp</th>\n",
       "      <th>trestbps</th>\n",
       "      <th>chol</th>\n",
       "      <th>fbs</th>\n",
       "      <th>restecg</th>\n",
       "      <th>thalach</th>\n",
       "      <th>exang</th>\n",
       "      <th>oldpeak</th>\n",
       "      <th>slope</th>\n",
       "      <th>ca</th>\n",
       "      <th>thal</th>\n",
       "      <th>target</th>\n",
       "    </tr>\n",
       "  </thead>\n",
       "  <tbody>\n",
       "    <tr>\n",
       "      <th>0</th>\n",
       "      <td>63</td>\n",
       "      <td>1</td>\n",
       "      <td>3</td>\n",
       "      <td>145</td>\n",
       "      <td>233</td>\n",
       "      <td>1</td>\n",
       "      <td>0</td>\n",
       "      <td>150</td>\n",
       "      <td>0</td>\n",
       "      <td>2.3</td>\n",
       "      <td>0</td>\n",
       "      <td>0</td>\n",
       "      <td>1</td>\n",
       "      <td>1</td>\n",
       "    </tr>\n",
       "    <tr>\n",
       "      <th>1</th>\n",
       "      <td>37</td>\n",
       "      <td>1</td>\n",
       "      <td>2</td>\n",
       "      <td>130</td>\n",
       "      <td>250</td>\n",
       "      <td>0</td>\n",
       "      <td>1</td>\n",
       "      <td>187</td>\n",
       "      <td>0</td>\n",
       "      <td>3.5</td>\n",
       "      <td>0</td>\n",
       "      <td>0</td>\n",
       "      <td>2</td>\n",
       "      <td>1</td>\n",
       "    </tr>\n",
       "    <tr>\n",
       "      <th>2</th>\n",
       "      <td>41</td>\n",
       "      <td>0</td>\n",
       "      <td>1</td>\n",
       "      <td>130</td>\n",
       "      <td>204</td>\n",
       "      <td>0</td>\n",
       "      <td>0</td>\n",
       "      <td>172</td>\n",
       "      <td>0</td>\n",
       "      <td>1.4</td>\n",
       "      <td>2</td>\n",
       "      <td>0</td>\n",
       "      <td>2</td>\n",
       "      <td>1</td>\n",
       "    </tr>\n",
       "    <tr>\n",
       "      <th>3</th>\n",
       "      <td>56</td>\n",
       "      <td>1</td>\n",
       "      <td>1</td>\n",
       "      <td>120</td>\n",
       "      <td>236</td>\n",
       "      <td>0</td>\n",
       "      <td>1</td>\n",
       "      <td>178</td>\n",
       "      <td>0</td>\n",
       "      <td>0.8</td>\n",
       "      <td>2</td>\n",
       "      <td>0</td>\n",
       "      <td>2</td>\n",
       "      <td>1</td>\n",
       "    </tr>\n",
       "    <tr>\n",
       "      <th>4</th>\n",
       "      <td>57</td>\n",
       "      <td>0</td>\n",
       "      <td>0</td>\n",
       "      <td>120</td>\n",
       "      <td>354</td>\n",
       "      <td>0</td>\n",
       "      <td>1</td>\n",
       "      <td>163</td>\n",
       "      <td>1</td>\n",
       "      <td>0.6</td>\n",
       "      <td>2</td>\n",
       "      <td>0</td>\n",
       "      <td>2</td>\n",
       "      <td>1</td>\n",
       "    </tr>\n",
       "  </tbody>\n",
       "</table>\n",
       "</div>"
      ],
      "text/plain": [
       "   age  sex  cp  trestbps  chol  fbs  restecg  thalach  exang  oldpeak  slope  \\\n",
       "0   63    1   3       145   233    1        0      150      0      2.3      0   \n",
       "1   37    1   2       130   250    0        1      187      0      3.5      0   \n",
       "2   41    0   1       130   204    0        0      172      0      1.4      2   \n",
       "3   56    1   1       120   236    0        1      178      0      0.8      2   \n",
       "4   57    0   0       120   354    0        1      163      1      0.6      2   \n",
       "\n",
       "   ca  thal  target  \n",
       "0   0     1       1  \n",
       "1   0     2       1  \n",
       "2   0     2       1  \n",
       "3   0     2       1  \n",
       "4   0     2       1  "
      ]
     },
     "execution_count": 6,
     "metadata": {},
     "output_type": "execute_result"
    }
   ],
   "source": [
    "heart_disease.head()"
   ]
  },
  {
   "cell_type": "code",
   "execution_count": 8,
   "id": "increased-microphone",
   "metadata": {},
   "outputs": [],
   "source": [
    "from sklearn.model_selection import cross_val_score\n",
    "from sklearn.ensemble import RandomForestClassifier\n",
    "\n",
    "\n",
    "np.random.seed(44)\n",
    "\n",
    "X = heart_disease.drop(\"target\", axis= 1)\n",
    "y = heart_disease[\"target\"]\n",
    "\n",
    "rfc_model = RandomForestClassifier()\n",
    "\n",
    "cross_validated_score = cross_val_score(rfc_model,X,y,cv=5)\n"
   ]
  },
  {
   "cell_type": "code",
   "execution_count": 9,
   "id": "arranged-convenience",
   "metadata": {},
   "outputs": [
    {
     "name": "stdout",
     "output_type": "stream",
     "text": [
      " Heart Disease Classifier Cross - Validated (5 folds) Accuracy : 81.83%\n"
     ]
    }
   ],
   "source": [
    "print(f\" Heart Disease Classifier Cross - Validated (5 folds) Accuracy : {np.mean(cross_validated_score)*100:.2f}%\")"
   ]
  },
  {
   "cell_type": "markdown",
   "id": "protective-service",
   "metadata": {},
   "source": [
    "**Area under the receiver operating chareacterstic curve (AUC/ROC)**\n",
    "   * Area under the curve (AUC)\n",
    "   * Receiver opertaritng characterstic curve (ROC)\n",
    "   \n",
    "   \n",
    "ROC curves are a comparison of a model's true positive rate (tpr) versus false positive rate (fpr).\n",
    "\n",
    "\n",
    "\n",
    "   * True positive = model predicts 1 when truth is 1*\n",
    "   * True negative = model predicts 0 when truth is 0\n",
    "   * False positive = model predicts 1 when truth is 0\n",
    "   * False negative = model predicts 0 when truth is 1 "
   ]
  },
  {
   "cell_type": "code",
   "execution_count": 10,
   "id": "baking-objective",
   "metadata": {},
   "outputs": [
    {
     "data": {
      "text/plain": [
       "array([[0.11, 0.89],\n",
       "       [0.13, 0.87],\n",
       "       [0.48, 0.52],\n",
       "       [0.14, 0.86],\n",
       "       [0.12, 0.88],\n",
       "       [0.03, 0.97],\n",
       "       [0.65, 0.35],\n",
       "       [0.54, 0.46],\n",
       "       [0.91, 0.09],\n",
       "       [1.  , 0.  ]])"
      ]
     },
     "execution_count": 10,
     "metadata": {},
     "output_type": "execute_result"
    }
   ],
   "source": [
    "np.random.seed(44)\n",
    "X_train , X_test , y_train , y_test = train_test_split(X, y , test_size = 0.2)\n",
    "\n",
    "rfc_model.fit(X_train, y_train)\n",
    "\n",
    "y_preds = rfc_model.predict_proba(X_test)\n",
    "\n",
    "y_preds[:10]\n"
   ]
  },
  {
   "cell_type": "code",
   "execution_count": 12,
   "id": "satellite-trainer",
   "metadata": {},
   "outputs": [
    {
     "data": {
      "text/plain": [
       "array([0.89, 0.87, 0.52, 0.86, 0.88, 0.97, 0.35, 0.46, 0.09, 0.  ])"
      ]
     },
     "execution_count": 12,
     "metadata": {},
     "output_type": "execute_result"
    }
   ],
   "source": [
    "y_preds_positivs = y_preds[:,1]\n",
    "y_preds_positivs[:10]"
   ]
  },
  {
   "cell_type": "code",
   "execution_count": 13,
   "id": "turned-arnold",
   "metadata": {},
   "outputs": [],
   "source": [
    "from sklearn.metrics import roc_curve\n",
    "\n",
    "fpr , tpr, thresholds = roc_curve(y_test, y_preds_positivs)\n"
   ]
  },
  {
   "cell_type": "code",
   "execution_count": 19,
   "id": "reflected-pastor",
   "metadata": {},
   "outputs": [
    {
     "data": {
      "text/plain": [
       "array([0.        , 0.        , 0.        , 0.        , 0.        ,\n",
       "       0.        , 0.        , 0.        , 0.        , 0.03571429,\n",
       "       0.03571429, 0.10714286, 0.10714286, 0.14285714, 0.17857143,\n",
       "       0.17857143, 0.21428571, 0.21428571, 0.28571429, 0.28571429,\n",
       "       0.39285714, 0.39285714, 0.46428571, 0.53571429, 0.57142857,\n",
       "       0.67857143, 0.75      , 0.82142857, 0.96428571, 1.        ])"
      ]
     },
     "execution_count": 19,
     "metadata": {},
     "output_type": "execute_result"
    }
   ],
   "source": [
    "fpr"
   ]
  },
  {
   "cell_type": "code",
   "execution_count": 14,
   "id": "medical-parking",
   "metadata": {},
   "outputs": [
    {
     "data": {
      "image/png": "[encoded data removed]",
      "text/plain": [
       "<Figure size 432x288 with 1 Axes>"
      ]
     },
     "metadata": {},
     "output_type": "display_data"
    }
   ],
   "source": [
    "def plot_roc(fpr,tpr) :\n",
    "    \n",
    "    \"\"\"\n",
    "    plots receiver opertaritng cahracterstics curve (ROC)\n",
    "    from true positive rate (tpr) and false negative rate (fpr)\n",
    "   \n",
    "    \"\"\"\n",
    "    fig , ax = plt.subplots()\n",
    "    \n",
    "    ax.plot(fpr,tpr,c=\"orange\" , label=\"ROC\")\n",
    "    ax.plot([0,1],[0,1],c= \"red\" , label=\"Gussing\", linestyle=\"--\")\n",
    "    ax.legend()\n",
    "    ax.set(xlabel=\"false positive rate (fpr)\",\n",
    "          ylabel = \"true positive rate (tpr)\",\n",
    "          title=\"ROC curve\")\n",
    "    plt.show()\n",
    "\n",
    "plot_roc(fpr,tpr)"
   ]
  },
  {
   "cell_type": "code",
   "execution_count": 15,
   "id": "intensive-credits",
   "metadata": {},
   "outputs": [
    {
     "data": {
      "text/plain": [
       "0.9145021645021645"
      ]
     },
     "execution_count": 15,
     "metadata": {},
     "output_type": "execute_result"
    }
   ],
   "source": [
    "from sklearn.metrics  import roc_auc_score\n",
    "\n",
    "roc_auc_score(y_test, y_preds_positivs)"
   ]
  },
  {
   "cell_type": "code",
   "execution_count": 32,
   "id": "satisfied-trout",
   "metadata": {},
   "outputs": [
    {
     "data": {
      "text/plain": [
       "94     1\n",
       "54     1\n",
       "261    0\n",
       "172    0\n",
       "44     1\n",
       "      ..\n",
       "300    0\n",
       "88     1\n",
       "9      1\n",
       "260    0\n",
       "192    0\n",
       "Name: target, Length: 61, dtype: int64"
      ]
     },
     "execution_count": 32,
     "metadata": {},
     "output_type": "execute_result"
    }
   ],
   "source": [
    "y_test"
   ]
  },
  {
   "cell_type": "code",
   "execution_count": 16,
   "id": "voluntary-spine",
   "metadata": {},
   "outputs": [
    {
     "data": {
      "image/png": "[encoded data removed]",
      "text/plain": [
       "<Figure size 432x288 with 1 Axes>"
      ]
     },
     "metadata": {},
     "output_type": "display_data"
    }
   ],
   "source": [
    "# plot the perfect ROC curve \n",
    "\n",
    "fpr, tpr, thresh = roc_curve(y_test, y_test)\n",
    "\n",
    "plot_roc(fpr,tpr)"
   ]
  },
  {
   "cell_type": "code",
   "execution_count": 17,
   "id": "usual-nerve",
   "metadata": {},
   "outputs": [
    {
     "data": {
      "text/plain": [
       "1.0"
      ]
     },
     "execution_count": 17,
     "metadata": {},
     "output_type": "execute_result"
    }
   ],
   "source": [
    "# find the perfect AUC score \n",
    "roc_auc_score(y_test, y_test)"
   ]
  },
  {
   "cell_type": "markdown",
   "id": "supported-valuation",
   "metadata": {},
   "source": [
    "### Confusion Matrix\n",
    "A confusion matrix is a quick \n",
    "way to compare the labels a model predicts and the actual labels it was supposed to predict . In essence , giving you an idea of where the model is getting confused "
   ]
  },
  {
   "cell_type": "code",
   "execution_count": 19,
   "id": "hungarian-auditor",
   "metadata": {},
   "outputs": [
    {
     "data": {
      "text/plain": [
       "array([[22,  6],\n",
       "       [ 5, 28]], dtype=int64)"
      ]
     },
     "execution_count": 19,
     "metadata": {},
     "output_type": "execute_result"
    }
   ],
   "source": [
    "from sklearn.metrics  import confusion_matrix\n",
    "\n",
    "\n",
    "y_preds = rfc_model.predict(X_test)\n",
    "\n",
    "confusion_matrix(y_test,y_preds)"
   ]
  },
  {
   "cell_type": "code",
   "execution_count": 21,
   "id": "gorgeous-scratch",
   "metadata": {},
   "outputs": [
    {
     "data": {
      "text/html": [
       "<div>\n",
       "<style scoped>\n",
       "    .dataframe tbody tr th:only-of-type {\n",
       "        vertical-align: middle;\n",
       "    }\n",
       "\n",
       "    .dataframe tbody tr th {\n",
       "        vertical-align: top;\n",
       "    }\n",
       "\n",
       "    .dataframe thead th {\n",
       "        text-align: right;\n",
       "    }\n",
       "</style>\n",
       "<table border=\"1\" class=\"dataframe\">\n",
       "  <thead>\n",
       "    <tr style=\"text-align: right;\">\n",
       "      <th>Predicted Value</th>\n",
       "      <th>0</th>\n",
       "      <th>1</th>\n",
       "    </tr>\n",
       "    <tr>\n",
       "      <th>Actual Value</th>\n",
       "      <th></th>\n",
       "      <th></th>\n",
       "    </tr>\n",
       "  </thead>\n",
       "  <tbody>\n",
       "    <tr>\n",
       "      <th>0</th>\n",
       "      <td>22</td>\n",
       "      <td>6</td>\n",
       "    </tr>\n",
       "    <tr>\n",
       "      <th>1</th>\n",
       "      <td>5</td>\n",
       "      <td>28</td>\n",
       "    </tr>\n",
       "  </tbody>\n",
       "</table>\n",
       "</div>"
      ],
      "text/plain": [
       "Predicted Value   0   1\n",
       "Actual Value           \n",
       "0                22   6\n",
       "1                 5  28"
      ]
     },
     "execution_count": 21,
     "metadata": {},
     "output_type": "execute_result"
    }
   ],
   "source": [
    "# visualize confusion matrix by using pd.crosstab()\n",
    "pd.crosstab(y_test,\n",
    "           y_preds,\n",
    "           rownames=[\"Actual Value\"],\n",
    "           colnames =[\"Predicted Value\"])"
   ]
  },
  {
   "cell_type": "code",
   "execution_count": 22,
   "id": "intensive-caution",
   "metadata": {},
   "outputs": [
    {
     "data": {
      "text/plain": [
       "(61, 61)"
      ]
     },
     "execution_count": 22,
     "metadata": {},
     "output_type": "execute_result"
    }
   ],
   "source": [
    "22+6+5+28 , len(y_test)"
   ]
  },
  {
   "cell_type": "code",
   "execution_count": 26,
   "id": "adopted-cholesterol",
   "metadata": {},
   "outputs": [
    {
     "name": "stdout",
     "output_type": "stream",
     "text": [
      "Collecting package metadata (current_repodata.json): ...working... done\n",
      "Solving environment: ...working... done\n",
      "\n",
      "## Package Plan ##\n",
      "\n",
      "  environment location: E:\\codes\\Machine_learning\\mlcourse_codes\\numpy\\env\n",
      "\n",
      "  added / updated specs:\n",
      "    - seaborn\n",
      "\n",
      "\n",
      "The following packages will be downloaded:\n",
      "\n",
      "    package                    |            build\n",
      "    ---------------------------|-----------------\n",
      "    seaborn-0.11.1             |     pyhd3eb1b0_0         212 KB\n",
      "    ------------------------------------------------------------\n",
      "                                           Total:         212 KB\n",
      "\n",
      "The following NEW packages will be INSTALLED:\n",
      "\n",
      "  seaborn            pkgs/main/noarch::seaborn-0.11.1-pyhd3eb1b0_0\n",
      "\n",
      "\n",
      "\n",
      "Downloading and Extracting Packages\n",
      "\n",
      "seaborn-0.11.1       | 212 KB    |            |   0% \n",
      "seaborn-0.11.1       | 212 KB    | 7          |   8% \n",
      "seaborn-0.11.1       | 212 KB    | #####2     |  53% \n",
      "seaborn-0.11.1       | 212 KB    | ########## | 100% \n",
      "seaborn-0.11.1       | 212 KB    | ########## | 100% \n",
      "Preparing transaction: ...working... done\n",
      "Verifying transaction: ...working... done\n",
      "Executing transaction: ...working... done\n",
      "\n",
      "Note: you may need to restart the kernel to use updated packages.\n"
     ]
    }
   ],
   "source": [
    "conda install seaborn"
   ]
  },
  {
   "cell_type": "code",
   "execution_count": 27,
   "id": "south-strike",
   "metadata": {},
   "outputs": [],
   "source": [
    "import seaborn  as sns"
   ]
  },
  {
   "cell_type": "code",
   "execution_count": 32,
   "id": "voluntary-child",
   "metadata": {},
   "outputs": [
    {
     "data": {
      "image/png": "[encoded data removed]",
      "text/plain": [
       "<Figure size 432x288 with 2 Axes>"
      ]
     },
     "metadata": {},
     "output_type": "display_data"
    }
   ],
   "source": [
    "# make confusion matrix more visual using heatmap \n",
    "\n",
    "sns.set(font_scale=1.5)\n",
    "\n",
    "conf_mat = confusion_matrix(y_test,y_preds)\n",
    "\n",
    "sns.heatmap(conf_mat);"
   ]
  },
  {
   "cell_type": "code",
   "execution_count": 45,
   "id": "unlikely-favor",
   "metadata": {},
   "outputs": [
    {
     "data": {
      "image/png": "[encoded data removed]",
      "text/plain": [
       "<Figure size 432x288 with 2 Axes>"
      ]
     },
     "metadata": {},
     "output_type": "display_data"
    }
   ],
   "source": [
    "# make a function which will plot confusion matrix \n",
    "\n",
    "def plot_conf_mat(conf_mat) :\n",
    "    \"\"\"\n",
    "    Plots confusion matrix using seaborn's heatmap function\n",
    "    \"\"\"\n",
    "    \n",
    "    fig , ax = plt.subplots()\n",
    "    \n",
    "    ax = sns.heatmap(conf_mat,\n",
    "                     annot=True, # it will annotate the boxes with confusion matrix info ( numbers )\n",
    "                     #cbar=False   # it will remove the color bar form the side . \n",
    "                    )\n",
    "    ax.set(\n",
    "        xlabel=\"Actual Value / True label\",\n",
    "          ylabel=\"Predicted Value\")\n",
    "    fig.suptitle(\"Confusion Matrix\");\n",
    "\n",
    "\n",
    "plot_conf_mat(conf_mat)"
   ]
  },
  {
   "cell_type": "code",
   "execution_count": 44,
   "id": "tender-session",
   "metadata": {},
   "outputs": [
    {
     "data": {
      "image/png": "[encoded data removed]",
      "text/plain": [
       "<Figure size 432x288 with 2 Axes>"
      ]
     },
     "metadata": {},
     "output_type": "display_data"
    }
   ],
   "source": [
    "from sklearn.metrics  import plot_confusion_matrix\n",
    "\n",
    "plot_confusion_matrix(rfc_model,X_test,y_test);"
   ]
  },
  {
   "cell_type": "markdown",
   "id": "bulgarian-jurisdiction",
   "metadata": {},
   "source": [
    "**Classification Report**"
   ]
  },
  {
   "cell_type": "code",
   "execution_count": 46,
   "id": "extended-tourism",
   "metadata": {},
   "outputs": [
    {
     "name": "stdout",
     "output_type": "stream",
     "text": [
      "              precision    recall  f1-score   support\n",
      "\n",
      "           0       0.81      0.79      0.80        28\n",
      "           1       0.82      0.85      0.84        33\n",
      "\n",
      "    accuracy                           0.82        61\n",
      "   macro avg       0.82      0.82      0.82        61\n",
      "weighted avg       0.82      0.82      0.82        61\n",
      "\n"
     ]
    }
   ],
   "source": [
    "from sklearn.metrics import classification_report\n",
    "\n",
    "print(classification_report(y_test,y_preds))"
   ]
  },
  {
   "cell_type": "code",
   "execution_count": 52,
   "id": "miniature-bonus",
   "metadata": {},
   "outputs": [
    {
     "name": "stderr",
     "output_type": "stream",
     "text": [
      "E:\\codes\\Machine_learning\\mlcourse_codes\\numpy\\env\\lib\\site-packages\\sklearn\\metrics\\_classification.py:1245: UndefinedMetricWarning: Precision and F-score are ill-defined and being set to 0.0 in labels with no predicted samples. Use `zero_division` parameter to control this behavior.\n",
      "  _warn_prf(average, modifier, msg_start, len(result))\n",
      "E:\\codes\\Machine_learning\\mlcourse_codes\\numpy\\env\\lib\\site-packages\\sklearn\\metrics\\_classification.py:1245: UndefinedMetricWarning: Precision and F-score are ill-defined and being set to 0.0 in labels with no predicted samples. Use `zero_division` parameter to control this behavior.\n",
      "  _warn_prf(average, modifier, msg_start, len(result))\n",
      "E:\\codes\\Machine_learning\\mlcourse_codes\\numpy\\env\\lib\\site-packages\\sklearn\\metrics\\_classification.py:1245: UndefinedMetricWarning: Precision and F-score are ill-defined and being set to 0.0 in labels with no predicted samples. Use `zero_division` parameter to control this behavior.\n",
      "  _warn_prf(average, modifier, msg_start, len(result))\n"
     ]
    },
    {
     "data": {
      "text/html": [
       "<div>\n",
       "<style scoped>\n",
       "    .dataframe tbody tr th:only-of-type {\n",
       "        vertical-align: middle;\n",
       "    }\n",
       "\n",
       "    .dataframe tbody tr th {\n",
       "        vertical-align: top;\n",
       "    }\n",
       "\n",
       "    .dataframe thead th {\n",
       "        text-align: right;\n",
       "    }\n",
       "</style>\n",
       "<table border=\"1\" class=\"dataframe\">\n",
       "  <thead>\n",
       "    <tr style=\"text-align: right;\">\n",
       "      <th></th>\n",
       "      <th>0.0</th>\n",
       "      <th>1.0</th>\n",
       "      <th>accuracy</th>\n",
       "      <th>macro avg</th>\n",
       "      <th>weighted avg</th>\n",
       "    </tr>\n",
       "  </thead>\n",
       "  <tbody>\n",
       "    <tr>\n",
       "      <th>precision</th>\n",
       "      <td>0.99990</td>\n",
       "      <td>0.0</td>\n",
       "      <td>0.9999</td>\n",
       "      <td>0.499950</td>\n",
       "      <td>0.99980</td>\n",
       "    </tr>\n",
       "    <tr>\n",
       "      <th>recall</th>\n",
       "      <td>1.00000</td>\n",
       "      <td>0.0</td>\n",
       "      <td>0.9999</td>\n",
       "      <td>0.500000</td>\n",
       "      <td>0.99990</td>\n",
       "    </tr>\n",
       "    <tr>\n",
       "      <th>f1-score</th>\n",
       "      <td>0.99995</td>\n",
       "      <td>0.0</td>\n",
       "      <td>0.9999</td>\n",
       "      <td>0.499975</td>\n",
       "      <td>0.99985</td>\n",
       "    </tr>\n",
       "    <tr>\n",
       "      <th>support</th>\n",
       "      <td>9999.00000</td>\n",
       "      <td>1.0</td>\n",
       "      <td>0.9999</td>\n",
       "      <td>10000.000000</td>\n",
       "      <td>10000.00000</td>\n",
       "    </tr>\n",
       "  </tbody>\n",
       "</table>\n",
       "</div>"
      ],
      "text/plain": [
       "                  0.0  1.0  accuracy     macro avg  weighted avg\n",
       "precision     0.99990  0.0    0.9999      0.499950       0.99980\n",
       "recall        1.00000  0.0    0.9999      0.500000       0.99990\n",
       "f1-score      0.99995  0.0    0.9999      0.499975       0.99985\n",
       "support    9999.00000  1.0    0.9999  10000.000000   10000.00000"
      ]
     },
     "execution_count": 52,
     "metadata": {},
     "output_type": "execute_result"
    }
   ],
   "source": [
    "# where precision and recall become valuable \n",
    "disease_true = np.zeros(10000)\n",
    "disease_true[0] = 1 # only one positive case \n",
    "\n",
    "disease_preds = np.zeros(10000)\n",
    "\n",
    "pd.DataFrame(classification_report(disease_true, disease_preds,output_dict=True))"
   ]
  },
  {
   "cell_type": "markdown",
   "id": "closing-gothic",
   "metadata": {},
   "source": [
    "to summarize classification metrics :\n",
    "* **Accuracy** is a good measure to start with if all classes are balancced (e.g. same amount of samples which are labelled with 0 or 1 )\n",
    "* **Precision** and **Recall** become more important when classes are imbalanced. \n",
    "* If false positive predictions are worse than false negatives , aim for higher precision.\n",
    "* If false negative predictions are worse than false  positives , aim for higher recall. \n",
    "* F1-score is a combination of precision and reall . "
   ]
  },
  {
   "cell_type": "markdown",
   "id": "local-vanilla",
   "metadata": {},
   "source": [
    "## Regression model evaluation metrics \n",
    "\n",
    "most commonly used evaluation metrics for the regression problem are : \n",
    "* R^2 (pronounced as R squared ) or coefficient of determination. \n",
    "* Mean Absolute Error (MAE)\n",
    "* Mean Squared Error (MSE)\n",
    "\n",
    "### R^2 \n",
    "\n",
    "What R-squared does : Compares your models predictions to the mean of the target . If all that the model does is predict the mean of the target , it's r-squrad value will be 0 and if model can predict prefectly the range of number of the target ,  the r-squred value will be 1 . The value can range from negative infinity to 1 . \n"
   ]
  },
  {
   "cell_type": "code",
   "execution_count": 20,
   "id": "relevant-highland",
   "metadata": {},
   "outputs": [
    {
     "data": {
      "text/plain": [
       "0    24.0\n",
       "1    21.6\n",
       "2    34.7\n",
       "3    33.4\n",
       "4    36.2\n",
       "Name: target, dtype: float64"
      ]
     },
     "execution_count": 20,
     "metadata": {},
     "output_type": "execute_result"
    }
   ],
   "source": [
    "from sklearn.ensemble import RandomForestRegressor\n",
    "\n",
    "X = boston_df.drop(\"target\",axis = 1)\n",
    "\n",
    "y = boston_df[\"target\"]\n",
    "\n",
    "y.head()"
   ]
  },
  {
   "cell_type": "code",
   "execution_count": 21,
   "id": "parental-audit",
   "metadata": {},
   "outputs": [
    {
     "data": {
      "text/plain": [
       "0.8182255851731138"
      ]
     },
     "execution_count": 21,
     "metadata": {},
     "output_type": "execute_result"
    }
   ],
   "source": [
    "from sklearn.model_selection import train_test_split\n",
    "\n",
    "# setting randorm seed \n",
    "\n",
    "np.random.seed(33)\n",
    "\n",
    "# splitting into train and test data \n",
    "X_train , X_test , y_train, y_test = train_test_split(X, y, test_size=0.2)\n",
    "\n",
    "# instanciating RandomForestRegressor\n",
    "\n",
    "rfr_model = RandomForestRegressor()\n",
    "\n",
    "# fitting or training the model \n",
    "\n",
    "rfr_model.fit(X_train, y_train)\n",
    "\n",
    "# scoring model ( r^2 score by default )\n",
    "\n",
    "rfr_model.score(X_test, y_test)"
   ]
  },
  {
   "cell_type": "code",
   "execution_count": 22,
   "id": "confirmed-ensemble",
   "metadata": {},
   "outputs": [
    {
     "data": {
      "text/plain": [
       "0.8182255851731138"
      ]
     },
     "execution_count": 22,
     "metadata": {},
     "output_type": "execute_result"
    }
   ],
   "source": [
    "from sklearn.metrics  import r2_score\n",
    "y_preds = rfr_model.predict(X_test)\n",
    "r2_score(y_test,y_test)"
   ]
  },
  {
   "cell_type": "code",
   "execution_count": 29,
   "id": "encouraging-adelaide",
   "metadata": {},
   "outputs": [
    {
     "data": {
      "text/plain": [
       "122    20.5\n",
       "400     5.6\n",
       "423    13.4\n",
       "447    12.6\n",
       "44     21.2\n",
       "       ... \n",
       "165    25.0\n",
       "106    19.5\n",
       "470    19.9\n",
       "149    15.4\n",
       "110    21.7\n",
       "Name: target, Length: 102, dtype: float64"
      ]
     },
     "execution_count": 29,
     "metadata": {},
     "output_type": "execute_result"
    }
   ],
   "source": [
    "y_test"
   ]
  },
  {
   "cell_type": "code",
   "execution_count": 8,
   "id": "warming-signal",
   "metadata": {},
   "outputs": [
    {
     "data": {
      "text/plain": [
       "(array([21.33039216, 21.33039216, 21.33039216, 21.33039216, 21.33039216,\n",
       "        21.33039216, 21.33039216, 21.33039216, 21.33039216, 21.33039216]),\n",
       " 21.330392156862743)"
      ]
     },
     "execution_count": 8,
     "metadata": {},
     "output_type": "execute_result"
    }
   ],
   "source": [
    "y_mean = np.full(len(y_test),np.mean(y_test))\n",
    "y_mean[:10] , y_test.mean()"
   ]
  },
  {
   "cell_type": "code",
   "execution_count": 9,
   "id": "detailed-ability",
   "metadata": {},
   "outputs": [
    {
     "data": {
      "text/plain": [
       "0.0"
      ]
     },
     "execution_count": 9,
     "metadata": {},
     "output_type": "execute_result"
    }
   ],
   "source": [
    "r2_score(y_test, y_mean) #this will result 0 as the model is predicting only the mean"
   ]
  },
  {
   "cell_type": "code",
   "execution_count": 10,
   "id": "scheduled-profile",
   "metadata": {},
   "outputs": [
    {
     "data": {
      "text/plain": [
       "1.0"
      ]
     },
     "execution_count": 10,
     "metadata": {},
     "output_type": "execute_result"
    }
   ],
   "source": [
    "r2_score(y_test, y_test) # this will result 1 as the model is predicting same as the actual value"
   ]
  },
  {
   "cell_type": "code",
   "execution_count": 11,
   "id": "saved-shell",
   "metadata": {},
   "outputs": [
    {
     "data": {
      "text/plain": [
       "-6.058590515978386"
      ]
     },
     "execution_count": 11,
     "metadata": {},
     "output_type": "execute_result"
    }
   ],
   "source": [
    "r2_score(y_test,np.random.rand(len(y_test))) # this will result in negaive as the predicted value is \n",
    "#random and nowhere near actual value"
   ]
  },
  {
   "cell_type": "markdown",
   "id": "assured-borough",
   "metadata": {},
   "source": [
    "### Mean Absolute error (MAE)\n",
    "MAE is the average of the absolute differences between predictions and actual values . It gives you and idea of how wrong your models predictions are "
   ]
  },
  {
   "cell_type": "code",
   "execution_count": 13,
   "id": "sustained-senate",
   "metadata": {},
   "outputs": [
    {
     "data": {
      "text/plain": [
       "2.2459215686274523"
      ]
     },
     "execution_count": 13,
     "metadata": {},
     "output_type": "execute_result"
    }
   ],
   "source": [
    "from sklearn.metrics import mean_absolute_error\n",
    "\n",
    "y_preds = rfr_model.predict(X_test)\n",
    "\n",
    "mean_absolute_error(y_test,y_preds)\n",
    "    \n"
   ]
  },
  {
   "cell_type": "code",
   "execution_count": 14,
   "id": "mental-superior",
   "metadata": {},
   "outputs": [
    {
     "data": {
      "text/html": [
       "<div>\n",
       "<style scoped>\n",
       "    .dataframe tbody tr th:only-of-type {\n",
       "        vertical-align: middle;\n",
       "    }\n",
       "\n",
       "    .dataframe tbody tr th {\n",
       "        vertical-align: top;\n",
       "    }\n",
       "\n",
       "    .dataframe thead th {\n",
       "        text-align: right;\n",
       "    }\n",
       "</style>\n",
       "<table border=\"1\" class=\"dataframe\">\n",
       "  <thead>\n",
       "    <tr style=\"text-align: right;\">\n",
       "      <th></th>\n",
       "      <th>y_test</th>\n",
       "      <th>y_preds</th>\n",
       "    </tr>\n",
       "  </thead>\n",
       "  <tbody>\n",
       "    <tr>\n",
       "      <th>122</th>\n",
       "      <td>20.5</td>\n",
       "      <td>18.618</td>\n",
       "    </tr>\n",
       "    <tr>\n",
       "      <th>400</th>\n",
       "      <td>5.6</td>\n",
       "      <td>8.658</td>\n",
       "    </tr>\n",
       "    <tr>\n",
       "      <th>423</th>\n",
       "      <td>13.4</td>\n",
       "      <td>13.150</td>\n",
       "    </tr>\n",
       "    <tr>\n",
       "      <th>447</th>\n",
       "      <td>12.6</td>\n",
       "      <td>15.613</td>\n",
       "    </tr>\n",
       "    <tr>\n",
       "      <th>44</th>\n",
       "      <td>21.2</td>\n",
       "      <td>21.874</td>\n",
       "    </tr>\n",
       "  </tbody>\n",
       "</table>\n",
       "</div>"
      ],
      "text/plain": [
       "     y_test  y_preds\n",
       "122    20.5   18.618\n",
       "400     5.6    8.658\n",
       "423    13.4   13.150\n",
       "447    12.6   15.613\n",
       "44     21.2   21.874"
      ]
     },
     "execution_count": 14,
     "metadata": {},
     "output_type": "execute_result"
    }
   ],
   "source": [
    "df= pd.DataFrame({\"y_test\":y_test,\n",
    "                 \"y_preds\":y_preds})\n",
    "df.head()\n",
    "\n"
   ]
  },
  {
   "cell_type": "code",
   "execution_count": 19,
   "id": "hollywood-acting",
   "metadata": {},
   "outputs": [],
   "source": [
    "df[\"absolute difference/error\"] =np.abs(df[\"y_test\"]- df[\"y_preds\"])"
   ]
  },
  {
   "cell_type": "code",
   "execution_count": 20,
   "id": "worth-auction",
   "metadata": {},
   "outputs": [
    {
     "data": {
      "text/html": [
       "<div>\n",
       "<style scoped>\n",
       "    .dataframe tbody tr th:only-of-type {\n",
       "        vertical-align: middle;\n",
       "    }\n",
       "\n",
       "    .dataframe tbody tr th {\n",
       "        vertical-align: top;\n",
       "    }\n",
       "\n",
       "    .dataframe thead th {\n",
       "        text-align: right;\n",
       "    }\n",
       "</style>\n",
       "<table border=\"1\" class=\"dataframe\">\n",
       "  <thead>\n",
       "    <tr style=\"text-align: right;\">\n",
       "      <th></th>\n",
       "      <th>y_test</th>\n",
       "      <th>y_preds</th>\n",
       "      <th>absolute difference/error</th>\n",
       "    </tr>\n",
       "  </thead>\n",
       "  <tbody>\n",
       "    <tr>\n",
       "      <th>122</th>\n",
       "      <td>20.5</td>\n",
       "      <td>18.618</td>\n",
       "      <td>1.882</td>\n",
       "    </tr>\n",
       "    <tr>\n",
       "      <th>400</th>\n",
       "      <td>5.6</td>\n",
       "      <td>8.658</td>\n",
       "      <td>3.058</td>\n",
       "    </tr>\n",
       "    <tr>\n",
       "      <th>423</th>\n",
       "      <td>13.4</td>\n",
       "      <td>13.150</td>\n",
       "      <td>0.250</td>\n",
       "    </tr>\n",
       "    <tr>\n",
       "      <th>447</th>\n",
       "      <td>12.6</td>\n",
       "      <td>15.613</td>\n",
       "      <td>3.013</td>\n",
       "    </tr>\n",
       "    <tr>\n",
       "      <th>44</th>\n",
       "      <td>21.2</td>\n",
       "      <td>21.874</td>\n",
       "      <td>0.674</td>\n",
       "    </tr>\n",
       "  </tbody>\n",
       "</table>\n",
       "</div>"
      ],
      "text/plain": [
       "     y_test  y_preds  absolute difference/error\n",
       "122    20.5   18.618                      1.882\n",
       "400     5.6    8.658                      3.058\n",
       "423    13.4   13.150                      0.250\n",
       "447    12.6   15.613                      3.013\n",
       "44     21.2   21.874                      0.674"
      ]
     },
     "execution_count": 20,
     "metadata": {},
     "output_type": "execute_result"
    }
   ],
   "source": [
    "df.head()"
   ]
  },
  {
   "cell_type": "code",
   "execution_count": 22,
   "id": "oriental-first",
   "metadata": {},
   "outputs": [
    {
     "data": {
      "text/plain": [
       "2.2459215686274523"
      ]
     },
     "execution_count": 22,
     "metadata": {},
     "output_type": "execute_result"
    }
   ],
   "source": [
    "np.mean(df[\"absolute difference/error\"]) "
   ]
  },
  {
   "cell_type": "code",
   "execution_count": 30,
   "id": "green-michigan",
   "metadata": {},
   "outputs": [
    {
     "data": {
      "text/plain": [
       "True"
      ]
     },
     "execution_count": 30,
     "metadata": {},
     "output_type": "execute_result"
    }
   ],
   "source": [
    "mean_absolute_error(y_test,y_preds) == np.mean(df[\"absolute difference/error\"])"
   ]
  },
  {
   "cell_type": "markdown",
   "id": "prescription-effects",
   "metadata": {},
   "source": [
    "## Mean Squared Error (MAE)"
   ]
  },
  {
   "cell_type": "code",
   "execution_count": 24,
   "id": "regulated-museum",
   "metadata": {},
   "outputs": [],
   "source": [
    "df[\"difference squared\"]=np.square(df[\"y_test\"]- df[\"y_preds\"])"
   ]
  },
  {
   "cell_type": "code",
   "execution_count": 25,
   "id": "likely-belief",
   "metadata": {},
   "outputs": [
    {
     "data": {
      "text/html": [
       "<div>\n",
       "<style scoped>\n",
       "    .dataframe tbody tr th:only-of-type {\n",
       "        vertical-align: middle;\n",
       "    }\n",
       "\n",
       "    .dataframe tbody tr th {\n",
       "        vertical-align: top;\n",
       "    }\n",
       "\n",
       "    .dataframe thead th {\n",
       "        text-align: right;\n",
       "    }\n",
       "</style>\n",
       "<table border=\"1\" class=\"dataframe\">\n",
       "  <thead>\n",
       "    <tr style=\"text-align: right;\">\n",
       "      <th></th>\n",
       "      <th>y_test</th>\n",
       "      <th>y_preds</th>\n",
       "      <th>absolute difference/error</th>\n",
       "      <th>difference squared</th>\n",
       "    </tr>\n",
       "  </thead>\n",
       "  <tbody>\n",
       "    <tr>\n",
       "      <th>122</th>\n",
       "      <td>20.5</td>\n",
       "      <td>18.618</td>\n",
       "      <td>1.882</td>\n",
       "      <td>3.541924</td>\n",
       "    </tr>\n",
       "    <tr>\n",
       "      <th>400</th>\n",
       "      <td>5.6</td>\n",
       "      <td>8.658</td>\n",
       "      <td>3.058</td>\n",
       "      <td>9.351364</td>\n",
       "    </tr>\n",
       "    <tr>\n",
       "      <th>423</th>\n",
       "      <td>13.4</td>\n",
       "      <td>13.150</td>\n",
       "      <td>0.250</td>\n",
       "      <td>0.062500</td>\n",
       "    </tr>\n",
       "    <tr>\n",
       "      <th>447</th>\n",
       "      <td>12.6</td>\n",
       "      <td>15.613</td>\n",
       "      <td>3.013</td>\n",
       "      <td>9.078169</td>\n",
       "    </tr>\n",
       "    <tr>\n",
       "      <th>44</th>\n",
       "      <td>21.2</td>\n",
       "      <td>21.874</td>\n",
       "      <td>0.674</td>\n",
       "      <td>0.454276</td>\n",
       "    </tr>\n",
       "  </tbody>\n",
       "</table>\n",
       "</div>"
      ],
      "text/plain": [
       "     y_test  y_preds  absolute difference/error  difference squared\n",
       "122    20.5   18.618                      1.882            3.541924\n",
       "400     5.6    8.658                      3.058            9.351364\n",
       "423    13.4   13.150                      0.250            0.062500\n",
       "447    12.6   15.613                      3.013            9.078169\n",
       "44     21.2   21.874                      0.674            0.454276"
      ]
     },
     "execution_count": 25,
     "metadata": {},
     "output_type": "execute_result"
    }
   ],
   "source": [
    "df.head()"
   ]
  },
  {
   "cell_type": "code",
   "execution_count": 28,
   "id": "cloudy-modification",
   "metadata": {},
   "outputs": [
    {
     "data": {
      "text/plain": [
       "13.021313588235294"
      ]
     },
     "execution_count": 28,
     "metadata": {},
     "output_type": "execute_result"
    }
   ],
   "source": [
    "from sklearn.metrics  import mean_squared_error\n",
    "\n",
    "y_preds = rfr_model.predict(X_test) \n",
    "\n",
    "mean_squared_error(y_test,y_preds)"
   ]
  },
  {
   "cell_type": "code",
   "execution_count": 29,
   "id": "instructional-contrary",
   "metadata": {},
   "outputs": [
    {
     "data": {
      "text/plain": [
       "13.021313588235294"
      ]
     },
     "execution_count": 29,
     "metadata": {},
     "output_type": "execute_result"
    }
   ],
   "source": [
    "np.mean(df[\"difference squared\"])"
   ]
  },
  {
   "cell_type": "code",
   "execution_count": 42,
   "id": "nervous-exhaust",
   "metadata": {},
   "outputs": [
    {
     "data": {
      "image/png": "[encoded data removed]",
      "text/plain": [
       "<Figure size 432x288 with 1 Axes>"
      ]
     },
     "metadata": {},
     "output_type": "display_data"
    }
   ],
   "source": [
    "fig , ax = plt.subplots()\n",
    "\n",
    "ax.scatter(np.random.randn(len(y_test)) , y_test,label = \"y_test\")\n",
    "ax.scatter(np.random.randn(len(y_preds)),y_preds,label = \"y_preds\")\n",
    "ax.legend();"
   ]
  },
  {
   "cell_type": "markdown",
   "id": "discrete-employee",
   "metadata": {},
   "source": [
    "## 4.2.3 Finally using the `scoring` parameter "
   ]
  },
  {
   "cell_type": "code",
   "execution_count": 45,
   "id": "forbidden-queens",
   "metadata": {},
   "outputs": [
    {
     "data": {
      "text/html": [
       "<div>\n",
       "<style scoped>\n",
       "    .dataframe tbody tr th:only-of-type {\n",
       "        vertical-align: middle;\n",
       "    }\n",
       "\n",
       "    .dataframe tbody tr th {\n",
       "        vertical-align: top;\n",
       "    }\n",
       "\n",
       "    .dataframe thead th {\n",
       "        text-align: right;\n",
       "    }\n",
       "</style>\n",
       "<table border=\"1\" class=\"dataframe\">\n",
       "  <thead>\n",
       "    <tr style=\"text-align: right;\">\n",
       "      <th></th>\n",
       "      <th>age</th>\n",
       "      <th>sex</th>\n",
       "      <th>cp</th>\n",
       "      <th>trestbps</th>\n",
       "      <th>chol</th>\n",
       "      <th>fbs</th>\n",
       "      <th>restecg</th>\n",
       "      <th>thalach</th>\n",
       "      <th>exang</th>\n",
       "      <th>oldpeak</th>\n",
       "      <th>slope</th>\n",
       "      <th>ca</th>\n",
       "      <th>thal</th>\n",
       "      <th>target</th>\n",
       "    </tr>\n",
       "  </thead>\n",
       "  <tbody>\n",
       "    <tr>\n",
       "      <th>0</th>\n",
       "      <td>63</td>\n",
       "      <td>1</td>\n",
       "      <td>3</td>\n",
       "      <td>145</td>\n",
       "      <td>233</td>\n",
       "      <td>1</td>\n",
       "      <td>0</td>\n",
       "      <td>150</td>\n",
       "      <td>0</td>\n",
       "      <td>2.3</td>\n",
       "      <td>0</td>\n",
       "      <td>0</td>\n",
       "      <td>1</td>\n",
       "      <td>1</td>\n",
       "    </tr>\n",
       "    <tr>\n",
       "      <th>1</th>\n",
       "      <td>37</td>\n",
       "      <td>1</td>\n",
       "      <td>2</td>\n",
       "      <td>130</td>\n",
       "      <td>250</td>\n",
       "      <td>0</td>\n",
       "      <td>1</td>\n",
       "      <td>187</td>\n",
       "      <td>0</td>\n",
       "      <td>3.5</td>\n",
       "      <td>0</td>\n",
       "      <td>0</td>\n",
       "      <td>2</td>\n",
       "      <td>1</td>\n",
       "    </tr>\n",
       "    <tr>\n",
       "      <th>2</th>\n",
       "      <td>41</td>\n",
       "      <td>0</td>\n",
       "      <td>1</td>\n",
       "      <td>130</td>\n",
       "      <td>204</td>\n",
       "      <td>0</td>\n",
       "      <td>0</td>\n",
       "      <td>172</td>\n",
       "      <td>0</td>\n",
       "      <td>1.4</td>\n",
       "      <td>2</td>\n",
       "      <td>0</td>\n",
       "      <td>2</td>\n",
       "      <td>1</td>\n",
       "    </tr>\n",
       "    <tr>\n",
       "      <th>3</th>\n",
       "      <td>56</td>\n",
       "      <td>1</td>\n",
       "      <td>1</td>\n",
       "      <td>120</td>\n",
       "      <td>236</td>\n",
       "      <td>0</td>\n",
       "      <td>1</td>\n",
       "      <td>178</td>\n",
       "      <td>0</td>\n",
       "      <td>0.8</td>\n",
       "      <td>2</td>\n",
       "      <td>0</td>\n",
       "      <td>2</td>\n",
       "      <td>1</td>\n",
       "    </tr>\n",
       "    <tr>\n",
       "      <th>4</th>\n",
       "      <td>57</td>\n",
       "      <td>0</td>\n",
       "      <td>0</td>\n",
       "      <td>120</td>\n",
       "      <td>354</td>\n",
       "      <td>0</td>\n",
       "      <td>1</td>\n",
       "      <td>163</td>\n",
       "      <td>1</td>\n",
       "      <td>0.6</td>\n",
       "      <td>2</td>\n",
       "      <td>0</td>\n",
       "      <td>2</td>\n",
       "      <td>1</td>\n",
       "    </tr>\n",
       "  </tbody>\n",
       "</table>\n",
       "</div>"
      ],
      "text/plain": [
       "   age  sex  cp  trestbps  chol  fbs  restecg  thalach  exang  oldpeak  slope  \\\n",
       "0   63    1   3       145   233    1        0      150      0      2.3      0   \n",
       "1   37    1   2       130   250    0        1      187      0      3.5      0   \n",
       "2   41    0   1       130   204    0        0      172      0      1.4      2   \n",
       "3   56    1   1       120   236    0        1      178      0      0.8      2   \n",
       "4   57    0   0       120   354    0        1      163      1      0.6      2   \n",
       "\n",
       "   ca  thal  target  \n",
       "0   0     1       1  \n",
       "1   0     2       1  \n",
       "2   0     2       1  \n",
       "3   0     2       1  \n",
       "4   0     2       1  "
      ]
     },
     "execution_count": 45,
     "metadata": {},
     "output_type": "execute_result"
    }
   ],
   "source": [
    "heart_disease = pd.read_csv(\"heart-disease.csv\")\n",
    "heart_disease.head()"
   ]
  },
  {
   "cell_type": "code",
   "execution_count": 47,
   "id": "mighty-lesbian",
   "metadata": {},
   "outputs": [],
   "source": [
    "X = heart_disease.drop(\"target\", axis =1 )\n",
    "\n",
    "y= heart_disease[\"target\"]\n"
   ]
  },
  {
   "cell_type": "markdown",
   "id": "trained-employee",
   "metadata": {},
   "source": [
    "**Accuracy**"
   ]
  },
  {
   "cell_type": "code",
   "execution_count": 51,
   "id": "respected-thumbnail",
   "metadata": {},
   "outputs": [
    {
     "data": {
      "text/plain": [
       "array([0.81967213, 0.90163934, 0.83606557, 0.78333333, 0.78333333])"
      ]
     },
     "execution_count": 51,
     "metadata": {},
     "output_type": "execute_result"
    }
   ],
   "source": [
    "from sklearn.model_selection import cross_val_score\n",
    "from sklearn.ensemble import RandomForestClassifier\n",
    "\n",
    "np.random.seed(42)\n",
    "\n",
    "rfc_model = RandomForestClassifier()\n",
    "\n",
    "cross_val_score(rfc_model, X,y , cv=5 , scoring = None)"
   ]
  },
  {
   "cell_type": "code",
   "execution_count": 56,
   "id": "extensive-multimedia",
   "metadata": {},
   "outputs": [
    {
     "data": {
      "text/plain": [
       "array([0.81967213, 0.90163934, 0.83606557, 0.78333333, 0.78333333])"
      ]
     },
     "execution_count": 56,
     "metadata": {},
     "output_type": "execute_result"
    }
   ],
   "source": [
    "np.random.seed(42)\n",
    "cross_val_score(rfc_model, X , y , cv = 5 )"
   ]
  },
  {
   "cell_type": "code",
   "execution_count": 55,
   "id": "yellow-mounting",
   "metadata": {},
   "outputs": [
    {
     "data": {
      "text/plain": [
       "array([0.81967213, 0.90163934, 0.83606557, 0.78333333, 0.78333333])"
      ]
     },
     "execution_count": 55,
     "metadata": {},
     "output_type": "execute_result"
    }
   ],
   "source": [
    "np.random.seed(42)\n",
    "cross_val_score(rfc_model, X , y , cv = 5 , scoring = \"accuracy\")"
   ]
  },
  {
   "cell_type": "markdown",
   "id": "equivalent-separate",
   "metadata": {},
   "source": [
    "as we can see , because the default scoring metrics of classification estimators is mean accuracy , if it is not defined , \n",
    "cross_val_score will set it to None , and , if None , the default evaluation metric will be set which is in this case mean accuracy "
   ]
  },
  {
   "cell_type": "markdown",
   "id": "tamil-sydney",
   "metadata": {},
   "source": [
    "**Precision**"
   ]
  },
  {
   "cell_type": "code",
   "execution_count": 57,
   "id": "important-marble",
   "metadata": {},
   "outputs": [
    {
     "data": {
      "text/plain": [
       "array([0.82352941, 0.93548387, 0.84848485, 0.79411765, 0.76315789])"
      ]
     },
     "execution_count": 57,
     "metadata": {},
     "output_type": "execute_result"
    }
   ],
   "source": [
    "np.random.seed(42)\n",
    "cross_val_score(rfc_model, X , y , cv = 5 , scoring = \"precision\")"
   ]
  },
  {
   "cell_type": "markdown",
   "id": "wireless-overhead",
   "metadata": {},
   "source": [
    "**Recall**"
   ]
  },
  {
   "cell_type": "code",
   "execution_count": 58,
   "id": "accurate-apparatus",
   "metadata": {},
   "outputs": [
    {
     "data": {
      "text/plain": [
       "array([0.84848485, 0.87878788, 0.84848485, 0.81818182, 0.87878788])"
      ]
     },
     "execution_count": 58,
     "metadata": {},
     "output_type": "execute_result"
    }
   ],
   "source": [
    "np.random.seed(42)\n",
    "cross_val_score(rfc_model, X , y , cv = 5 , scoring = \"recall\")"
   ]
  },
  {
   "cell_type": "markdown",
   "id": "white-northern",
   "metadata": {},
   "source": [
    "**F1-score**"
   ]
  },
  {
   "cell_type": "code",
   "execution_count": 59,
   "id": "overhead-edinburgh",
   "metadata": {},
   "outputs": [
    {
     "data": {
      "text/plain": [
       "array([0.8358209 , 0.90625   , 0.84848485, 0.80597015, 0.81690141])"
      ]
     },
     "execution_count": 59,
     "metadata": {},
     "output_type": "execute_result"
    }
   ],
   "source": [
    "np.random.seed(42)\n",
    "cross_val_score(rfc_model, X , y , cv = 5 , scoring = \"f1\")"
   ]
  },
  {
   "cell_type": "markdown",
   "id": "dependent-german",
   "metadata": {},
   "source": [
    "now let's try this for the regression problems as well "
   ]
  },
  {
   "cell_type": "code",
   "execution_count": 65,
   "id": "structural-timber",
   "metadata": {},
   "outputs": [],
   "source": [
    "X = boston_df.drop(\"target\", axis = 1)\n",
    "y = boston_df[\"target\"]"
   ]
  },
  {
   "cell_type": "code",
   "execution_count": 66,
   "id": "regional-diary",
   "metadata": {},
   "outputs": [],
   "source": [
    "from sklearn.ensemble import RandomForestRegressor\n",
    "from sklearn.model_selection import cross_val_score\n",
    "\n",
    "\n",
    "\n",
    "rfr_model = RandomForestRegressor()"
   ]
  },
  {
   "cell_type": "markdown",
   "id": "alpha-happening",
   "metadata": {},
   "source": [
    "**R^2** "
   ]
  },
  {
   "cell_type": "code",
   "execution_count": 68,
   "id": "backed-fraction",
   "metadata": {},
   "outputs": [
    {
     "data": {
      "text/plain": [
       "array([0.77231143, 0.86035935, 0.74664002, 0.47632078, 0.26630379])"
      ]
     },
     "execution_count": 68,
     "metadata": {},
     "output_type": "execute_result"
    }
   ],
   "source": [
    "np.random.seed(42)\n",
    "cross_val_score(rfr_model, X , y , cv = 5 , scoring =None)"
   ]
  },
  {
   "cell_type": "code",
   "execution_count": 69,
   "id": "stable-chest",
   "metadata": {},
   "outputs": [
    {
     "data": {
      "text/plain": [
       "array([0.77231143, 0.86035935, 0.74664002, 0.47632078, 0.26630379])"
      ]
     },
     "execution_count": 69,
     "metadata": {},
     "output_type": "execute_result"
    }
   ],
   "source": [
    "np.random.seed(42)\n",
    "cross_val_score(rfr_model, X , y , cv = 5 )"
   ]
  },
  {
   "cell_type": "code",
   "execution_count": 70,
   "id": "lesbian-detail",
   "metadata": {},
   "outputs": [
    {
     "data": {
      "text/plain": [
       "array([0.77231143, 0.86035935, 0.74664002, 0.47632078, 0.26630379])"
      ]
     },
     "execution_count": 70,
     "metadata": {},
     "output_type": "execute_result"
    }
   ],
   "source": [
    "np.random.seed(42)\n",
    "cross_val_score(rfr_model, X , y , cv = 5 , scoring =\"r2\")"
   ]
  },
  {
   "cell_type": "markdown",
   "id": "conservative-brown",
   "metadata": {},
   "source": [
    "**MAE**"
   ]
  },
  {
   "cell_type": "code",
   "execution_count": 71,
   "id": "economic-nitrogen",
   "metadata": {},
   "outputs": [
    {
     "data": {
      "text/plain": [
       "array([-2.11419608, -2.58716832, -3.33976238, -3.78563366, -3.32941584])"
      ]
     },
     "execution_count": 71,
     "metadata": {},
     "output_type": "execute_result"
    }
   ],
   "source": [
    "np.random.seed(42)\n",
    "cross_val_score(rfr_model, X , y , cv = 5 , scoring =\"neg_mean_absolute_error\")"
   ]
  },
  {
   "cell_type": "markdown",
   "id": "worthy-looking",
   "metadata": {},
   "source": [
    "**MSE**"
   ]
  },
  {
   "cell_type": "code",
   "execution_count": 73,
   "id": "returning-height",
   "metadata": {},
   "outputs": [
    {
     "data": {
      "text/plain": [
       "array([ -7.86326927, -12.71243178, -20.29089194, -45.93287403,\n",
       "       -19.50774726])"
      ]
     },
     "execution_count": 73,
     "metadata": {},
     "output_type": "execute_result"
    }
   ],
   "source": [
    "np.random.seed(42)\n",
    "cross_val_score(rfr_model, X , y , cv = 5 , scoring =\"neg_mean_squared_error\")"
   ]
  },
  {
   "cell_type": "markdown",
   "id": "expected-alexander",
   "metadata": {},
   "source": [
    "## 4.2 Evaluating a model with sklearn functions\n",
    "### Classification Evaluation Metrics "
   ]
  },
  {
   "cell_type": "code",
   "execution_count": 4,
   "id": "approved-gather",
   "metadata": {},
   "outputs": [
    {
     "name": "stdout",
     "output_type": "stream",
     "text": [
      "Our Classification Estimator's performance on various Evaluaton Metrics :\n",
      "  The accuracy score of our model evaluated on sklearn accuracy function  : 85.25%\n",
      "  The precision score of our model evaluated on sklearn accuracy function : 84.85%\n",
      "  The recall score of our model evaluated on sklearn accuracy function    : 87.50%\n",
      "  The f1  score of our model evaluated on sklearn accuracy function       : 86.15%\n"
     ]
    }
   ],
   "source": [
    "from sklearn.metrics import accuracy_score , precision_score ,recall_score ,f1_score\n",
    "from sklearn.ensemble  import RandomForestClassifier\n",
    "\n",
    "%matplotlib inline \n",
    "import matplotlib.pyplot as plt\n",
    "import numpy  as np\n",
    "import pandas as pd \n",
    "\n",
    "plt.style.use(\"seaborn-whitegrid\")\n",
    "\n",
    "heart_disease = pd.read_csv(\"heart-disease.csv\")\n",
    "\n",
    "np.random.seed(42)\n",
    "\n",
    "X = heart_disease.drop(\"target\", axis=1)\n",
    "y = heart_disease[\"target\"]\n",
    "\n",
    "from sklearn.model_selection import train_test_split\n",
    "\n",
    "X_train, X_test ,y_train, y_test = train_test_split(X,y,test_size = 0.2)\n",
    "\n",
    "rfc_model = RandomForestClassifier()\n",
    "\n",
    "rfc_model.fit(X_train, y_train)\n",
    "\n",
    "y_preds = rfc_model.predict(X_test)\n",
    "\n",
    "\n",
    "print(\"Our Classification Estimator's performance on various Evaluaton Metrics :\")\n",
    "\n",
    "print(f\"  The accuracy score of our model evaluated on sklearn accuracy function  : {accuracy_score(y_test,y_preds)*100:.2f}%\")\n",
    "print(f\"  The precision score of our model evaluated on sklearn accuracy function : {precision_score(y_test,y_preds)*100:.2f}%\")\n",
    "print(f\"  The recall score of our model evaluated on sklearn accuracy function    : {recall_score(y_test,y_preds)*100:.2f}%\")\n",
    "print(f\"  The f1  score of our model evaluated on sklearn accuracy function       : {f1_score(y_test,y_preds)*100:.2f}%\")\n",
    "\n",
    "\n"
   ]
  },
  {
   "cell_type": "markdown",
   "id": "facial-booking",
   "metadata": {},
   "source": [
    "### Regression Evaluation Metrics"
   ]
  },
  {
   "cell_type": "code",
   "execution_count": 5,
   "id": "considerable-attitude",
   "metadata": {},
   "outputs": [
    {
     "name": "stdout",
     "output_type": "stream",
     "text": [
      "Our Regression Estimator's performance on various Evaluaton Metrics :\n",
      "  The r-squared score of our model evaluated on sklearn accuracy function                 : 86.54%\n",
      "  The mean absolute error (MAE) score of our model evaluated on sklearn accuracy function : 2.136\n",
      "  The mean squared error (MSE) score of our model evaluated on sklearn accuracy function  : 9.867\n"
     ]
    }
   ],
   "source": [
    "from sklearn.metrics import r2_score,mean_absolute_error,mean_squared_error\n",
    "from sklearn.ensemble  import RandomForestRegressor\n",
    "\n",
    "%matplotlib inline \n",
    "import matplotlib.pyplot as plt\n",
    "import numpy  as np\n",
    "import pandas as pd \n",
    "\n",
    "plt.style.use(\"seaborn-whitegrid\")\n",
    "\n",
    "from sklearn.datasets import load_boston\n",
    "boston = load_boston()\n",
    "\n",
    "\n",
    "\n",
    "boston_df = pd.DataFrame(boston[\"data\"],columns= boston[\"feature_names\"])\n",
    "boston_df[\"target\"] = boston[\"target\"]\n",
    "\n",
    "\n",
    "np.random.seed(42)\n",
    "\n",
    "X = boston_df.drop(\"target\" , axis =1)\n",
    "\n",
    "y = boston_df[\"target\"]\n",
    "\n",
    "from sklearn.model_selection import train_test_split\n",
    "\n",
    "X_train , X_test , y_train , y_test = train_test_split(X , y , test_size = 0.2)\n",
    "\n",
    "rfr_model = RandomForestRegressor()\n",
    "\n",
    "rfr_model.fit(X_train, y_train)\n",
    "\n",
    "y_preds = rfr_model.predict(X_test)\n",
    "\n",
    "\n",
    "\n",
    "print(\"Our Regression Estimator's performance on various Evaluaton Metrics :\")\n",
    "\n",
    "print(f\"  The r-squared score of our model evaluated on sklearn accuracy function                 : {r2_score(y_test,y_preds)*100:.2f}%\")\n",
    "print(f\"  The mean absolute error (MAE) score of our model evaluated on sklearn accuracy function : {mean_absolute_error(y_test,y_preds):.3f}\")\n",
    "print(f\"  The mean squared error (MSE) score of our model evaluated on sklearn accuracy function  : {mean_squared_error(y_test,y_preds):.3f}\")\n",
    "\n",
    "\n",
    "\n",
    "\n"
   ]
  },
  {
   "cell_type": "markdown",
   "id": "exotic-budapest",
   "metadata": {},
   "source": [
    "## 5. Improving a model \n",
    "\n",
    "first predictions = baseline predictions. \n",
    "first model = baseline model\n",
    "\n",
    "From a data prespective : \n",
    "* Could we collect more data ? ( generally , the more data, the better)\n",
    "* Could we improve our data ? ( feature engineering { adding or removing features } )\n",
    "\n",
    "From a model prespective : \n",
    "* Is there a bettwe model we could use ? \n",
    "* Could we improve the current model ? ( tuning the hyperparameters )\n",
    "\n",
    "Hyperpareameters vs. Parameters \n",
    "* Parameters = model find these patterns in data \n",
    "* Hyperparameters = settings on a modle you can adjust to (potentially) improbe its ability to find patterns\n",
    "\n",
    "Three way to adjust hyperparameters: \n",
    "\n",
    "1. By hand \n",
    "2. Randomly with RandomSearchCV\n",
    "3. Exhaustively with GridSearchCV\n",
    "\n",
    "\n"
   ]
  },
  {
   "cell_type": "code",
   "execution_count": 6,
   "id": "precious-rebate",
   "metadata": {},
   "outputs": [
    {
     "data": {
      "text/plain": [
       "{'bootstrap': True,\n",
       " 'ccp_alpha': 0.0,\n",
       " 'class_weight': None,\n",
       " 'criterion': 'gini',\n",
       " 'max_depth': None,\n",
       " 'max_features': 'auto',\n",
       " 'max_leaf_nodes': None,\n",
       " 'max_samples': None,\n",
       " 'min_impurity_decrease': 0.0,\n",
       " 'min_impurity_split': None,\n",
       " 'min_samples_leaf': 1,\n",
       " 'min_samples_split': 2,\n",
       " 'min_weight_fraction_leaf': 0.0,\n",
       " 'n_estimators': 100,\n",
       " 'n_jobs': None,\n",
       " 'oob_score': False,\n",
       " 'random_state': None,\n",
       " 'verbose': 0,\n",
       " 'warm_start': False}"
      ]
     },
     "execution_count": 6,
     "metadata": {},
     "output_type": "execute_result"
    }
   ],
   "source": [
    "from sklearn.ensemble import RandomForestClassifier\n",
    "\n",
    "rfc_model = RandomForestClassifier()\n",
    "\n",
    "rfc_model.get_params()"
   ]
  },
  {
   "cell_type": "markdown",
   "id": "chief-exhibit",
   "metadata": {},
   "source": [
    "### 5.1 Tuning hyperparameters by hand "
   ]
  },
  {
   "cell_type": "code",
   "execution_count": 5,
   "id": "nonprofit-winter",
   "metadata": {},
   "outputs": [
    {
     "data": {
      "text/plain": [
       "{'bootstrap': True,\n",
       " 'ccp_alpha': 0.0,\n",
       " 'class_weight': None,\n",
       " 'criterion': 'gini',\n",
       " 'max_depth': None,\n",
       " 'max_features': 'auto',\n",
       " 'max_leaf_nodes': None,\n",
       " 'max_samples': None,\n",
       " 'min_impurity_decrease': 0.0,\n",
       " 'min_impurity_split': None,\n",
       " 'min_samples_leaf': 1,\n",
       " 'min_samples_split': 2,\n",
       " 'min_weight_fraction_leaf': 0.0,\n",
       " 'n_estimators': 100,\n",
       " 'n_jobs': None,\n",
       " 'oob_score': False,\n",
       " 'random_state': None,\n",
       " 'verbose': 0,\n",
       " 'warm_start': False}"
      ]
     },
     "execution_count": 5,
     "metadata": {},
     "output_type": "execute_result"
    }
   ],
   "source": [
    "rfc_model.get_params()"
   ]
  },
  {
   "cell_type": "markdown",
   "id": "confident-shooting",
   "metadata": {},
   "source": [
    "we are going to try and adjust :\n",
    "\n",
    "1. `max_depth`\n",
    "2. `max_features`\n",
    "3. `min_samples_leaf`\n",
    "4. `min_sample_split`\n",
    "5. `n_estimators`\n"
   ]
  },
  {
   "cell_type": "code",
   "execution_count": 12,
   "id": "antique-nomination",
   "metadata": {},
   "outputs": [],
   "source": [
    " def evaluate_preds(y_true, y_preds) :\n",
    "        \"\"\"\n",
    "        Performs various classification evaluation test on true \n",
    "        label and prediction label \n",
    "        \"\"\"\n",
    "        \n",
    "        accuracy = accuracy_score(y_true, y_preds)\n",
    "        precision = precision_score(y_true, y_preds)\n",
    "        recall = recall_score(y_true, y_preds)\n",
    "        f1= f1_score(y_true, y_preds)\n",
    "        \n",
    "        evaluate_dict = {\n",
    "            \"Accuracy\" :round(accuracy,2),\n",
    "            \"Precision\" : round(precision,2),\n",
    "            \"Recall\" : round(recall,2),\n",
    "            \"f1 score\" : round(f1,2)\n",
    "        }\n",
    "        \n",
    "        print(f\"The accuracy score is : {accuracy*100:.2f}%\")\n",
    "        print(f\"The precision score is : {precision:.2f}\")\n",
    "        print(f\"The recall score is : {recall:.2f}\")\n",
    "        print(f\"The f1  score is : {f1:.2f}\")\n",
    "        \n",
    "        return evaluate_dict\n"
   ]
  },
  {
   "cell_type": "code",
   "execution_count": 15,
   "id": "proud-uniform",
   "metadata": {},
   "outputs": [
    {
     "data": {
      "text/html": [
       "<div>\n",
       "<style scoped>\n",
       "    .dataframe tbody tr th:only-of-type {\n",
       "        vertical-align: middle;\n",
       "    }\n",
       "\n",
       "    .dataframe tbody tr th {\n",
       "        vertical-align: top;\n",
       "    }\n",
       "\n",
       "    .dataframe thead th {\n",
       "        text-align: right;\n",
       "    }\n",
       "</style>\n",
       "<table border=\"1\" class=\"dataframe\">\n",
       "  <thead>\n",
       "    <tr style=\"text-align: right;\">\n",
       "      <th></th>\n",
       "      <th>age</th>\n",
       "      <th>sex</th>\n",
       "      <th>cp</th>\n",
       "      <th>trestbps</th>\n",
       "      <th>chol</th>\n",
       "      <th>fbs</th>\n",
       "      <th>restecg</th>\n",
       "      <th>thalach</th>\n",
       "      <th>exang</th>\n",
       "      <th>oldpeak</th>\n",
       "      <th>slope</th>\n",
       "      <th>ca</th>\n",
       "      <th>thal</th>\n",
       "      <th>target</th>\n",
       "    </tr>\n",
       "  </thead>\n",
       "  <tbody>\n",
       "    <tr>\n",
       "      <th>92</th>\n",
       "      <td>52</td>\n",
       "      <td>1</td>\n",
       "      <td>2</td>\n",
       "      <td>138</td>\n",
       "      <td>223</td>\n",
       "      <td>0</td>\n",
       "      <td>1</td>\n",
       "      <td>169</td>\n",
       "      <td>0</td>\n",
       "      <td>0.0</td>\n",
       "      <td>2</td>\n",
       "      <td>4</td>\n",
       "      <td>2</td>\n",
       "      <td>1</td>\n",
       "    </tr>\n",
       "    <tr>\n",
       "      <th>85</th>\n",
       "      <td>67</td>\n",
       "      <td>0</td>\n",
       "      <td>2</td>\n",
       "      <td>115</td>\n",
       "      <td>564</td>\n",
       "      <td>0</td>\n",
       "      <td>0</td>\n",
       "      <td>160</td>\n",
       "      <td>0</td>\n",
       "      <td>1.6</td>\n",
       "      <td>1</td>\n",
       "      <td>0</td>\n",
       "      <td>3</td>\n",
       "      <td>1</td>\n",
       "    </tr>\n",
       "    <tr>\n",
       "      <th>75</th>\n",
       "      <td>55</td>\n",
       "      <td>0</td>\n",
       "      <td>1</td>\n",
       "      <td>135</td>\n",
       "      <td>250</td>\n",
       "      <td>0</td>\n",
       "      <td>0</td>\n",
       "      <td>161</td>\n",
       "      <td>0</td>\n",
       "      <td>1.4</td>\n",
       "      <td>1</td>\n",
       "      <td>0</td>\n",
       "      <td>2</td>\n",
       "      <td>1</td>\n",
       "    </tr>\n",
       "    <tr>\n",
       "      <th>233</th>\n",
       "      <td>64</td>\n",
       "      <td>1</td>\n",
       "      <td>0</td>\n",
       "      <td>120</td>\n",
       "      <td>246</td>\n",
       "      <td>0</td>\n",
       "      <td>0</td>\n",
       "      <td>96</td>\n",
       "      <td>1</td>\n",
       "      <td>2.2</td>\n",
       "      <td>0</td>\n",
       "      <td>1</td>\n",
       "      <td>2</td>\n",
       "      <td>0</td>\n",
       "    </tr>\n",
       "    <tr>\n",
       "      <th>243</th>\n",
       "      <td>57</td>\n",
       "      <td>1</td>\n",
       "      <td>0</td>\n",
       "      <td>152</td>\n",
       "      <td>274</td>\n",
       "      <td>0</td>\n",
       "      <td>1</td>\n",
       "      <td>88</td>\n",
       "      <td>1</td>\n",
       "      <td>1.2</td>\n",
       "      <td>1</td>\n",
       "      <td>1</td>\n",
       "      <td>3</td>\n",
       "      <td>0</td>\n",
       "    </tr>\n",
       "  </tbody>\n",
       "</table>\n",
       "</div>"
      ],
      "text/plain": [
       "     age  sex  cp  trestbps  chol  fbs  restecg  thalach  exang  oldpeak  \\\n",
       "92    52    1   2       138   223    0        1      169      0      0.0   \n",
       "85    67    0   2       115   564    0        0      160      0      1.6   \n",
       "75    55    0   1       135   250    0        0      161      0      1.4   \n",
       "233   64    1   0       120   246    0        0       96      1      2.2   \n",
       "243   57    1   0       152   274    0        1       88      1      1.2   \n",
       "\n",
       "     slope  ca  thal  target  \n",
       "92       2   4     2       1  \n",
       "85       1   0     3       1  \n",
       "75       1   0     2       1  \n",
       "233      0   1     2       0  \n",
       "243      1   1     3       0  "
      ]
     },
     "execution_count": 15,
     "metadata": {},
     "output_type": "execute_result"
    }
   ],
   "source": [
    " heart_disease_shuffled[:5]"
   ]
  },
  {
   "cell_type": "markdown",
   "id": "rapid-clear",
   "metadata": {},
   "source": [
    "as train_test_split only divides the data into training and test set , we need to devide the dataset into train validation and test set manually"
   ]
  },
  {
   "cell_type": "code",
   "execution_count": 37,
   "id": "native-census",
   "metadata": {},
   "outputs": [
    {
     "name": "stdout",
     "output_type": "stream",
     "text": [
      "Training set has : 212 item\n",
      "Validation set has : 45 item\n",
      "Test set has : 46 item\n",
      "The accuracy score is : 75.56%\n",
      "The precision score is : 0.76\n",
      "The recall score is : 0.79\n",
      "The f1  score is : 0.78\n"
     ]
    },
    {
     "data": {
      "text/plain": [
       "{'Accuracy': 0.76, 'Precision': 0.76, 'Recall': 0.79, 'f1 score': 0.78}"
      ]
     },
     "execution_count": 37,
     "metadata": {},
     "output_type": "execute_result"
    }
   ],
   "source": [
    "from sklearn.ensemble import RandomForestClassifier\n",
    "\n",
    "from sklearn.metrics import accuracy_score,precision_score , recall_score, f1_score\n",
    "\n",
    "# setup random seed \n",
    "\n",
    "np.random.seed(12)\n",
    "\n",
    "\n",
    "#shuffle the data \n",
    "\n",
    "heart_disease_shuffled = heart_disease.sample(frac =1)\n",
    "\n",
    "# split the shuffled data into features and label i.e X and y\n",
    "\n",
    "X = heart_disease_shuffled.drop(\"target\" , axis = 1)\n",
    "y = heart_disease_shuffled[\"target\"]\n",
    "\n",
    "\n",
    "# split the data into train , test and validation set \n",
    "\n",
    "train_split = round(0.7 * len(heart_disease_shuffled))\n",
    "valid_split = round(train_split +0.15 *len(heart_disease_shuffled))\n",
    "\n",
    "X_train , y_train = X[:train_split] , y[:train_split]\n",
    "\n",
    "X_valid , y_valid = X[train_split:valid_split] , y[train_split:valid_split]\n",
    "\n",
    "X_test , y_test = X[valid_split:] , y [valid_split:]\n",
    "\n",
    "\n",
    "print(f\"Training set has : {len(X_train)} item\")\n",
    "print(f\"Validation set has : {len(X_valid)} item\")\n",
    "print(f\"Test set has : {len(X_test)} item\")\n",
    "\n",
    "rfc_model = RandomForestClassifier()\n",
    "\n",
    "rfc_model.fit(X_train, y_train)\n",
    "\n",
    "# make baseline prediction\n",
    "\n",
    "y_preds = rfc_model.predict(X_valid)\n",
    "\n",
    "\n",
    "baseline_metrics = evaluate_preds(y_valid, y_preds)\n",
    "baseline_metrics"
   ]
  },
  {
   "cell_type": "markdown",
   "id": "pregnant-wisdom",
   "metadata": {},
   "source": [
    "## changing the hyperparameter by hand "
   ]
  },
  {
   "cell_type": "code",
   "execution_count": 39,
   "id": "optimum-warehouse",
   "metadata": {},
   "outputs": [
    {
     "name": "stdout",
     "output_type": "stream",
     "text": [
      "The accuracy score is : 84.44%\n",
      "The precision score is : 0.81\n",
      "The recall score is : 0.92\n",
      "The f1  score is : 0.86\n"
     ]
    }
   ],
   "source": [
    "# create a model with custom hyperparameter (max_depth)\n",
    "\n",
    "np.random.seed(12)\n",
    "\n",
    "rfc_model_1 = RandomForestClassifier(max_depth = 10)\n",
    "\n",
    "rfc_model.fit(X_train, y_train)\n",
    "\n",
    "y_preds = rfc_model.predict(X_valid)\n",
    "\n",
    "byhand_metric = evaluate_preds(y_valid, y_preds)"
   ]
  },
  {
   "cell_type": "markdown",
   "id": "documented-anime",
   "metadata": {},
   "source": [
    "## 5.2 Hyperparameter tuning using RandomizedSearchCV"
   ]
  },
  {
   "cell_type": "code",
   "execution_count": 40,
   "id": "ignored-lesson",
   "metadata": {},
   "outputs": [
    {
     "name": "stdout",
     "output_type": "stream",
     "text": [
      "Fitting 5 folds for each of 10 candidates, totalling 50 fits\n",
      "[CV] END max_depth=30, max_features=sqrt, min_samples_leaf=1, min_samples_split=4, n_estimators=1000; total time=   2.0s\n",
      "[CV] END max_depth=30, max_features=sqrt, min_samples_leaf=1, min_samples_split=4, n_estimators=1000; total time=   2.4s\n",
      "[CV] END max_depth=30, max_features=sqrt, min_samples_leaf=1, min_samples_split=4, n_estimators=1000; total time=   2.3s\n",
      "[CV] END max_depth=30, max_features=sqrt, min_samples_leaf=1, min_samples_split=4, n_estimators=1000; total time=   2.4s\n",
      "[CV] END max_depth=30, max_features=sqrt, min_samples_leaf=1, min_samples_split=4, n_estimators=1000; total time=   2.3s\n",
      "[CV] END max_depth=5, max_features=sqrt, min_samples_leaf=1, min_samples_split=6, n_estimators=200; total time=   0.6s\n",
      "[CV] END max_depth=5, max_features=sqrt, min_samples_leaf=1, min_samples_split=6, n_estimators=200; total time=   0.5s\n",
      "[CV] END max_depth=5, max_features=sqrt, min_samples_leaf=1, min_samples_split=6, n_estimators=200; total time=   0.6s\n",
      "[CV] END max_depth=5, max_features=sqrt, min_samples_leaf=1, min_samples_split=6, n_estimators=200; total time=   0.7s\n",
      "[CV] END max_depth=5, max_features=sqrt, min_samples_leaf=1, min_samples_split=6, n_estimators=200; total time=   0.5s\n",
      "[CV] END max_depth=20, max_features=auto, min_samples_leaf=4, min_samples_split=2, n_estimators=1200; total time=   3.4s\n",
      "[CV] END max_depth=20, max_features=auto, min_samples_leaf=4, min_samples_split=2, n_estimators=1200; total time=   4.5s\n",
      "[CV] END max_depth=20, max_features=auto, min_samples_leaf=4, min_samples_split=2, n_estimators=1200; total time=   3.1s\n",
      "[CV] END max_depth=20, max_features=auto, min_samples_leaf=4, min_samples_split=2, n_estimators=1200; total time=   5.5s\n",
      "[CV] END max_depth=20, max_features=auto, min_samples_leaf=4, min_samples_split=2, n_estimators=1200; total time=   5.8s\n",
      "[CV] END max_depth=10, max_features=auto, min_samples_leaf=4, min_samples_split=2, n_estimators=1; total time=   0.0s\n",
      "[CV] END max_depth=10, max_features=auto, min_samples_leaf=4, min_samples_split=2, n_estimators=1; total time=   0.0s\n",
      "[CV] END max_depth=10, max_features=auto, min_samples_leaf=4, min_samples_split=2, n_estimators=1; total time=   0.0s\n",
      "[CV] END max_depth=10, max_features=auto, min_samples_leaf=4, min_samples_split=2, n_estimators=1; total time=   0.0s\n",
      "[CV] END max_depth=10, max_features=auto, min_samples_leaf=4, min_samples_split=2, n_estimators=1; total time=   0.0s\n",
      "[CV] END max_depth=20, max_features=auto, min_samples_leaf=2, min_samples_split=6, n_estimators=100; total time=   0.3s\n",
      "[CV] END max_depth=20, max_features=auto, min_samples_leaf=2, min_samples_split=6, n_estimators=100; total time=   0.3s\n",
      "[CV] END max_depth=20, max_features=auto, min_samples_leaf=2, min_samples_split=6, n_estimators=100; total time=   0.4s\n",
      "[CV] END max_depth=20, max_features=auto, min_samples_leaf=2, min_samples_split=6, n_estimators=100; total time=   0.4s\n",
      "[CV] END max_depth=20, max_features=auto, min_samples_leaf=2, min_samples_split=6, n_estimators=100; total time=   0.4s\n",
      "[CV] END max_depth=5, max_features=sqrt, min_samples_leaf=1, min_samples_split=6, n_estimators=500; total time=   2.1s\n",
      "[CV] END max_depth=5, max_features=sqrt, min_samples_leaf=1, min_samples_split=6, n_estimators=500; total time=   1.8s\n",
      "[CV] END max_depth=5, max_features=sqrt, min_samples_leaf=1, min_samples_split=6, n_estimators=500; total time=   2.2s\n",
      "[CV] END max_depth=5, max_features=sqrt, min_samples_leaf=1, min_samples_split=6, n_estimators=500; total time=   2.1s\n",
      "[CV] END max_depth=5, max_features=sqrt, min_samples_leaf=1, min_samples_split=6, n_estimators=500; total time=   2.0s\n",
      "[CV] END max_depth=10, max_features=auto, min_samples_leaf=1, min_samples_split=2, n_estimators=100; total time=   0.3s\n",
      "[CV] END max_depth=10, max_features=auto, min_samples_leaf=1, min_samples_split=2, n_estimators=100; total time=   0.4s\n",
      "[CV] END max_depth=10, max_features=auto, min_samples_leaf=1, min_samples_split=2, n_estimators=100; total time=   0.4s\n",
      "[CV] END max_depth=10, max_features=auto, min_samples_leaf=1, min_samples_split=2, n_estimators=100; total time=   0.4s\n",
      "[CV] END max_depth=10, max_features=auto, min_samples_leaf=1, min_samples_split=2, n_estimators=100; total time=   0.4s\n",
      "[CV] END max_depth=30, max_features=auto, min_samples_leaf=1, min_samples_split=4, n_estimators=1000; total time=   3.6s\n",
      "[CV] END max_depth=30, max_features=auto, min_samples_leaf=1, min_samples_split=4, n_estimators=1000; total time=   3.9s\n",
      "[CV] END max_depth=30, max_features=auto, min_samples_leaf=1, min_samples_split=4, n_estimators=1000; total time=   4.2s\n",
      "[CV] END max_depth=30, max_features=auto, min_samples_leaf=1, min_samples_split=4, n_estimators=1000; total time=   2.7s\n",
      "[CV] END max_depth=30, max_features=auto, min_samples_leaf=1, min_samples_split=4, n_estimators=1000; total time=   2.9s\n",
      "[CV] END max_depth=5, max_features=sqrt, min_samples_leaf=1, min_samples_split=4, n_estimators=1200; total time=   3.4s\n",
      "[CV] END max_depth=5, max_features=sqrt, min_samples_leaf=1, min_samples_split=4, n_estimators=1200; total time=   3.4s\n",
      "[CV] END max_depth=5, max_features=sqrt, min_samples_leaf=1, min_samples_split=4, n_estimators=1200; total time=   3.1s\n",
      "[CV] END max_depth=5, max_features=sqrt, min_samples_leaf=1, min_samples_split=4, n_estimators=1200; total time=   3.1s\n",
      "[CV] END max_depth=5, max_features=sqrt, min_samples_leaf=1, min_samples_split=4, n_estimators=1200; total time=   3.4s\n",
      "[CV] END max_depth=20, max_features=sqrt, min_samples_leaf=4, min_samples_split=4, n_estimators=500; total time=   1.2s\n",
      "[CV] END max_depth=20, max_features=sqrt, min_samples_leaf=4, min_samples_split=4, n_estimators=500; total time=   1.2s\n",
      "[CV] END max_depth=20, max_features=sqrt, min_samples_leaf=4, min_samples_split=4, n_estimators=500; total time=   2.1s\n",
      "[CV] END max_depth=20, max_features=sqrt, min_samples_leaf=4, min_samples_split=4, n_estimators=500; total time=   2.2s\n",
      "[CV] END max_depth=20, max_features=sqrt, min_samples_leaf=4, min_samples_split=4, n_estimators=500; total time=   1.2s\n"
     ]
    },
    {
     "data": {
      "text/plain": [
       "RandomizedSearchCV(cv=5, estimator=RandomForestClassifier(n_jobs=1),\n",
       "                   param_distributions={'max_depth': [None, 5, 10, 20, 30],\n",
       "                                        'max_features': ['auto', 'sqrt'],\n",
       "                                        'min_samples_leaf': [1, 2, 4],\n",
       "                                        'min_samples_split': [2, 4, 6],\n",
       "                                        'n_estimators': [1, 100, 200, 500, 1000,\n",
       "                                                         1200]},\n",
       "                   verbose=2)"
      ]
     },
     "execution_count": 40,
     "metadata": {},
     "output_type": "execute_result"
    }
   ],
   "source": [
    "from sklearn.model_selection import RandomizedSearchCV\n",
    "\n",
    "grid = {\"n_estimators\":[1,100,200,500,1000,1200],\n",
    "       \"max_depth\":[None,5,10,20,30],\n",
    "       \"max_features\":[\"auto\",\"sqrt\"],\n",
    "       \"min_samples_split\": [2,4,6],\n",
    "       \"min_samples_leaf\":[1,2,4]}\n",
    "\n",
    "np.random.seed(12)\n",
    "\n",
    "# split data into X and y \n",
    "\n",
    "X = heart_disease_shuffled.drop(\"target\",axis = 1)\n",
    "y = heart_disease_shuffled[\"target\"]\n",
    "\n",
    "# split data into training set and test set \n",
    "\n",
    "from sklearn.model_selection import train_test_split\n",
    "\n",
    "X_train , X_test , y_train , y_test = train_test_split(X,y,test_size = 0.2)\n",
    "\n",
    "# instanciate classifier \n",
    "\n",
    "rfc_classifier = RandomForestClassifier(n_jobs = 1) # n_jobs defines number of processors to assign to the model \n",
    "\n",
    "# Setup RandomizedSearchCV\n",
    "\n",
    "rs_clf = RandomizedSearchCV(estimator = rfc_classifier,\n",
    "                           param_distributions=grid,\n",
    "                           n_iter = 10, #number of models to try\n",
    "                           cv=5,\n",
    "                           verbose=2 # lines of messages to display \n",
    "                           )\n",
    "\n",
    "\n",
    "# fit the randomized search cv verison classifier to the data\n",
    "\n",
    "rs_clf.fit(X_train, y_train)\n",
    "\n"
   ]
  },
  {
   "cell_type": "code",
   "execution_count": 36,
   "id": "proud-inquiry",
   "metadata": {},
   "outputs": [
    {
     "data": {
      "text/plain": [
       "2700"
      ]
     },
     "execution_count": 36,
     "metadata": {},
     "output_type": "execute_result"
    }
   ],
   "source": [
    "(6*5*2*3*3)*5"
   ]
  },
  {
   "cell_type": "code",
   "execution_count": 21,
   "id": "sustained-venue",
   "metadata": {},
   "outputs": [
    {
     "data": {
      "text/plain": [
       "{'n_estimators': 1200,\n",
       " 'min_samples_split': 2,\n",
       " 'min_samples_leaf': 4,\n",
       " 'max_features': 'auto',\n",
       " 'max_depth': 20}"
      ]
     },
     "execution_count": 21,
     "metadata": {},
     "output_type": "execute_result"
    }
   ],
   "source": [
    "# find out the best hyperparameter parameter \n",
    "rs_clf.best_params_"
   ]
  },
  {
   "cell_type": "code",
   "execution_count": 42,
   "id": "average-helicopter",
   "metadata": {},
   "outputs": [
    {
     "name": "stdout",
     "output_type": "stream",
     "text": [
      "The accuracy score is : 81.97%\n",
      "The precision score is : 0.81\n",
      "The recall score is : 0.88\n",
      "The f1  score is : 0.85\n"
     ]
    }
   ],
   "source": [
    "# make prediction whit best found hyperparameter attribute values\n",
    "\n",
    "np.random.seed(12)\n",
    "y_preds_rs = rs_clf.predict(X_test)\n",
    "\n",
    "\n",
    "rs_metric = evaluate_preds(y_test, y_preds_rs)\n"
   ]
  },
  {
   "cell_type": "markdown",
   "id": "grave-clarity",
   "metadata": {},
   "source": [
    "## 5.2 Hyperparameter tuning with GridSearchCV"
   ]
  },
  {
   "cell_type": "code",
   "execution_count": 43,
   "id": "adaptive-nickname",
   "metadata": {},
   "outputs": [
    {
     "name": "stdout",
     "output_type": "stream",
     "text": [
      "Fitting 5 folds for each of 12 candidates, totalling 60 fits\n",
      "[CV] END max_depth=None, max_features=auto, min_samples_leaf=4, min_samples_split=4, n_estimators=1200; total time=   4.3s\n",
      "[CV] END max_depth=None, max_features=auto, min_samples_leaf=4, min_samples_split=4, n_estimators=1200; total time=   2.1s\n",
      "[CV] END max_depth=None, max_features=auto, min_samples_leaf=4, min_samples_split=4, n_estimators=1200; total time=   2.9s\n",
      "[CV] END max_depth=None, max_features=auto, min_samples_leaf=4, min_samples_split=4, n_estimators=1200; total time=   2.8s\n",
      "[CV] END max_depth=None, max_features=auto, min_samples_leaf=4, min_samples_split=4, n_estimators=1200; total time=   3.5s\n",
      "[CV] END max_depth=None, max_features=auto, min_samples_leaf=4, min_samples_split=4, n_estimators=1500; total time=   5.8s\n",
      "[CV] END max_depth=None, max_features=auto, min_samples_leaf=4, min_samples_split=4, n_estimators=1500; total time=   3.6s\n",
      "[CV] END max_depth=None, max_features=auto, min_samples_leaf=4, min_samples_split=4, n_estimators=1500; total time=   3.7s\n",
      "[CV] END max_depth=None, max_features=auto, min_samples_leaf=4, min_samples_split=4, n_estimators=1500; total time=   4.3s\n",
      "[CV] END max_depth=None, max_features=auto, min_samples_leaf=4, min_samples_split=4, n_estimators=1500; total time=   6.5s\n",
      "[CV] END max_depth=None, max_features=auto, min_samples_leaf=4, min_samples_split=4, n_estimators=2000; total time=   7.5s\n",
      "[CV] END max_depth=None, max_features=auto, min_samples_leaf=4, min_samples_split=4, n_estimators=2000; total time=  10.0s\n",
      "[CV] END max_depth=None, max_features=auto, min_samples_leaf=4, min_samples_split=4, n_estimators=2000; total time=  10.4s\n",
      "[CV] END max_depth=None, max_features=auto, min_samples_leaf=4, min_samples_split=4, n_estimators=2000; total time=   7.7s\n",
      "[CV] END max_depth=None, max_features=auto, min_samples_leaf=4, min_samples_split=4, n_estimators=2000; total time=   9.0s\n",
      "[CV] END max_depth=None, max_features=auto, min_samples_leaf=4, min_samples_split=6, n_estimators=1200; total time=   3.3s\n",
      "[CV] END max_depth=None, max_features=auto, min_samples_leaf=4, min_samples_split=6, n_estimators=1200; total time=   2.6s\n",
      "[CV] END max_depth=None, max_features=auto, min_samples_leaf=4, min_samples_split=6, n_estimators=1200; total time=   2.8s\n",
      "[CV] END max_depth=None, max_features=auto, min_samples_leaf=4, min_samples_split=6, n_estimators=1200; total time=   2.7s\n",
      "[CV] END max_depth=None, max_features=auto, min_samples_leaf=4, min_samples_split=6, n_estimators=1200; total time=   2.5s\n",
      "[CV] END max_depth=None, max_features=auto, min_samples_leaf=4, min_samples_split=6, n_estimators=1500; total time=   3.5s\n",
      "[CV] END max_depth=None, max_features=auto, min_samples_leaf=4, min_samples_split=6, n_estimators=1500; total time=   3.5s\n",
      "[CV] END max_depth=None, max_features=auto, min_samples_leaf=4, min_samples_split=6, n_estimators=1500; total time=   3.5s\n",
      "[CV] END max_depth=None, max_features=auto, min_samples_leaf=4, min_samples_split=6, n_estimators=1500; total time=   3.3s\n",
      "[CV] END max_depth=None, max_features=auto, min_samples_leaf=4, min_samples_split=6, n_estimators=1500; total time=   3.2s\n",
      "[CV] END max_depth=None, max_features=auto, min_samples_leaf=4, min_samples_split=6, n_estimators=2000; total time=   4.0s\n",
      "[CV] END max_depth=None, max_features=auto, min_samples_leaf=4, min_samples_split=6, n_estimators=2000; total time=   4.4s\n",
      "[CV] END max_depth=None, max_features=auto, min_samples_leaf=4, min_samples_split=6, n_estimators=2000; total time=   4.1s\n",
      "[CV] END max_depth=None, max_features=auto, min_samples_leaf=4, min_samples_split=6, n_estimators=2000; total time=   4.8s\n",
      "[CV] END max_depth=None, max_features=auto, min_samples_leaf=4, min_samples_split=6, n_estimators=2000; total time=   5.1s\n",
      "[CV] END max_depth=20, max_features=auto, min_samples_leaf=4, min_samples_split=4, n_estimators=1200; total time=   3.6s\n",
      "[CV] END max_depth=20, max_features=auto, min_samples_leaf=4, min_samples_split=4, n_estimators=1200; total time=   3.9s\n",
      "[CV] END max_depth=20, max_features=auto, min_samples_leaf=4, min_samples_split=4, n_estimators=1200; total time=   5.2s\n",
      "[CV] END max_depth=20, max_features=auto, min_samples_leaf=4, min_samples_split=4, n_estimators=1200; total time=   5.0s\n",
      "[CV] END max_depth=20, max_features=auto, min_samples_leaf=4, min_samples_split=4, n_estimators=1200; total time=   5.0s\n",
      "[CV] END max_depth=20, max_features=auto, min_samples_leaf=4, min_samples_split=4, n_estimators=1500; total time=   7.6s\n",
      "[CV] END max_depth=20, max_features=auto, min_samples_leaf=4, min_samples_split=4, n_estimators=1500; total time=   7.5s\n",
      "[CV] END max_depth=20, max_features=auto, min_samples_leaf=4, min_samples_split=4, n_estimators=1500; total time=   7.1s\n",
      "[CV] END max_depth=20, max_features=auto, min_samples_leaf=4, min_samples_split=4, n_estimators=1500; total time=   6.3s\n",
      "[CV] END max_depth=20, max_features=auto, min_samples_leaf=4, min_samples_split=4, n_estimators=1500; total time=   5.9s\n",
      "[CV] END max_depth=20, max_features=auto, min_samples_leaf=4, min_samples_split=4, n_estimators=2000; total time=   8.3s\n",
      "[CV] END max_depth=20, max_features=auto, min_samples_leaf=4, min_samples_split=4, n_estimators=2000; total time=   4.9s\n",
      "[CV] END max_depth=20, max_features=auto, min_samples_leaf=4, min_samples_split=4, n_estimators=2000; total time=   7.7s\n",
      "[CV] END max_depth=20, max_features=auto, min_samples_leaf=4, min_samples_split=4, n_estimators=2000; total time=   5.4s\n",
      "[CV] END max_depth=20, max_features=auto, min_samples_leaf=4, min_samples_split=4, n_estimators=2000; total time=   7.3s\n",
      "[CV] END max_depth=20, max_features=auto, min_samples_leaf=4, min_samples_split=6, n_estimators=1200; total time=   4.2s\n",
      "[CV] END max_depth=20, max_features=auto, min_samples_leaf=4, min_samples_split=6, n_estimators=1200; total time=   3.5s\n",
      "[CV] END max_depth=20, max_features=auto, min_samples_leaf=4, min_samples_split=6, n_estimators=1200; total time=   3.6s\n",
      "[CV] END max_depth=20, max_features=auto, min_samples_leaf=4, min_samples_split=6, n_estimators=1200; total time=   2.8s\n",
      "[CV] END max_depth=20, max_features=auto, min_samples_leaf=4, min_samples_split=6, n_estimators=1200; total time=   3.0s\n",
      "[CV] END max_depth=20, max_features=auto, min_samples_leaf=4, min_samples_split=6, n_estimators=1500; total time=   4.0s\n",
      "[CV] END max_depth=20, max_features=auto, min_samples_leaf=4, min_samples_split=6, n_estimators=1500; total time=   3.9s\n",
      "[CV] END max_depth=20, max_features=auto, min_samples_leaf=4, min_samples_split=6, n_estimators=1500; total time=   4.2s\n",
      "[CV] END max_depth=20, max_features=auto, min_samples_leaf=4, min_samples_split=6, n_estimators=1500; total time=   5.2s\n",
      "[CV] END max_depth=20, max_features=auto, min_samples_leaf=4, min_samples_split=6, n_estimators=1500; total time=   3.0s\n",
      "[CV] END max_depth=20, max_features=auto, min_samples_leaf=4, min_samples_split=6, n_estimators=2000; total time=   5.5s\n",
      "[CV] END max_depth=20, max_features=auto, min_samples_leaf=4, min_samples_split=6, n_estimators=2000; total time=   7.3s\n",
      "[CV] END max_depth=20, max_features=auto, min_samples_leaf=4, min_samples_split=6, n_estimators=2000; total time=   6.4s\n",
      "[CV] END max_depth=20, max_features=auto, min_samples_leaf=4, min_samples_split=6, n_estimators=2000; total time=   6.3s\n",
      "[CV] END max_depth=20, max_features=auto, min_samples_leaf=4, min_samples_split=6, n_estimators=2000; total time=   6.8s\n"
     ]
    },
    {
     "data": {
      "text/plain": [
       "GridSearchCV(cv=5, estimator=RandomForestClassifier(n_jobs=2),\n",
       "             param_grid={'max_depth': [None, 20], 'max_features': ['auto'],\n",
       "                         'min_samples_leaf': [4], 'min_samples_split': [4, 6],\n",
       "                         'n_estimators': [1200, 1500, 2000]},\n",
       "             verbose=2)"
      ]
     },
     "execution_count": 43,
     "metadata": {},
     "output_type": "execute_result"
    }
   ],
   "source": [
    "from sklearn.model_selection import GridSearchCV\n",
    "\n",
    "\n",
    "grid_1 = {\"n_estimators\":[1200,1500,2000],\n",
    "       \"max_depth\":[None,20],\n",
    "       \"max_features\":[\"auto\"],\n",
    "       \"min_samples_split\": [4,6],\n",
    "       \"min_samples_leaf\":[4]}\n",
    "\n",
    "np.random.seed(12)\n",
    "\n",
    "X = heart_disease_shuffled.drop(\"target\", axis =1)\n",
    "y = heart_disease_shuffled[\"target\"]\n",
    "\n",
    "X_train , X_test , y_train , y_test = train_test_split(X,y,test_size = 0.2)\n",
    "\n",
    "rfc_classifier = RandomForestClassifier(n_jobs = 2)\n",
    "\n",
    "gs_clf = GridSearchCV(estimator = rfc_classifier,\n",
    "                      param_grid = grid_1 ,\n",
    "                      cv = 5,\n",
    "                      verbose = 2\n",
    "                     )\n",
    "\n",
    "gs_clf.fit(X_train,y_train)"
   ]
  },
  {
   "cell_type": "code",
   "execution_count": 33,
   "id": "north-protest",
   "metadata": {},
   "outputs": [
    {
     "data": {
      "text/plain": [
       "{'max_depth': 20,\n",
       " 'max_features': 'auto',\n",
       " 'min_samples_leaf': 4,\n",
       " 'min_samples_split': 4,\n",
       " 'n_estimators': 1500}"
      ]
     },
     "execution_count": 33,
     "metadata": {},
     "output_type": "execute_result"
    }
   ],
   "source": [
    "gs_clf.best_params_"
   ]
  },
  {
   "cell_type": "code",
   "execution_count": 44,
   "id": "dedicated-xerox",
   "metadata": {},
   "outputs": [
    {
     "name": "stdout",
     "output_type": "stream",
     "text": [
      "The accuracy score is : 83.61%\n",
      "The precision score is : 0.82\n",
      "The recall score is : 0.91\n",
      "The f1  score is : 0.86\n"
     ]
    }
   ],
   "source": [
    "y_preds_gs = gs_clf.predict(X_test)\n",
    "\n",
    "gs_metric = evaluate_preds(y_test,y_preds_gs)"
   ]
  },
  {
   "cell_type": "code",
   "execution_count": 47,
   "id": "normal-automation",
   "metadata": {},
   "outputs": [
    {
     "data": {
      "image/png": "[encoded data removed]",
      "text/plain": [
       "<Figure size 864x720 with 1 Axes>"
      ]
     },
     "metadata": {},
     "output_type": "display_data"
    }
   ],
   "source": [
    "comparison_metrics = pd.DataFrame({\n",
    "    \"baseline\": baseline_metrics,\n",
    "    \"by_hand\": byhand_metric,\n",
    "    \"RandomizedSearch metric\" : rs_metric,\n",
    "    \"GridSearch metric\" : gs_metric\n",
    "})\n",
    "\n",
    "comparison_metrics.plot.bar(figsize=(12,10));"
   ]
  },
  {
   "cell_type": "markdown",
   "id": "comparable-synthesis",
   "metadata": {},
   "source": [
    "## Saving an existin model \n",
    "we can save an modle using two ways : \n",
    "1. Pyhon's `pickle` module\n",
    "2. `joblib` module "
   ]
  },
  {
   "cell_type": "markdown",
   "id": "sexual-abortion",
   "metadata": {},
   "source": [
    "## pickle"
   ]
  },
  {
   "cell_type": "code",
   "execution_count": null,
   "id": "criminal-committee",
   "metadata": {},
   "outputs": [],
   "source": [
    "import pickle\n",
    "\n",
    "#save an model to a file \n",
    "\n",
    "pickle.dump(gs_clf,open(\"random_forest_classification_model_1.pkl\",\"wb\"))\n"
   ]
  },
  {
   "cell_type": "code",
   "execution_count": 52,
   "id": "unauthorized-choir",
   "metadata": {},
   "outputs": [
    {
     "name": "stdout",
     "output_type": "stream",
     "text": [
      "The accuracy score is : 83.61%\n",
      "The precision score is : 0.82\n",
      "The recall score is : 0.91\n",
      "The f1  score is : 0.86\n"
     ]
    },
    {
     "data": {
      "text/plain": [
       "{'Accuracy': 0.84, 'Precision': 0.82, 'Recall': 0.91, 'f1 score': 0.86}"
      ]
     },
     "execution_count": 52,
     "metadata": {},
     "output_type": "execute_result"
    }
   ],
   "source": [
    "# load ,  and predict from a saved model \n",
    "\n",
    "#load \n",
    "\n",
    "loaded_pickled_model = pickle.load(open(\"random_forest_classification_model_1.pkl\",\"rb\"))\n",
    "\n",
    "pickled_modle_y_preds = loaded_pickled_model.predict(X_test)\n",
    "\n",
    "evaluate_preds(y_test, pickled_modle_y_preds)\n"
   ]
  },
  {
   "cell_type": "code",
   "execution_count": 53,
   "id": "rapid-penetration",
   "metadata": {},
   "outputs": [
    {
     "data": {
      "text/plain": [
       "{'Accuracy': 0.84, 'Precision': 0.82, 'Recall': 0.91, 'f1 score': 0.86}"
      ]
     },
     "execution_count": 53,
     "metadata": {},
     "output_type": "execute_result"
    }
   ],
   "source": [
    "gs_metric"
   ]
  },
  {
   "cell_type": "markdown",
   "id": "coordinated-auditor",
   "metadata": {},
   "source": [
    "## joblib"
   ]
  },
  {
   "cell_type": "code",
   "execution_count": 55,
   "id": "swedish-spokesman",
   "metadata": {},
   "outputs": [
    {
     "data": {
      "text/plain": [
       "['random_forest_classification_model_2.joblib']"
      ]
     },
     "execution_count": 55,
     "metadata": {},
     "output_type": "execute_result"
    }
   ],
   "source": [
    "from joblib import dump , load\n",
    "    \n",
    "# save a model to file \n",
    "\n",
    "dump(gs_clf, filename=\"random_forest_classification_model_2.joblib\")"
   ]
  },
  {
   "cell_type": "code",
   "execution_count": 57,
   "id": "earlier-qualification",
   "metadata": {},
   "outputs": [
    {
     "name": "stdout",
     "output_type": "stream",
     "text": [
      "The accuracy score is : 83.61%\n",
      "The precision score is : 0.82\n",
      "The recall score is : 0.91\n",
      "The f1  score is : 0.86\n"
     ]
    },
    {
     "data": {
      "text/plain": [
       "{'Accuracy': 0.84, 'Precision': 0.82, 'Recall': 0.91, 'f1 score': 0.86}"
      ]
     },
     "execution_count": 57,
     "metadata": {},
     "output_type": "execute_result"
    }
   ],
   "source": [
    "# load a model form joblib file \n",
    "loaded_joblib_modle = load(filename=\"random_forest_classification_model_2.joblib\")\n",
    "\n",
    "#make prediction\n",
    "joblibed_y_preds = loaded_joblib_modle.predict(X_test)\n",
    "\n",
    "#evaluate evaluation metrics\n",
    "\n",
    "evaluate_preds(y_test,joblibed_y_preds)"
   ]
  },
  {
   "cell_type": "code",
   "execution_count": 58,
   "id": "eastern-formation",
   "metadata": {},
   "outputs": [
    {
     "data": {
      "text/plain": [
       "{'Accuracy': 0.84, 'Precision': 0.82, 'Recall': 0.91, 'f1 score': 0.86}"
      ]
     },
     "execution_count": 58,
     "metadata": {},
     "output_type": "execute_result"
    }
   ],
   "source": [
    "gs_metric"
   ]
  },
  {
   "cell_type": "markdown",
   "id": "actual-relation",
   "metadata": {},
   "source": [
    "# Putting it all together "
   ]
  },
  {
   "cell_type": "markdown",
   "id": "perfect-hostel",
   "metadata": {},
   "source": [
    "**Pipeline**\n",
    "\n",
    "documentation is [here](https://scikit-learn.org/stable/modules/generated/sklearn.pipeline.Pipeline.html)\n",
    "\n",
    "Doing all of it in one cell using pipeline "
   ]
  },
  {
   "cell_type": "code",
   "execution_count": 30,
   "id": "selective-mouth",
   "metadata": {},
   "outputs": [
    {
     "name": "stdout",
     "output_type": "stream",
     "text": [
      "The general score is   0.2337649717005309 and gs score is 0.30354781049489377\n"
     ]
    }
   ],
   "source": [
    "# libraries to get data ready \n",
    "\n",
    "import pandas as pd\n",
    "from sklearn.impute import SimpleImputer\n",
    "from sklearn.preprocessing import OneHotEncoder\n",
    "from sklearn.pipeline import Pipeline\n",
    "from sklearn.compose import ColumnTransformer\n",
    "\n",
    "# libraries to modeling\n",
    "\n",
    "from sklearn.ensemble import RandomForestRegressor\n",
    "from sklearn.model_selection import train_test_split , GridSearchCV\n",
    "\n",
    "\n",
    "# setup random seed \n",
    "\n",
    "import numpy as np\n",
    "np.random.seed(22)\n",
    "\n",
    "# load data \n",
    "\n",
    "data = pd.read_csv(\"car-sales-extended-missing-data.csv\")\n",
    "\n",
    "# delete data with no labels\n",
    "\n",
    "data.dropna(subset=[\"Price\"] , inplace = True)\n",
    "\n",
    "\n",
    "# setup features and make pipeline to transform them \n",
    "\n",
    "cat_features = [\"Make\", \"Colour\"]\n",
    "cat_transformer = Pipeline(steps=[\n",
    "    (\"imputer\" , SimpleImputer(strategy = \"constant\" , fill_value = \"Missing\")),\n",
    "    (\"one_hot\" , OneHotEncoder(handle_unknown = \"ignore\"))\n",
    "])\n",
    "\n",
    "\n",
    "door_feature = [\"Doors\"]\n",
    "door_transformer = Pipeline(steps=[\n",
    "    (\"imputer\" , SimpleImputer(strategy = \"constant\", fill_value = 4))\n",
    "])\n",
    "\n",
    "\n",
    "num_feature = [\"Odometer (KM)\"]\n",
    "num_transformer = Pipeline(steps=[\n",
    "    (\"imputer\" , SimpleImputer(strategy = \"mean\"))\n",
    "])\n",
    "\n",
    "\n",
    "# setup a preprocessor \n",
    "\n",
    "preprocessor = ColumnTransformer(transformers= [\n",
    "    (\"cat\", cat_transformer , cat_features),\n",
    "    (\"door\" , door_transformer, door_feature),\n",
    "    (\"num\" , num_transformer, num_feature)\n",
    "])\n",
    "\n",
    "\n",
    "# set up a pipeline for preprocessor and model \n",
    "\n",
    "model = Pipeline(steps =[\n",
    "    (\"preprocessor\" , preprocessor),\n",
    "    (\"model\" , RandomForestRegressor())\n",
    "])\n",
    "\n",
    "\n",
    "\n",
    "#split the data into features and labels \n",
    "\n",
    "X = data.drop(\"Price\" , axis = 1)\n",
    "y = data[\"Price\"]\n",
    "\n",
    "# split the data into training and test set \n",
    "\n",
    "X_train, X_test , y_train , y_test = train_test_split(X,y, test_size= 0.2)\n",
    "\n",
    "# fit the model \n",
    "\n",
    "model.fit(X_train, y_train)  # according to the pipeline documentatoin , the final estimator only needs to implement fit \n",
    "\n",
    "# evaluate the model with no hyperparameter tuning( defaulf values to hyperparameter )\n",
    "\n",
    "general_score = model.score(X_test, y_test)\n",
    "\n",
    "\n",
    "# setup pipegrid for GridSearchCV\n",
    "\n",
    "pipe_grid = {\n",
    "    \"preprocessor__num__imputer__strategy\": [\"mean\", \"median\"], \n",
    "    \"model__n_estimators\" : [100, 1000],\n",
    "    \"model__max_depth\":[None,5],\n",
    "    \"model__max_features\" :[\"auto\"],\n",
    "    \"model__min_samples_split\" : [2,4]\n",
    "}\n",
    "\n",
    "# instanciate GridSearchCV\n",
    "\n",
    "gs_model = GridSearchCV(model, pipe_grid, cv = 5 , verbose =False)\n",
    "\n",
    "# train GridSearchCV model\n",
    "\n",
    "gs_model.fit(X_train, y_train)\n",
    "\n",
    "# evaluate GridSearchCV model with best found hyperparameter attribute value combination from the pipe_grid\n",
    "\n",
    "gs_score = gs_model.score(X_test, y_test)\n",
    "\n",
    "# show and compare two \n",
    "\n",
    "print(f\"The general score is   {general_score} and gs score is {gs_score}\")\n"
   ]
  },
  {
   "cell_type": "code",
   "execution_count": null,
   "id": "lesbian-reserve",
   "metadata": {},
   "outputs": [],
   "source": []
  }
 ],
 "metadata": {
  "kernelspec": {
   "display_name": "Python 3",
   "language": "python",
   "name": "python3"
  },
  "language_info": {
   "codemirror_mode": {
    "name": "ipython",
    "version": 3
   },
   "file_extension": ".py",
   "mimetype": "text/x-python",
   "name": "python",
   "nbconvert_exporter": "python",
   "pygments_lexer": "ipython3",
   "version": "3.9.2"
  },
  "varInspector": {
   "cols": {
    "lenName": 16,
    "lenType": 16,
    "lenVar": 40
   },
   "kernels_config": {
    "python": {
     "delete_cmd_postfix": "",
     "delete_cmd_prefix": "del ",
     "library": "var_list.py",
     "varRefreshCmd": "print(var_dic_list())"
    },
    "r": {
     "delete_cmd_postfix": ") ",
     "delete_cmd_prefix": "rm(",
     "library": "var_list.r",
     "varRefreshCmd": "cat(var_dic_list()) "
    }
   },
   "position": {
    "height": "429.667px",
    "left": "397px",
    "right": "20px",
    "top": "51px",
    "width": "650px"
   },
   "types_to_exclude": [
    "module",
    "function",
    "builtin_function_or_method",
    "instance",
    "_Feature"
   ],
   "window_display": false
  }
 },
 "nbformat": 4,
 "nbformat_minor": 5
}
